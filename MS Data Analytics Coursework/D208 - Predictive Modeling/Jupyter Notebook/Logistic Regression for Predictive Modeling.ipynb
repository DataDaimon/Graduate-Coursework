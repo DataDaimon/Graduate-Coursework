{
 "cells": [
  {
   "cell_type": "code",
   "execution_count": 1,
   "id": "bcad4bef",
   "metadata": {},
   "outputs": [],
   "source": [
    " # Standard imports and visualization, statistics, scikit, scipy libraries\n",
    "import numpy as np\n",
    "import pandas as pd\n",
    "from pandas import Series, DataFrame\n",
    "\n",
    "\n",
    "import seaborn as sns\n",
    "import matplotlib.pyplot as plt\n",
    "%matplotlib inline\n",
    "\n",
    "\n",
    "import pylab\n",
    "from pylab import rcParams\n",
    "import statsmodels.api as sm\n",
    "import statistics\n",
    "from scipy import stats\n",
    "\n",
    "\n",
    "import sklearn\n",
    "from sklearn import preprocessing\n",
    "from sklearn.linear_model import LinearRegression\n",
    "from sklearn.model_selection import train_test_split\n",
    "from sklearn import metrics\n",
    "from sklearn.metrics import classification_report\n",
    "\n",
    "\n",
    "from scipy.stats import chisquare\n",
    "from scipy.stats import chi2_contingency\n",
    "\n",
    "# Skip warning messages\n",
    "import warnings\n",
    "warnings.filterwarnings('ignore')"
   ]
  },
  {
   "cell_type": "code",
   "execution_count": 2,
   "id": "1a1b4f11",
   "metadata": {},
   "outputs": [],
   "source": [
    " # Display matplotlib fonts in more readable format\n",
    "import matplotlib as mpl\n",
    "COLOR = 'white'\n",
    "mpl.rcParams['text.color'] = COLOR\n",
    "mpl.rcParams['axes.labelcolor'] = COLOR\n",
    "mpl.rcParams['xtick.color'] = COLOR\n",
    "mpl.rcParams['ytick.color'] = COLOR"
   ]
  },
  {
   "cell_type": "code",
   "execution_count": 3,
   "id": "659292f3",
   "metadata": {},
   "outputs": [],
   "source": [
    "# Load dataset into a pandas dataframe for analysis\n",
    "churn_df = pd.read_csv('/Users/Richard/OneDrive - Western Governors University/MSDA/D208/Databases/churn/churn_clean.csv')\n",
    "# Rename last 8 survey columns for better description of variables\n",
    "churn_df.rename(columns = {'Item1':'TimelyResponse',\n",
    "'Item2':'Fixes',\n",
    "'Item3':'Replacements',\n",
    "'Item4':'Reliability',\n",
    "'Item5':'Options',\n",
    "'Item6':'Respectfulness',\n",
    "'Item7':'Courteous',\n",
    "'Item8':'Listening'},\n",
    "inplace=True)"
   ]
  },
  {
   "cell_type": "code",
   "execution_count": 4,
   "id": "637d7aac",
   "metadata": {},
   "outputs": [
    {
     "data": {
      "text/html": [
       "<div>\n",
       "<style scoped>\n",
       "    .dataframe tbody tr th:only-of-type {\n",
       "        vertical-align: middle;\n",
       "    }\n",
       "\n",
       "    .dataframe tbody tr th {\n",
       "        vertical-align: top;\n",
       "    }\n",
       "\n",
       "    .dataframe thead th {\n",
       "        text-align: right;\n",
       "    }\n",
       "</style>\n",
       "<table border=\"1\" class=\"dataframe\">\n",
       "  <thead>\n",
       "    <tr style=\"text-align: right;\">\n",
       "      <th></th>\n",
       "      <th>CaseOrder</th>\n",
       "      <th>Customer_id</th>\n",
       "      <th>Interaction</th>\n",
       "      <th>UID</th>\n",
       "      <th>City</th>\n",
       "      <th>State</th>\n",
       "      <th>County</th>\n",
       "      <th>Zip</th>\n",
       "      <th>Lat</th>\n",
       "      <th>Lng</th>\n",
       "      <th>...</th>\n",
       "      <th>MonthlyCharge</th>\n",
       "      <th>Bandwidth_GB_Year</th>\n",
       "      <th>TimelyResponse</th>\n",
       "      <th>Fixes</th>\n",
       "      <th>Replacements</th>\n",
       "      <th>Reliability</th>\n",
       "      <th>Options</th>\n",
       "      <th>Respectfulness</th>\n",
       "      <th>Courteous</th>\n",
       "      <th>Listening</th>\n",
       "    </tr>\n",
       "  </thead>\n",
       "  <tbody>\n",
       "    <tr>\n",
       "      <th>0</th>\n",
       "      <td>1</td>\n",
       "      <td>K409198</td>\n",
       "      <td>aa90260b-4141-4a24-8e36-b04ce1f4f77b</td>\n",
       "      <td>e885b299883d4f9fb18e39c75155d990</td>\n",
       "      <td>Point Baker</td>\n",
       "      <td>AK</td>\n",
       "      <td>Prince of Wales-Hyder</td>\n",
       "      <td>99927</td>\n",
       "      <td>56.25100</td>\n",
       "      <td>-133.37571</td>\n",
       "      <td>...</td>\n",
       "      <td>172.455519</td>\n",
       "      <td>904.536110</td>\n",
       "      <td>5</td>\n",
       "      <td>5</td>\n",
       "      <td>5</td>\n",
       "      <td>3</td>\n",
       "      <td>4</td>\n",
       "      <td>4</td>\n",
       "      <td>3</td>\n",
       "      <td>4</td>\n",
       "    </tr>\n",
       "    <tr>\n",
       "      <th>1</th>\n",
       "      <td>2</td>\n",
       "      <td>S120509</td>\n",
       "      <td>fb76459f-c047-4a9d-8af9-e0f7d4ac2524</td>\n",
       "      <td>f2de8bef964785f41a2959829830fb8a</td>\n",
       "      <td>West Branch</td>\n",
       "      <td>MI</td>\n",
       "      <td>Ogemaw</td>\n",
       "      <td>48661</td>\n",
       "      <td>44.32893</td>\n",
       "      <td>-84.24080</td>\n",
       "      <td>...</td>\n",
       "      <td>242.632554</td>\n",
       "      <td>800.982766</td>\n",
       "      <td>3</td>\n",
       "      <td>4</td>\n",
       "      <td>3</td>\n",
       "      <td>3</td>\n",
       "      <td>4</td>\n",
       "      <td>3</td>\n",
       "      <td>4</td>\n",
       "      <td>4</td>\n",
       "    </tr>\n",
       "    <tr>\n",
       "      <th>2</th>\n",
       "      <td>3</td>\n",
       "      <td>K191035</td>\n",
       "      <td>344d114c-3736-4be5-98f7-c72c281e2d35</td>\n",
       "      <td>f1784cfa9f6d92ae816197eb175d3c71</td>\n",
       "      <td>Yamhill</td>\n",
       "      <td>OR</td>\n",
       "      <td>Yamhill</td>\n",
       "      <td>97148</td>\n",
       "      <td>45.35589</td>\n",
       "      <td>-123.24657</td>\n",
       "      <td>...</td>\n",
       "      <td>159.947583</td>\n",
       "      <td>2054.706961</td>\n",
       "      <td>4</td>\n",
       "      <td>4</td>\n",
       "      <td>2</td>\n",
       "      <td>4</td>\n",
       "      <td>4</td>\n",
       "      <td>3</td>\n",
       "      <td>3</td>\n",
       "      <td>3</td>\n",
       "    </tr>\n",
       "    <tr>\n",
       "      <th>3</th>\n",
       "      <td>4</td>\n",
       "      <td>D90850</td>\n",
       "      <td>abfa2b40-2d43-4994-b15a-989b8c79e311</td>\n",
       "      <td>dc8a365077241bb5cd5ccd305136b05e</td>\n",
       "      <td>Del Mar</td>\n",
       "      <td>CA</td>\n",
       "      <td>San Diego</td>\n",
       "      <td>92014</td>\n",
       "      <td>32.96687</td>\n",
       "      <td>-117.24798</td>\n",
       "      <td>...</td>\n",
       "      <td>119.956840</td>\n",
       "      <td>2164.579412</td>\n",
       "      <td>4</td>\n",
       "      <td>4</td>\n",
       "      <td>4</td>\n",
       "      <td>2</td>\n",
       "      <td>5</td>\n",
       "      <td>4</td>\n",
       "      <td>3</td>\n",
       "      <td>3</td>\n",
       "    </tr>\n",
       "    <tr>\n",
       "      <th>4</th>\n",
       "      <td>5</td>\n",
       "      <td>K662701</td>\n",
       "      <td>68a861fd-0d20-4e51-a587-8a90407ee574</td>\n",
       "      <td>aabb64a116e83fdc4befc1fbab1663f9</td>\n",
       "      <td>Needville</td>\n",
       "      <td>TX</td>\n",
       "      <td>Fort Bend</td>\n",
       "      <td>77461</td>\n",
       "      <td>29.38012</td>\n",
       "      <td>-95.80673</td>\n",
       "      <td>...</td>\n",
       "      <td>149.948316</td>\n",
       "      <td>271.493436</td>\n",
       "      <td>4</td>\n",
       "      <td>4</td>\n",
       "      <td>4</td>\n",
       "      <td>3</td>\n",
       "      <td>4</td>\n",
       "      <td>4</td>\n",
       "      <td>4</td>\n",
       "      <td>5</td>\n",
       "    </tr>\n",
       "    <tr>\n",
       "      <th>...</th>\n",
       "      <td>...</td>\n",
       "      <td>...</td>\n",
       "      <td>...</td>\n",
       "      <td>...</td>\n",
       "      <td>...</td>\n",
       "      <td>...</td>\n",
       "      <td>...</td>\n",
       "      <td>...</td>\n",
       "      <td>...</td>\n",
       "      <td>...</td>\n",
       "      <td>...</td>\n",
       "      <td>...</td>\n",
       "      <td>...</td>\n",
       "      <td>...</td>\n",
       "      <td>...</td>\n",
       "      <td>...</td>\n",
       "      <td>...</td>\n",
       "      <td>...</td>\n",
       "      <td>...</td>\n",
       "      <td>...</td>\n",
       "      <td>...</td>\n",
       "    </tr>\n",
       "    <tr>\n",
       "      <th>9995</th>\n",
       "      <td>9996</td>\n",
       "      <td>M324793</td>\n",
       "      <td>45deb5a2-ae04-4518-bf0b-c82db8dbe4a4</td>\n",
       "      <td>9499fb4de537af195d16d046b79fd20a</td>\n",
       "      <td>Mount Holly</td>\n",
       "      <td>VT</td>\n",
       "      <td>Rutland</td>\n",
       "      <td>5758</td>\n",
       "      <td>43.43391</td>\n",
       "      <td>-72.78734</td>\n",
       "      <td>...</td>\n",
       "      <td>159.979400</td>\n",
       "      <td>6511.252601</td>\n",
       "      <td>3</td>\n",
       "      <td>2</td>\n",
       "      <td>3</td>\n",
       "      <td>3</td>\n",
       "      <td>4</td>\n",
       "      <td>3</td>\n",
       "      <td>2</td>\n",
       "      <td>3</td>\n",
       "    </tr>\n",
       "    <tr>\n",
       "      <th>9996</th>\n",
       "      <td>9997</td>\n",
       "      <td>D861732</td>\n",
       "      <td>6e96b921-0c09-4993-bbda-a1ac6411061a</td>\n",
       "      <td>c09a841117fa81b5c8e19afec2760104</td>\n",
       "      <td>Clarksville</td>\n",
       "      <td>TN</td>\n",
       "      <td>Montgomery</td>\n",
       "      <td>37042</td>\n",
       "      <td>36.56907</td>\n",
       "      <td>-87.41694</td>\n",
       "      <td>...</td>\n",
       "      <td>207.481100</td>\n",
       "      <td>5695.951810</td>\n",
       "      <td>4</td>\n",
       "      <td>5</td>\n",
       "      <td>5</td>\n",
       "      <td>4</td>\n",
       "      <td>4</td>\n",
       "      <td>5</td>\n",
       "      <td>2</td>\n",
       "      <td>5</td>\n",
       "    </tr>\n",
       "    <tr>\n",
       "      <th>9997</th>\n",
       "      <td>9998</td>\n",
       "      <td>I243405</td>\n",
       "      <td>e8307ddf-9a01-4fff-bc59-4742e03fd24f</td>\n",
       "      <td>9c41f212d1e04dca84445019bbc9b41c</td>\n",
       "      <td>Mobeetie</td>\n",
       "      <td>TX</td>\n",
       "      <td>Wheeler</td>\n",
       "      <td>79061</td>\n",
       "      <td>35.52039</td>\n",
       "      <td>-100.44180</td>\n",
       "      <td>...</td>\n",
       "      <td>169.974100</td>\n",
       "      <td>4159.305799</td>\n",
       "      <td>4</td>\n",
       "      <td>4</td>\n",
       "      <td>4</td>\n",
       "      <td>4</td>\n",
       "      <td>4</td>\n",
       "      <td>4</td>\n",
       "      <td>4</td>\n",
       "      <td>5</td>\n",
       "    </tr>\n",
       "    <tr>\n",
       "      <th>9998</th>\n",
       "      <td>9999</td>\n",
       "      <td>I641617</td>\n",
       "      <td>3775ccfc-0052-4107-81ae-9657f81ecdf3</td>\n",
       "      <td>3e1f269b40c235a1038863ecf6b7a0df</td>\n",
       "      <td>Carrollton</td>\n",
       "      <td>GA</td>\n",
       "      <td>Carroll</td>\n",
       "      <td>30117</td>\n",
       "      <td>33.58016</td>\n",
       "      <td>-85.13241</td>\n",
       "      <td>...</td>\n",
       "      <td>252.624000</td>\n",
       "      <td>6468.456752</td>\n",
       "      <td>4</td>\n",
       "      <td>4</td>\n",
       "      <td>6</td>\n",
       "      <td>4</td>\n",
       "      <td>3</td>\n",
       "      <td>3</td>\n",
       "      <td>5</td>\n",
       "      <td>4</td>\n",
       "    </tr>\n",
       "    <tr>\n",
       "      <th>9999</th>\n",
       "      <td>10000</td>\n",
       "      <td>T38070</td>\n",
       "      <td>9de5fb6e-bd33-4995-aec8-f01d0172a499</td>\n",
       "      <td>0ea683a03a3cd544aefe8388aab16176</td>\n",
       "      <td>Clarkesville</td>\n",
       "      <td>GA</td>\n",
       "      <td>Habersham</td>\n",
       "      <td>30523</td>\n",
       "      <td>34.70783</td>\n",
       "      <td>-83.53648</td>\n",
       "      <td>...</td>\n",
       "      <td>217.484000</td>\n",
       "      <td>5857.586167</td>\n",
       "      <td>2</td>\n",
       "      <td>2</td>\n",
       "      <td>3</td>\n",
       "      <td>3</td>\n",
       "      <td>3</td>\n",
       "      <td>3</td>\n",
       "      <td>4</td>\n",
       "      <td>1</td>\n",
       "    </tr>\n",
       "  </tbody>\n",
       "</table>\n",
       "<p>10000 rows × 50 columns</p>\n",
       "</div>"
      ],
      "text/plain": [
       "      CaseOrder Customer_id                           Interaction  \\\n",
       "0             1     K409198  aa90260b-4141-4a24-8e36-b04ce1f4f77b   \n",
       "1             2     S120509  fb76459f-c047-4a9d-8af9-e0f7d4ac2524   \n",
       "2             3     K191035  344d114c-3736-4be5-98f7-c72c281e2d35   \n",
       "3             4      D90850  abfa2b40-2d43-4994-b15a-989b8c79e311   \n",
       "4             5     K662701  68a861fd-0d20-4e51-a587-8a90407ee574   \n",
       "...         ...         ...                                   ...   \n",
       "9995       9996     M324793  45deb5a2-ae04-4518-bf0b-c82db8dbe4a4   \n",
       "9996       9997     D861732  6e96b921-0c09-4993-bbda-a1ac6411061a   \n",
       "9997       9998     I243405  e8307ddf-9a01-4fff-bc59-4742e03fd24f   \n",
       "9998       9999     I641617  3775ccfc-0052-4107-81ae-9657f81ecdf3   \n",
       "9999      10000      T38070  9de5fb6e-bd33-4995-aec8-f01d0172a499   \n",
       "\n",
       "                                   UID          City State  \\\n",
       "0     e885b299883d4f9fb18e39c75155d990   Point Baker    AK   \n",
       "1     f2de8bef964785f41a2959829830fb8a   West Branch    MI   \n",
       "2     f1784cfa9f6d92ae816197eb175d3c71       Yamhill    OR   \n",
       "3     dc8a365077241bb5cd5ccd305136b05e       Del Mar    CA   \n",
       "4     aabb64a116e83fdc4befc1fbab1663f9     Needville    TX   \n",
       "...                                ...           ...   ...   \n",
       "9995  9499fb4de537af195d16d046b79fd20a   Mount Holly    VT   \n",
       "9996  c09a841117fa81b5c8e19afec2760104   Clarksville    TN   \n",
       "9997  9c41f212d1e04dca84445019bbc9b41c      Mobeetie    TX   \n",
       "9998  3e1f269b40c235a1038863ecf6b7a0df    Carrollton    GA   \n",
       "9999  0ea683a03a3cd544aefe8388aab16176  Clarkesville    GA   \n",
       "\n",
       "                     County    Zip       Lat        Lng  ...  MonthlyCharge  \\\n",
       "0     Prince of Wales-Hyder  99927  56.25100 -133.37571  ...     172.455519   \n",
       "1                    Ogemaw  48661  44.32893  -84.24080  ...     242.632554   \n",
       "2                   Yamhill  97148  45.35589 -123.24657  ...     159.947583   \n",
       "3                 San Diego  92014  32.96687 -117.24798  ...     119.956840   \n",
       "4                 Fort Bend  77461  29.38012  -95.80673  ...     149.948316   \n",
       "...                     ...    ...       ...        ...  ...            ...   \n",
       "9995                Rutland   5758  43.43391  -72.78734  ...     159.979400   \n",
       "9996             Montgomery  37042  36.56907  -87.41694  ...     207.481100   \n",
       "9997                Wheeler  79061  35.52039 -100.44180  ...     169.974100   \n",
       "9998                Carroll  30117  33.58016  -85.13241  ...     252.624000   \n",
       "9999              Habersham  30523  34.70783  -83.53648  ...     217.484000   \n",
       "\n",
       "     Bandwidth_GB_Year TimelyResponse Fixes  Replacements  Reliability  \\\n",
       "0           904.536110              5     5             5            3   \n",
       "1           800.982766              3     4             3            3   \n",
       "2          2054.706961              4     4             2            4   \n",
       "3          2164.579412              4     4             4            2   \n",
       "4           271.493436              4     4             4            3   \n",
       "...                ...            ...   ...           ...          ...   \n",
       "9995       6511.252601              3     2             3            3   \n",
       "9996       5695.951810              4     5             5            4   \n",
       "9997       4159.305799              4     4             4            4   \n",
       "9998       6468.456752              4     4             6            4   \n",
       "9999       5857.586167              2     2             3            3   \n",
       "\n",
       "      Options Respectfulness Courteous Listening  \n",
       "0           4              4         3         4  \n",
       "1           4              3         4         4  \n",
       "2           4              3         3         3  \n",
       "3           5              4         3         3  \n",
       "4           4              4         4         5  \n",
       "...       ...            ...       ...       ...  \n",
       "9995        4              3         2         3  \n",
       "9996        4              5         2         5  \n",
       "9997        4              4         4         5  \n",
       "9998        3              3         5         4  \n",
       "9999        3              3         4         1  \n",
       "\n",
       "[10000 rows x 50 columns]"
      ]
     },
     "execution_count": 4,
     "metadata": {},
     "output_type": "execute_result"
    }
   ],
   "source": [
    "# Verify dataframe\n",
    "churn_df"
   ]
  },
  {
   "cell_type": "code",
   "execution_count": 5,
   "id": "8104ecd9",
   "metadata": {},
   "outputs": [
    {
     "name": "stdout",
     "output_type": "stream",
     "text": [
      "Index(['CaseOrder', 'Customer_id', 'Interaction', 'UID', 'City', 'State',\n",
      "       'County', 'Zip', 'Lat', 'Lng', 'Population', 'Area', 'TimeZone', 'Job',\n",
      "       'Children', 'Age', 'Income', 'Marital', 'Gender', 'Churn',\n",
      "       'Outage_sec_perweek', 'Email', 'Contacts', 'Yearly_equip_failure',\n",
      "       'Techie', 'Contract', 'Port_modem', 'Tablet', 'InternetService',\n",
      "       'Phone', 'Multiple', 'OnlineSecurity', 'OnlineBackup',\n",
      "       'DeviceProtection', 'TechSupport', 'StreamingTV', 'StreamingMovies',\n",
      "       'PaperlessBilling', 'PaymentMethod', 'Tenure', 'MonthlyCharge',\n",
      "       'Bandwidth_GB_Year', 'TimelyResponse', 'Fixes', 'Replacements',\n",
      "       'Reliability', 'Options', 'Respectfulness', 'Courteous', 'Listening'],\n",
      "      dtype='object')\n"
     ]
    }
   ],
   "source": [
    " # Verify dataframe columns\n",
    "df = churn_df.columns\n",
    "print(df)"
   ]
  },
  {
   "cell_type": "code",
   "execution_count": 6,
   "id": "d5837eea",
   "metadata": {},
   "outputs": [
    {
     "data": {
      "text/plain": [
       "(10000, 50)"
      ]
     },
     "execution_count": 6,
     "metadata": {},
     "output_type": "execute_result"
    }
   ],
   "source": [
    " # Verify records and columns in dataframe as expected\n",
    "churn_df.shape"
   ]
  },
  {
   "cell_type": "code",
   "execution_count": 7,
   "id": "31b0ca71",
   "metadata": {},
   "outputs": [
    {
     "data": {
      "text/html": [
       "<div>\n",
       "<style scoped>\n",
       "    .dataframe tbody tr th:only-of-type {\n",
       "        vertical-align: middle;\n",
       "    }\n",
       "\n",
       "    .dataframe tbody tr th {\n",
       "        vertical-align: top;\n",
       "    }\n",
       "\n",
       "    .dataframe thead th {\n",
       "        text-align: right;\n",
       "    }\n",
       "</style>\n",
       "<table border=\"1\" class=\"dataframe\">\n",
       "  <thead>\n",
       "    <tr style=\"text-align: right;\">\n",
       "      <th></th>\n",
       "      <th>CaseOrder</th>\n",
       "      <th>Zip</th>\n",
       "      <th>Lat</th>\n",
       "      <th>Lng</th>\n",
       "      <th>Population</th>\n",
       "      <th>Children</th>\n",
       "      <th>Age</th>\n",
       "      <th>Income</th>\n",
       "      <th>Outage_sec_perweek</th>\n",
       "      <th>Email</th>\n",
       "      <th>...</th>\n",
       "      <th>MonthlyCharge</th>\n",
       "      <th>Bandwidth_GB_Year</th>\n",
       "      <th>TimelyResponse</th>\n",
       "      <th>Fixes</th>\n",
       "      <th>Replacements</th>\n",
       "      <th>Reliability</th>\n",
       "      <th>Options</th>\n",
       "      <th>Respectfulness</th>\n",
       "      <th>Courteous</th>\n",
       "      <th>Listening</th>\n",
       "    </tr>\n",
       "  </thead>\n",
       "  <tbody>\n",
       "    <tr>\n",
       "      <th>count</th>\n",
       "      <td>10000.00000</td>\n",
       "      <td>10000.000000</td>\n",
       "      <td>10000.000000</td>\n",
       "      <td>10000.000000</td>\n",
       "      <td>10000.000000</td>\n",
       "      <td>10000.0000</td>\n",
       "      <td>10000.000000</td>\n",
       "      <td>10000.000000</td>\n",
       "      <td>10000.000000</td>\n",
       "      <td>10000.000000</td>\n",
       "      <td>...</td>\n",
       "      <td>10000.000000</td>\n",
       "      <td>10000.000000</td>\n",
       "      <td>10000.000000</td>\n",
       "      <td>10000.000000</td>\n",
       "      <td>10000.000000</td>\n",
       "      <td>10000.000000</td>\n",
       "      <td>10000.000000</td>\n",
       "      <td>10000.000000</td>\n",
       "      <td>10000.000000</td>\n",
       "      <td>10000.000000</td>\n",
       "    </tr>\n",
       "    <tr>\n",
       "      <th>mean</th>\n",
       "      <td>5000.50000</td>\n",
       "      <td>49153.319600</td>\n",
       "      <td>38.757567</td>\n",
       "      <td>-90.782536</td>\n",
       "      <td>9756.562400</td>\n",
       "      <td>2.0877</td>\n",
       "      <td>53.078400</td>\n",
       "      <td>39806.926771</td>\n",
       "      <td>10.001848</td>\n",
       "      <td>12.016000</td>\n",
       "      <td>...</td>\n",
       "      <td>172.624816</td>\n",
       "      <td>3392.341550</td>\n",
       "      <td>3.490800</td>\n",
       "      <td>3.505100</td>\n",
       "      <td>3.487000</td>\n",
       "      <td>3.497500</td>\n",
       "      <td>3.492900</td>\n",
       "      <td>3.497300</td>\n",
       "      <td>3.509500</td>\n",
       "      <td>3.495600</td>\n",
       "    </tr>\n",
       "    <tr>\n",
       "      <th>std</th>\n",
       "      <td>2886.89568</td>\n",
       "      <td>27532.196108</td>\n",
       "      <td>5.437389</td>\n",
       "      <td>15.156142</td>\n",
       "      <td>14432.698671</td>\n",
       "      <td>2.1472</td>\n",
       "      <td>20.698882</td>\n",
       "      <td>28199.916702</td>\n",
       "      <td>2.976019</td>\n",
       "      <td>3.025898</td>\n",
       "      <td>...</td>\n",
       "      <td>42.943094</td>\n",
       "      <td>2185.294852</td>\n",
       "      <td>1.037797</td>\n",
       "      <td>1.034641</td>\n",
       "      <td>1.027977</td>\n",
       "      <td>1.025816</td>\n",
       "      <td>1.024819</td>\n",
       "      <td>1.033586</td>\n",
       "      <td>1.028502</td>\n",
       "      <td>1.028633</td>\n",
       "    </tr>\n",
       "    <tr>\n",
       "      <th>min</th>\n",
       "      <td>1.00000</td>\n",
       "      <td>601.000000</td>\n",
       "      <td>17.966120</td>\n",
       "      <td>-171.688150</td>\n",
       "      <td>0.000000</td>\n",
       "      <td>0.0000</td>\n",
       "      <td>18.000000</td>\n",
       "      <td>348.670000</td>\n",
       "      <td>0.099747</td>\n",
       "      <td>1.000000</td>\n",
       "      <td>...</td>\n",
       "      <td>79.978860</td>\n",
       "      <td>155.506715</td>\n",
       "      <td>1.000000</td>\n",
       "      <td>1.000000</td>\n",
       "      <td>1.000000</td>\n",
       "      <td>1.000000</td>\n",
       "      <td>1.000000</td>\n",
       "      <td>1.000000</td>\n",
       "      <td>1.000000</td>\n",
       "      <td>1.000000</td>\n",
       "    </tr>\n",
       "    <tr>\n",
       "      <th>25%</th>\n",
       "      <td>2500.75000</td>\n",
       "      <td>26292.500000</td>\n",
       "      <td>35.341828</td>\n",
       "      <td>-97.082812</td>\n",
       "      <td>738.000000</td>\n",
       "      <td>0.0000</td>\n",
       "      <td>35.000000</td>\n",
       "      <td>19224.717500</td>\n",
       "      <td>8.018214</td>\n",
       "      <td>10.000000</td>\n",
       "      <td>...</td>\n",
       "      <td>139.979239</td>\n",
       "      <td>1236.470827</td>\n",
       "      <td>3.000000</td>\n",
       "      <td>3.000000</td>\n",
       "      <td>3.000000</td>\n",
       "      <td>3.000000</td>\n",
       "      <td>3.000000</td>\n",
       "      <td>3.000000</td>\n",
       "      <td>3.000000</td>\n",
       "      <td>3.000000</td>\n",
       "    </tr>\n",
       "    <tr>\n",
       "      <th>50%</th>\n",
       "      <td>5000.50000</td>\n",
       "      <td>48869.500000</td>\n",
       "      <td>39.395800</td>\n",
       "      <td>-87.918800</td>\n",
       "      <td>2910.500000</td>\n",
       "      <td>1.0000</td>\n",
       "      <td>53.000000</td>\n",
       "      <td>33170.605000</td>\n",
       "      <td>10.018560</td>\n",
       "      <td>12.000000</td>\n",
       "      <td>...</td>\n",
       "      <td>167.484700</td>\n",
       "      <td>3279.536903</td>\n",
       "      <td>3.000000</td>\n",
       "      <td>4.000000</td>\n",
       "      <td>3.000000</td>\n",
       "      <td>3.000000</td>\n",
       "      <td>3.000000</td>\n",
       "      <td>3.000000</td>\n",
       "      <td>4.000000</td>\n",
       "      <td>3.000000</td>\n",
       "    </tr>\n",
       "    <tr>\n",
       "      <th>75%</th>\n",
       "      <td>7500.25000</td>\n",
       "      <td>71866.500000</td>\n",
       "      <td>42.106908</td>\n",
       "      <td>-80.088745</td>\n",
       "      <td>13168.000000</td>\n",
       "      <td>3.0000</td>\n",
       "      <td>71.000000</td>\n",
       "      <td>53246.170000</td>\n",
       "      <td>11.969485</td>\n",
       "      <td>14.000000</td>\n",
       "      <td>...</td>\n",
       "      <td>200.734725</td>\n",
       "      <td>5586.141370</td>\n",
       "      <td>4.000000</td>\n",
       "      <td>4.000000</td>\n",
       "      <td>4.000000</td>\n",
       "      <td>4.000000</td>\n",
       "      <td>4.000000</td>\n",
       "      <td>4.000000</td>\n",
       "      <td>4.000000</td>\n",
       "      <td>4.000000</td>\n",
       "    </tr>\n",
       "    <tr>\n",
       "      <th>max</th>\n",
       "      <td>10000.00000</td>\n",
       "      <td>99929.000000</td>\n",
       "      <td>70.640660</td>\n",
       "      <td>-65.667850</td>\n",
       "      <td>111850.000000</td>\n",
       "      <td>10.0000</td>\n",
       "      <td>89.000000</td>\n",
       "      <td>258900.700000</td>\n",
       "      <td>21.207230</td>\n",
       "      <td>23.000000</td>\n",
       "      <td>...</td>\n",
       "      <td>290.160419</td>\n",
       "      <td>7158.981530</td>\n",
       "      <td>7.000000</td>\n",
       "      <td>7.000000</td>\n",
       "      <td>8.000000</td>\n",
       "      <td>7.000000</td>\n",
       "      <td>7.000000</td>\n",
       "      <td>8.000000</td>\n",
       "      <td>7.000000</td>\n",
       "      <td>8.000000</td>\n",
       "    </tr>\n",
       "  </tbody>\n",
       "</table>\n",
       "<p>8 rows × 23 columns</p>\n",
       "</div>"
      ],
      "text/plain": [
       "         CaseOrder           Zip           Lat           Lng     Population  \\\n",
       "count  10000.00000  10000.000000  10000.000000  10000.000000   10000.000000   \n",
       "mean    5000.50000  49153.319600     38.757567    -90.782536    9756.562400   \n",
       "std     2886.89568  27532.196108      5.437389     15.156142   14432.698671   \n",
       "min        1.00000    601.000000     17.966120   -171.688150       0.000000   \n",
       "25%     2500.75000  26292.500000     35.341828    -97.082812     738.000000   \n",
       "50%     5000.50000  48869.500000     39.395800    -87.918800    2910.500000   \n",
       "75%     7500.25000  71866.500000     42.106908    -80.088745   13168.000000   \n",
       "max    10000.00000  99929.000000     70.640660    -65.667850  111850.000000   \n",
       "\n",
       "         Children           Age         Income  Outage_sec_perweek  \\\n",
       "count  10000.0000  10000.000000   10000.000000        10000.000000   \n",
       "mean       2.0877     53.078400   39806.926771           10.001848   \n",
       "std        2.1472     20.698882   28199.916702            2.976019   \n",
       "min        0.0000     18.000000     348.670000            0.099747   \n",
       "25%        0.0000     35.000000   19224.717500            8.018214   \n",
       "50%        1.0000     53.000000   33170.605000           10.018560   \n",
       "75%        3.0000     71.000000   53246.170000           11.969485   \n",
       "max       10.0000     89.000000  258900.700000           21.207230   \n",
       "\n",
       "              Email  ...  MonthlyCharge  Bandwidth_GB_Year  TimelyResponse  \\\n",
       "count  10000.000000  ...   10000.000000       10000.000000    10000.000000   \n",
       "mean      12.016000  ...     172.624816        3392.341550        3.490800   \n",
       "std        3.025898  ...      42.943094        2185.294852        1.037797   \n",
       "min        1.000000  ...      79.978860         155.506715        1.000000   \n",
       "25%       10.000000  ...     139.979239        1236.470827        3.000000   \n",
       "50%       12.000000  ...     167.484700        3279.536903        3.000000   \n",
       "75%       14.000000  ...     200.734725        5586.141370        4.000000   \n",
       "max       23.000000  ...     290.160419        7158.981530        7.000000   \n",
       "\n",
       "              Fixes  Replacements   Reliability       Options  Respectfulness  \\\n",
       "count  10000.000000  10000.000000  10000.000000  10000.000000    10000.000000   \n",
       "mean       3.505100      3.487000      3.497500      3.492900        3.497300   \n",
       "std        1.034641      1.027977      1.025816      1.024819        1.033586   \n",
       "min        1.000000      1.000000      1.000000      1.000000        1.000000   \n",
       "25%        3.000000      3.000000      3.000000      3.000000        3.000000   \n",
       "50%        4.000000      3.000000      3.000000      3.000000        3.000000   \n",
       "75%        4.000000      4.000000      4.000000      4.000000        4.000000   \n",
       "max        7.000000      8.000000      7.000000      7.000000        8.000000   \n",
       "\n",
       "          Courteous     Listening  \n",
       "count  10000.000000  10000.000000  \n",
       "mean       3.509500      3.495600  \n",
       "std        1.028502      1.028633  \n",
       "min        1.000000      1.000000  \n",
       "25%        3.000000      3.000000  \n",
       "50%        4.000000      3.000000  \n",
       "75%        4.000000      4.000000  \n",
       "max        7.000000      8.000000  \n",
       "\n",
       "[8 rows x 23 columns]"
      ]
     },
     "execution_count": 7,
     "metadata": {},
     "output_type": "execute_result"
    }
   ],
   "source": [
    " # Use describe function to describe churn statistics\n",
    "churn_df.describe()"
   ]
  },
  {
   "cell_type": "code",
   "execution_count": 8,
   "id": "534c71e7",
   "metadata": {},
   "outputs": [
    {
     "data": {
      "text/html": [
       "<div>\n",
       "<style scoped>\n",
       "    .dataframe tbody tr th:only-of-type {\n",
       "        vertical-align: middle;\n",
       "    }\n",
       "\n",
       "    .dataframe tbody tr th {\n",
       "        vertical-align: top;\n",
       "    }\n",
       "\n",
       "    .dataframe thead th {\n",
       "        text-align: right;\n",
       "    }\n",
       "</style>\n",
       "<table border=\"1\" class=\"dataframe\">\n",
       "  <thead>\n",
       "    <tr style=\"text-align: right;\">\n",
       "      <th></th>\n",
       "      <th>Children</th>\n",
       "      <th>Age</th>\n",
       "      <th>Income</th>\n",
       "      <th>Outage_sec_perweek</th>\n",
       "      <th>Email</th>\n",
       "      <th>Contacts</th>\n",
       "      <th>Yearly_equip_failure</th>\n",
       "      <th>Tenure</th>\n",
       "      <th>MonthlyCharge</th>\n",
       "      <th>Bandwidth_GB_Year</th>\n",
       "      <th>TimelyResponse</th>\n",
       "      <th>Fixes</th>\n",
       "      <th>Replacements</th>\n",
       "      <th>Reliability</th>\n",
       "      <th>Options</th>\n",
       "      <th>Respectfulness</th>\n",
       "      <th>Courteous</th>\n",
       "      <th>Listening</th>\n",
       "    </tr>\n",
       "  </thead>\n",
       "  <tbody>\n",
       "    <tr>\n",
       "      <th>count</th>\n",
       "      <td>10000.0000</td>\n",
       "      <td>10000.000000</td>\n",
       "      <td>10000.000000</td>\n",
       "      <td>10000.000000</td>\n",
       "      <td>10000.000000</td>\n",
       "      <td>10000.000000</td>\n",
       "      <td>10000.000000</td>\n",
       "      <td>10000.000000</td>\n",
       "      <td>10000.000000</td>\n",
       "      <td>10000.000000</td>\n",
       "      <td>10000.000000</td>\n",
       "      <td>10000.000000</td>\n",
       "      <td>10000.000000</td>\n",
       "      <td>10000.000000</td>\n",
       "      <td>10000.000000</td>\n",
       "      <td>10000.000000</td>\n",
       "      <td>10000.000000</td>\n",
       "      <td>10000.000000</td>\n",
       "    </tr>\n",
       "    <tr>\n",
       "      <th>mean</th>\n",
       "      <td>2.0877</td>\n",
       "      <td>53.078400</td>\n",
       "      <td>39806.926771</td>\n",
       "      <td>10.001848</td>\n",
       "      <td>12.016000</td>\n",
       "      <td>0.994200</td>\n",
       "      <td>0.398000</td>\n",
       "      <td>34.526188</td>\n",
       "      <td>172.624816</td>\n",
       "      <td>3392.341550</td>\n",
       "      <td>3.490800</td>\n",
       "      <td>3.505100</td>\n",
       "      <td>3.487000</td>\n",
       "      <td>3.497500</td>\n",
       "      <td>3.492900</td>\n",
       "      <td>3.497300</td>\n",
       "      <td>3.509500</td>\n",
       "      <td>3.495600</td>\n",
       "    </tr>\n",
       "    <tr>\n",
       "      <th>std</th>\n",
       "      <td>2.1472</td>\n",
       "      <td>20.698882</td>\n",
       "      <td>28199.916702</td>\n",
       "      <td>2.976019</td>\n",
       "      <td>3.025898</td>\n",
       "      <td>0.988466</td>\n",
       "      <td>0.635953</td>\n",
       "      <td>26.443063</td>\n",
       "      <td>42.943094</td>\n",
       "      <td>2185.294852</td>\n",
       "      <td>1.037797</td>\n",
       "      <td>1.034641</td>\n",
       "      <td>1.027977</td>\n",
       "      <td>1.025816</td>\n",
       "      <td>1.024819</td>\n",
       "      <td>1.033586</td>\n",
       "      <td>1.028502</td>\n",
       "      <td>1.028633</td>\n",
       "    </tr>\n",
       "    <tr>\n",
       "      <th>min</th>\n",
       "      <td>0.0000</td>\n",
       "      <td>18.000000</td>\n",
       "      <td>348.670000</td>\n",
       "      <td>0.099747</td>\n",
       "      <td>1.000000</td>\n",
       "      <td>0.000000</td>\n",
       "      <td>0.000000</td>\n",
       "      <td>1.000259</td>\n",
       "      <td>79.978860</td>\n",
       "      <td>155.506715</td>\n",
       "      <td>1.000000</td>\n",
       "      <td>1.000000</td>\n",
       "      <td>1.000000</td>\n",
       "      <td>1.000000</td>\n",
       "      <td>1.000000</td>\n",
       "      <td>1.000000</td>\n",
       "      <td>1.000000</td>\n",
       "      <td>1.000000</td>\n",
       "    </tr>\n",
       "    <tr>\n",
       "      <th>25%</th>\n",
       "      <td>0.0000</td>\n",
       "      <td>35.000000</td>\n",
       "      <td>19224.717500</td>\n",
       "      <td>8.018214</td>\n",
       "      <td>10.000000</td>\n",
       "      <td>0.000000</td>\n",
       "      <td>0.000000</td>\n",
       "      <td>7.917694</td>\n",
       "      <td>139.979239</td>\n",
       "      <td>1236.470827</td>\n",
       "      <td>3.000000</td>\n",
       "      <td>3.000000</td>\n",
       "      <td>3.000000</td>\n",
       "      <td>3.000000</td>\n",
       "      <td>3.000000</td>\n",
       "      <td>3.000000</td>\n",
       "      <td>3.000000</td>\n",
       "      <td>3.000000</td>\n",
       "    </tr>\n",
       "    <tr>\n",
       "      <th>50%</th>\n",
       "      <td>1.0000</td>\n",
       "      <td>53.000000</td>\n",
       "      <td>33170.605000</td>\n",
       "      <td>10.018560</td>\n",
       "      <td>12.000000</td>\n",
       "      <td>1.000000</td>\n",
       "      <td>0.000000</td>\n",
       "      <td>35.430507</td>\n",
       "      <td>167.484700</td>\n",
       "      <td>3279.536903</td>\n",
       "      <td>3.000000</td>\n",
       "      <td>4.000000</td>\n",
       "      <td>3.000000</td>\n",
       "      <td>3.000000</td>\n",
       "      <td>3.000000</td>\n",
       "      <td>3.000000</td>\n",
       "      <td>4.000000</td>\n",
       "      <td>3.000000</td>\n",
       "    </tr>\n",
       "    <tr>\n",
       "      <th>75%</th>\n",
       "      <td>3.0000</td>\n",
       "      <td>71.000000</td>\n",
       "      <td>53246.170000</td>\n",
       "      <td>11.969485</td>\n",
       "      <td>14.000000</td>\n",
       "      <td>2.000000</td>\n",
       "      <td>1.000000</td>\n",
       "      <td>61.479795</td>\n",
       "      <td>200.734725</td>\n",
       "      <td>5586.141370</td>\n",
       "      <td>4.000000</td>\n",
       "      <td>4.000000</td>\n",
       "      <td>4.000000</td>\n",
       "      <td>4.000000</td>\n",
       "      <td>4.000000</td>\n",
       "      <td>4.000000</td>\n",
       "      <td>4.000000</td>\n",
       "      <td>4.000000</td>\n",
       "    </tr>\n",
       "    <tr>\n",
       "      <th>max</th>\n",
       "      <td>10.0000</td>\n",
       "      <td>89.000000</td>\n",
       "      <td>258900.700000</td>\n",
       "      <td>21.207230</td>\n",
       "      <td>23.000000</td>\n",
       "      <td>7.000000</td>\n",
       "      <td>6.000000</td>\n",
       "      <td>71.999280</td>\n",
       "      <td>290.160419</td>\n",
       "      <td>7158.981530</td>\n",
       "      <td>7.000000</td>\n",
       "      <td>7.000000</td>\n",
       "      <td>8.000000</td>\n",
       "      <td>7.000000</td>\n",
       "      <td>7.000000</td>\n",
       "      <td>8.000000</td>\n",
       "      <td>7.000000</td>\n",
       "      <td>8.000000</td>\n",
       "    </tr>\n",
       "  </tbody>\n",
       "</table>\n",
       "</div>"
      ],
      "text/plain": [
       "         Children           Age         Income  Outage_sec_perweek  \\\n",
       "count  10000.0000  10000.000000   10000.000000        10000.000000   \n",
       "mean       2.0877     53.078400   39806.926771           10.001848   \n",
       "std        2.1472     20.698882   28199.916702            2.976019   \n",
       "min        0.0000     18.000000     348.670000            0.099747   \n",
       "25%        0.0000     35.000000   19224.717500            8.018214   \n",
       "50%        1.0000     53.000000   33170.605000           10.018560   \n",
       "75%        3.0000     71.000000   53246.170000           11.969485   \n",
       "max       10.0000     89.000000  258900.700000           21.207230   \n",
       "\n",
       "              Email      Contacts  Yearly_equip_failure        Tenure  \\\n",
       "count  10000.000000  10000.000000          10000.000000  10000.000000   \n",
       "mean      12.016000      0.994200              0.398000     34.526188   \n",
       "std        3.025898      0.988466              0.635953     26.443063   \n",
       "min        1.000000      0.000000              0.000000      1.000259   \n",
       "25%       10.000000      0.000000              0.000000      7.917694   \n",
       "50%       12.000000      1.000000              0.000000     35.430507   \n",
       "75%       14.000000      2.000000              1.000000     61.479795   \n",
       "max       23.000000      7.000000              6.000000     71.999280   \n",
       "\n",
       "       MonthlyCharge  Bandwidth_GB_Year  TimelyResponse         Fixes  \\\n",
       "count   10000.000000       10000.000000    10000.000000  10000.000000   \n",
       "mean      172.624816        3392.341550        3.490800      3.505100   \n",
       "std        42.943094        2185.294852        1.037797      1.034641   \n",
       "min        79.978860         155.506715        1.000000      1.000000   \n",
       "25%       139.979239        1236.470827        3.000000      3.000000   \n",
       "50%       167.484700        3279.536903        3.000000      4.000000   \n",
       "75%       200.734725        5586.141370        4.000000      4.000000   \n",
       "max       290.160419        7158.981530        7.000000      7.000000   \n",
       "\n",
       "       Replacements   Reliability       Options  Respectfulness     Courteous  \\\n",
       "count  10000.000000  10000.000000  10000.000000    10000.000000  10000.000000   \n",
       "mean       3.487000      3.497500      3.492900        3.497300      3.509500   \n",
       "std        1.027977      1.025816      1.024819        1.033586      1.028502   \n",
       "min        1.000000      1.000000      1.000000        1.000000      1.000000   \n",
       "25%        3.000000      3.000000      3.000000        3.000000      3.000000   \n",
       "50%        3.000000      3.000000      3.000000        3.000000      4.000000   \n",
       "75%        4.000000      4.000000      4.000000        4.000000      4.000000   \n",
       "max        8.000000      7.000000      7.000000        8.000000      7.000000   \n",
       "\n",
       "          Listening  \n",
       "count  10000.000000  \n",
       "mean       3.495600  \n",
       "std        1.028633  \n",
       "min        1.000000  \n",
       "25%        3.000000  \n",
       "50%        3.000000  \n",
       "75%        4.000000  \n",
       "max        8.000000  "
      ]
     },
     "execution_count": 8,
     "metadata": {},
     "output_type": "execute_result"
    }
   ],
   "source": [
    "# Delete variable features that are not relevant to the analysis\n",
    "churn_df = churn_df.drop(columns=['Area', 'CaseOrder', 'City', 'County', 'Customer_id', 'Interaction', 'Job', 'Lat', 'Lng',\n",
    "                                  'Marital','PaymentMethod','Population','State','TimeZone','UID','Zip'])\n",
    "churn_df.describe()"
   ]
  },
  {
   "cell_type": "code",
   "execution_count": 9,
   "id": "f8f54d09",
   "metadata": {},
   "outputs": [
    {
     "name": "stdout",
     "output_type": "stream",
     "text": [
      "Children                0\n",
      "Age                     0\n",
      "Income                  0\n",
      "Gender                  0\n",
      "Churn                   0\n",
      "Outage_sec_perweek      0\n",
      "Email                   0\n",
      "Contacts                0\n",
      "Yearly_equip_failure    0\n",
      "Techie                  0\n",
      "Contract                0\n",
      "Port_modem              0\n",
      "Tablet                  0\n",
      "InternetService         0\n",
      "Phone                   0\n",
      "Multiple                0\n",
      "OnlineSecurity          0\n",
      "OnlineBackup            0\n",
      "DeviceProtection        0\n",
      "TechSupport             0\n",
      "StreamingTV             0\n",
      "StreamingMovies         0\n",
      "PaperlessBilling        0\n",
      "Tenure                  0\n",
      "MonthlyCharge           0\n",
      "Bandwidth_GB_Year       0\n",
      "TimelyResponse          0\n",
      "Fixes                   0\n",
      "Replacements            0\n",
      "Reliability             0\n",
      "Options                 0\n",
      "Respectfulness          0\n",
      "Courteous               0\n",
      "Listening               0\n",
      "dtype: int64\n"
     ]
    }
   ],
   "source": [
    " # Verify there are no missing datapoints in the dataframe\n",
    "data_nulls = churn_df.isnull().sum()\n",
    "print(data_nulls)"
   ]
  },
  {
   "cell_type": "code",
   "execution_count": 10,
   "id": "0530e10e",
   "metadata": {},
   "outputs": [],
   "source": [
    "# Convert all \"Yes/No\" data into binary \"1/0\" representation\n",
    "churn_df['DummyChurn'] = [1 if v == 'Yes' else 0 for v in churn_df['Churn']]\n",
    "churn_df['DummyContract'] = [1 if v == 'Two Year' else 0 for v in churn_df['Contract']]\n",
    "churn_df['DummyDeviceProtection'] = [1 if v == 'Yes' else 0 for v in churn_df['DeviceProtection']]\n",
    "churn_df['DummyGender'] = [1 if v == 'Male' else 0 for v in churn_df['Gender']]\n",
    "churn_df['DummyInternetService'] = [1 if v == 'Fiber Optic' else 0 for v in churn_df['InternetService']]\n",
    "churn_df['DummyMultiple'] = [1 if v == 'Yes' else 0 for v in churn_df['Multiple']]\n",
    "churn_df['DummyOnlineBackup'] = [1 if v == 'Yes' else 0 for v in churn_df['OnlineBackup']]\n",
    "churn_df['DummyOnlineSecurity'] = [1 if v == 'Yes' else 0 for v in churn_df['OnlineSecurity']]\n",
    "churn_df['DummyPaperlessBilling'] = [1 if v == 'Yes' else 0 for v in churn_df['PaperlessBilling']]\n",
    "churn_df['DummyPhone'] = [1 if v == 'Yes' else 0 for v in churn_df['Phone']]\n",
    "churn_df['DummyPort_modem'] = [1 if v == 'Yes' else 0 for v in churn_df['Port_modem']]\n",
    "churn_df['DummyStreamingTV'] = [1 if v == 'Yes' else 0 for v in churn_df['StreamingTV']]\n",
    "churn_df['DummyTablet'] = [1 if v == 'Yes' else 0 for v in churn_df['Tablet']]\n",
    "churn_df['DummyTechSupport'] = [1 if v == 'Yes' else 0 for v in churn_df['TechSupport']]\n",
    "churn_df['DummyTechie'] = [1 if v == 'Yes' else 0 for v in churn_df['Techie']]\n",
    "churn_df['StreamingMovies'] = [1 if v == 'Yes' else 0 for v in churn_df['StreamingMovies']]\n"
   ]
  },
  {
   "cell_type": "code",
   "execution_count": 11,
   "id": "f6c4bec6",
   "metadata": {},
   "outputs": [
    {
     "data": {
      "text/html": [
       "<div>\n",
       "<style scoped>\n",
       "    .dataframe tbody tr th:only-of-type {\n",
       "        vertical-align: middle;\n",
       "    }\n",
       "\n",
       "    .dataframe tbody tr th {\n",
       "        vertical-align: top;\n",
       "    }\n",
       "\n",
       "    .dataframe thead th {\n",
       "        text-align: right;\n",
       "    }\n",
       "</style>\n",
       "<table border=\"1\" class=\"dataframe\">\n",
       "  <thead>\n",
       "    <tr style=\"text-align: right;\">\n",
       "      <th></th>\n",
       "      <th>Children</th>\n",
       "      <th>Age</th>\n",
       "      <th>Income</th>\n",
       "      <th>Gender</th>\n",
       "      <th>Churn</th>\n",
       "      <th>Outage_sec_perweek</th>\n",
       "      <th>Email</th>\n",
       "      <th>Contacts</th>\n",
       "      <th>Yearly_equip_failure</th>\n",
       "      <th>Techie</th>\n",
       "      <th>...</th>\n",
       "      <th>DummyMultiple</th>\n",
       "      <th>DummyOnlineBackup</th>\n",
       "      <th>DummyOnlineSecurity</th>\n",
       "      <th>DummyPaperlessBilling</th>\n",
       "      <th>DummyPhone</th>\n",
       "      <th>DummyPort_modem</th>\n",
       "      <th>DummyStreamingTV</th>\n",
       "      <th>DummyTablet</th>\n",
       "      <th>DummyTechSupport</th>\n",
       "      <th>DummyTechie</th>\n",
       "    </tr>\n",
       "  </thead>\n",
       "  <tbody>\n",
       "    <tr>\n",
       "      <th>0</th>\n",
       "      <td>0</td>\n",
       "      <td>68</td>\n",
       "      <td>28561.99</td>\n",
       "      <td>Male</td>\n",
       "      <td>No</td>\n",
       "      <td>7.978323</td>\n",
       "      <td>10</td>\n",
       "      <td>0</td>\n",
       "      <td>1</td>\n",
       "      <td>No</td>\n",
       "      <td>...</td>\n",
       "      <td>0</td>\n",
       "      <td>1</td>\n",
       "      <td>1</td>\n",
       "      <td>1</td>\n",
       "      <td>1</td>\n",
       "      <td>1</td>\n",
       "      <td>0</td>\n",
       "      <td>1</td>\n",
       "      <td>0</td>\n",
       "      <td>0</td>\n",
       "    </tr>\n",
       "    <tr>\n",
       "      <th>1</th>\n",
       "      <td>1</td>\n",
       "      <td>27</td>\n",
       "      <td>21704.77</td>\n",
       "      <td>Female</td>\n",
       "      <td>Yes</td>\n",
       "      <td>11.699080</td>\n",
       "      <td>12</td>\n",
       "      <td>0</td>\n",
       "      <td>1</td>\n",
       "      <td>Yes</td>\n",
       "      <td>...</td>\n",
       "      <td>1</td>\n",
       "      <td>0</td>\n",
       "      <td>1</td>\n",
       "      <td>1</td>\n",
       "      <td>1</td>\n",
       "      <td>0</td>\n",
       "      <td>1</td>\n",
       "      <td>1</td>\n",
       "      <td>0</td>\n",
       "      <td>1</td>\n",
       "    </tr>\n",
       "    <tr>\n",
       "      <th>2</th>\n",
       "      <td>4</td>\n",
       "      <td>50</td>\n",
       "      <td>9609.57</td>\n",
       "      <td>Female</td>\n",
       "      <td>No</td>\n",
       "      <td>10.752800</td>\n",
       "      <td>9</td>\n",
       "      <td>0</td>\n",
       "      <td>1</td>\n",
       "      <td>Yes</td>\n",
       "      <td>...</td>\n",
       "      <td>1</td>\n",
       "      <td>0</td>\n",
       "      <td>0</td>\n",
       "      <td>1</td>\n",
       "      <td>1</td>\n",
       "      <td>1</td>\n",
       "      <td>0</td>\n",
       "      <td>0</td>\n",
       "      <td>0</td>\n",
       "      <td>1</td>\n",
       "    </tr>\n",
       "    <tr>\n",
       "      <th>3</th>\n",
       "      <td>1</td>\n",
       "      <td>48</td>\n",
       "      <td>18925.23</td>\n",
       "      <td>Male</td>\n",
       "      <td>No</td>\n",
       "      <td>14.913540</td>\n",
       "      <td>15</td>\n",
       "      <td>2</td>\n",
       "      <td>0</td>\n",
       "      <td>Yes</td>\n",
       "      <td>...</td>\n",
       "      <td>0</td>\n",
       "      <td>0</td>\n",
       "      <td>1</td>\n",
       "      <td>1</td>\n",
       "      <td>1</td>\n",
       "      <td>0</td>\n",
       "      <td>1</td>\n",
       "      <td>0</td>\n",
       "      <td>0</td>\n",
       "      <td>1</td>\n",
       "    </tr>\n",
       "    <tr>\n",
       "      <th>4</th>\n",
       "      <td>0</td>\n",
       "      <td>83</td>\n",
       "      <td>40074.19</td>\n",
       "      <td>Male</td>\n",
       "      <td>Yes</td>\n",
       "      <td>8.147417</td>\n",
       "      <td>16</td>\n",
       "      <td>2</td>\n",
       "      <td>1</td>\n",
       "      <td>No</td>\n",
       "      <td>...</td>\n",
       "      <td>0</td>\n",
       "      <td>0</td>\n",
       "      <td>0</td>\n",
       "      <td>0</td>\n",
       "      <td>0</td>\n",
       "      <td>1</td>\n",
       "      <td>1</td>\n",
       "      <td>0</td>\n",
       "      <td>1</td>\n",
       "      <td>0</td>\n",
       "    </tr>\n",
       "  </tbody>\n",
       "</table>\n",
       "<p>5 rows × 49 columns</p>\n",
       "</div>"
      ],
      "text/plain": [
       "   Children  Age    Income  Gender Churn  Outage_sec_perweek  Email  Contacts  \\\n",
       "0         0   68  28561.99    Male    No            7.978323     10         0   \n",
       "1         1   27  21704.77  Female   Yes           11.699080     12         0   \n",
       "2         4   50   9609.57  Female    No           10.752800      9         0   \n",
       "3         1   48  18925.23    Male    No           14.913540     15         2   \n",
       "4         0   83  40074.19    Male   Yes            8.147417     16         2   \n",
       "\n",
       "   Yearly_equip_failure Techie  ... DummyMultiple DummyOnlineBackup  \\\n",
       "0                     1     No  ...             0                 1   \n",
       "1                     1    Yes  ...             1                 0   \n",
       "2                     1    Yes  ...             1                 0   \n",
       "3                     0    Yes  ...             0                 0   \n",
       "4                     1     No  ...             0                 0   \n",
       "\n",
       "  DummyOnlineSecurity DummyPaperlessBilling DummyPhone DummyPort_modem  \\\n",
       "0                   1                     1          1               1   \n",
       "1                   1                     1          1               0   \n",
       "2                   0                     1          1               1   \n",
       "3                   1                     1          1               0   \n",
       "4                   0                     0          0               1   \n",
       "\n",
       "  DummyStreamingTV DummyTablet DummyTechSupport DummyTechie  \n",
       "0                0           1                0           0  \n",
       "1                1           1                0           1  \n",
       "2                0           0                0           1  \n",
       "3                1           0                0           1  \n",
       "4                1           0                1           0  \n",
       "\n",
       "[5 rows x 49 columns]"
      ]
     },
     "execution_count": 11,
     "metadata": {},
     "output_type": "execute_result"
    }
   ],
   "source": [
    " churn_df.head()"
   ]
  },
  {
   "cell_type": "code",
   "execution_count": 12,
   "id": "a0946356",
   "metadata": {},
   "outputs": [
    {
     "data": {
      "text/html": [
       "<div>\n",
       "<style scoped>\n",
       "    .dataframe tbody tr th:only-of-type {\n",
       "        vertical-align: middle;\n",
       "    }\n",
       "\n",
       "    .dataframe tbody tr th {\n",
       "        vertical-align: top;\n",
       "    }\n",
       "\n",
       "    .dataframe thead th {\n",
       "        text-align: right;\n",
       "    }\n",
       "</style>\n",
       "<table border=\"1\" class=\"dataframe\">\n",
       "  <thead>\n",
       "    <tr style=\"text-align: right;\">\n",
       "      <th></th>\n",
       "      <th>Children</th>\n",
       "      <th>Age</th>\n",
       "      <th>Income</th>\n",
       "      <th>Outage_sec_perweek</th>\n",
       "      <th>Email</th>\n",
       "      <th>Contacts</th>\n",
       "      <th>Yearly_equip_failure</th>\n",
       "      <th>Tenure</th>\n",
       "      <th>MonthlyCharge</th>\n",
       "      <th>Bandwidth_GB_Year</th>\n",
       "      <th>...</th>\n",
       "      <th>DummyMultiple</th>\n",
       "      <th>DummyOnlineBackup</th>\n",
       "      <th>DummyOnlineSecurity</th>\n",
       "      <th>DummyPaperlessBilling</th>\n",
       "      <th>DummyPhone</th>\n",
       "      <th>DummyPort_modem</th>\n",
       "      <th>DummyStreamingTV</th>\n",
       "      <th>DummyTablet</th>\n",
       "      <th>DummyTechSupport</th>\n",
       "      <th>DummyTechie</th>\n",
       "    </tr>\n",
       "  </thead>\n",
       "  <tbody>\n",
       "    <tr>\n",
       "      <th>count</th>\n",
       "      <td>10000.0000</td>\n",
       "      <td>10000.000000</td>\n",
       "      <td>10000.000000</td>\n",
       "      <td>10000.000000</td>\n",
       "      <td>10000.000000</td>\n",
       "      <td>10000.000000</td>\n",
       "      <td>10000.000000</td>\n",
       "      <td>10000.000000</td>\n",
       "      <td>10000.000000</td>\n",
       "      <td>10000.000000</td>\n",
       "      <td>...</td>\n",
       "      <td>10000.000000</td>\n",
       "      <td>10000.000000</td>\n",
       "      <td>10000.000000</td>\n",
       "      <td>10000.000000</td>\n",
       "      <td>10000.000000</td>\n",
       "      <td>10000.000000</td>\n",
       "      <td>10000.000000</td>\n",
       "      <td>10000.000000</td>\n",
       "      <td>10000.000000</td>\n",
       "      <td>10000.000000</td>\n",
       "    </tr>\n",
       "    <tr>\n",
       "      <th>mean</th>\n",
       "      <td>2.0877</td>\n",
       "      <td>53.078400</td>\n",
       "      <td>39806.926771</td>\n",
       "      <td>10.001848</td>\n",
       "      <td>12.016000</td>\n",
       "      <td>0.994200</td>\n",
       "      <td>0.398000</td>\n",
       "      <td>34.526188</td>\n",
       "      <td>172.624816</td>\n",
       "      <td>3392.341550</td>\n",
       "      <td>...</td>\n",
       "      <td>0.460800</td>\n",
       "      <td>0.450600</td>\n",
       "      <td>0.357600</td>\n",
       "      <td>0.588200</td>\n",
       "      <td>0.906700</td>\n",
       "      <td>0.483400</td>\n",
       "      <td>0.492900</td>\n",
       "      <td>0.299100</td>\n",
       "      <td>0.375000</td>\n",
       "      <td>0.167900</td>\n",
       "    </tr>\n",
       "    <tr>\n",
       "      <th>std</th>\n",
       "      <td>2.1472</td>\n",
       "      <td>20.698882</td>\n",
       "      <td>28199.916702</td>\n",
       "      <td>2.976019</td>\n",
       "      <td>3.025898</td>\n",
       "      <td>0.988466</td>\n",
       "      <td>0.635953</td>\n",
       "      <td>26.443063</td>\n",
       "      <td>42.943094</td>\n",
       "      <td>2185.294852</td>\n",
       "      <td>...</td>\n",
       "      <td>0.498486</td>\n",
       "      <td>0.497579</td>\n",
       "      <td>0.479317</td>\n",
       "      <td>0.492184</td>\n",
       "      <td>0.290867</td>\n",
       "      <td>0.499749</td>\n",
       "      <td>0.499975</td>\n",
       "      <td>0.457887</td>\n",
       "      <td>0.484147</td>\n",
       "      <td>0.373796</td>\n",
       "    </tr>\n",
       "    <tr>\n",
       "      <th>min</th>\n",
       "      <td>0.0000</td>\n",
       "      <td>18.000000</td>\n",
       "      <td>348.670000</td>\n",
       "      <td>0.099747</td>\n",
       "      <td>1.000000</td>\n",
       "      <td>0.000000</td>\n",
       "      <td>0.000000</td>\n",
       "      <td>1.000259</td>\n",
       "      <td>79.978860</td>\n",
       "      <td>155.506715</td>\n",
       "      <td>...</td>\n",
       "      <td>0.000000</td>\n",
       "      <td>0.000000</td>\n",
       "      <td>0.000000</td>\n",
       "      <td>0.000000</td>\n",
       "      <td>0.000000</td>\n",
       "      <td>0.000000</td>\n",
       "      <td>0.000000</td>\n",
       "      <td>0.000000</td>\n",
       "      <td>0.000000</td>\n",
       "      <td>0.000000</td>\n",
       "    </tr>\n",
       "    <tr>\n",
       "      <th>25%</th>\n",
       "      <td>0.0000</td>\n",
       "      <td>35.000000</td>\n",
       "      <td>19224.717500</td>\n",
       "      <td>8.018214</td>\n",
       "      <td>10.000000</td>\n",
       "      <td>0.000000</td>\n",
       "      <td>0.000000</td>\n",
       "      <td>7.917694</td>\n",
       "      <td>139.979239</td>\n",
       "      <td>1236.470827</td>\n",
       "      <td>...</td>\n",
       "      <td>0.000000</td>\n",
       "      <td>0.000000</td>\n",
       "      <td>0.000000</td>\n",
       "      <td>0.000000</td>\n",
       "      <td>1.000000</td>\n",
       "      <td>0.000000</td>\n",
       "      <td>0.000000</td>\n",
       "      <td>0.000000</td>\n",
       "      <td>0.000000</td>\n",
       "      <td>0.000000</td>\n",
       "    </tr>\n",
       "    <tr>\n",
       "      <th>50%</th>\n",
       "      <td>1.0000</td>\n",
       "      <td>53.000000</td>\n",
       "      <td>33170.605000</td>\n",
       "      <td>10.018560</td>\n",
       "      <td>12.000000</td>\n",
       "      <td>1.000000</td>\n",
       "      <td>0.000000</td>\n",
       "      <td>35.430507</td>\n",
       "      <td>167.484700</td>\n",
       "      <td>3279.536903</td>\n",
       "      <td>...</td>\n",
       "      <td>0.000000</td>\n",
       "      <td>0.000000</td>\n",
       "      <td>0.000000</td>\n",
       "      <td>1.000000</td>\n",
       "      <td>1.000000</td>\n",
       "      <td>0.000000</td>\n",
       "      <td>0.000000</td>\n",
       "      <td>0.000000</td>\n",
       "      <td>0.000000</td>\n",
       "      <td>0.000000</td>\n",
       "    </tr>\n",
       "    <tr>\n",
       "      <th>75%</th>\n",
       "      <td>3.0000</td>\n",
       "      <td>71.000000</td>\n",
       "      <td>53246.170000</td>\n",
       "      <td>11.969485</td>\n",
       "      <td>14.000000</td>\n",
       "      <td>2.000000</td>\n",
       "      <td>1.000000</td>\n",
       "      <td>61.479795</td>\n",
       "      <td>200.734725</td>\n",
       "      <td>5586.141370</td>\n",
       "      <td>...</td>\n",
       "      <td>1.000000</td>\n",
       "      <td>1.000000</td>\n",
       "      <td>1.000000</td>\n",
       "      <td>1.000000</td>\n",
       "      <td>1.000000</td>\n",
       "      <td>1.000000</td>\n",
       "      <td>1.000000</td>\n",
       "      <td>1.000000</td>\n",
       "      <td>1.000000</td>\n",
       "      <td>0.000000</td>\n",
       "    </tr>\n",
       "    <tr>\n",
       "      <th>max</th>\n",
       "      <td>10.0000</td>\n",
       "      <td>89.000000</td>\n",
       "      <td>258900.700000</td>\n",
       "      <td>21.207230</td>\n",
       "      <td>23.000000</td>\n",
       "      <td>7.000000</td>\n",
       "      <td>6.000000</td>\n",
       "      <td>71.999280</td>\n",
       "      <td>290.160419</td>\n",
       "      <td>7158.981530</td>\n",
       "      <td>...</td>\n",
       "      <td>1.000000</td>\n",
       "      <td>1.000000</td>\n",
       "      <td>1.000000</td>\n",
       "      <td>1.000000</td>\n",
       "      <td>1.000000</td>\n",
       "      <td>1.000000</td>\n",
       "      <td>1.000000</td>\n",
       "      <td>1.000000</td>\n",
       "      <td>1.000000</td>\n",
       "      <td>1.000000</td>\n",
       "    </tr>\n",
       "  </tbody>\n",
       "</table>\n",
       "<p>8 rows × 33 columns</p>\n",
       "</div>"
      ],
      "text/plain": [
       "         Children           Age         Income  Outage_sec_perweek  \\\n",
       "count  10000.0000  10000.000000   10000.000000        10000.000000   \n",
       "mean       2.0877     53.078400   39806.926771           10.001848   \n",
       "std        2.1472     20.698882   28199.916702            2.976019   \n",
       "min        0.0000     18.000000     348.670000            0.099747   \n",
       "25%        0.0000     35.000000   19224.717500            8.018214   \n",
       "50%        1.0000     53.000000   33170.605000           10.018560   \n",
       "75%        3.0000     71.000000   53246.170000           11.969485   \n",
       "max       10.0000     89.000000  258900.700000           21.207230   \n",
       "\n",
       "              Email      Contacts  Yearly_equip_failure        Tenure  \\\n",
       "count  10000.000000  10000.000000          10000.000000  10000.000000   \n",
       "mean      12.016000      0.994200              0.398000     34.526188   \n",
       "std        3.025898      0.988466              0.635953     26.443063   \n",
       "min        1.000000      0.000000              0.000000      1.000259   \n",
       "25%       10.000000      0.000000              0.000000      7.917694   \n",
       "50%       12.000000      1.000000              0.000000     35.430507   \n",
       "75%       14.000000      2.000000              1.000000     61.479795   \n",
       "max       23.000000      7.000000              6.000000     71.999280   \n",
       "\n",
       "       MonthlyCharge  Bandwidth_GB_Year  ...  DummyMultiple  \\\n",
       "count   10000.000000       10000.000000  ...   10000.000000   \n",
       "mean      172.624816        3392.341550  ...       0.460800   \n",
       "std        42.943094        2185.294852  ...       0.498486   \n",
       "min        79.978860         155.506715  ...       0.000000   \n",
       "25%       139.979239        1236.470827  ...       0.000000   \n",
       "50%       167.484700        3279.536903  ...       0.000000   \n",
       "75%       200.734725        5586.141370  ...       1.000000   \n",
       "max       290.160419        7158.981530  ...       1.000000   \n",
       "\n",
       "       DummyOnlineBackup  DummyOnlineSecurity  DummyPaperlessBilling  \\\n",
       "count       10000.000000         10000.000000           10000.000000   \n",
       "mean            0.450600             0.357600               0.588200   \n",
       "std             0.497579             0.479317               0.492184   \n",
       "min             0.000000             0.000000               0.000000   \n",
       "25%             0.000000             0.000000               0.000000   \n",
       "50%             0.000000             0.000000               1.000000   \n",
       "75%             1.000000             1.000000               1.000000   \n",
       "max             1.000000             1.000000               1.000000   \n",
       "\n",
       "         DummyPhone  DummyPort_modem  DummyStreamingTV   DummyTablet  \\\n",
       "count  10000.000000     10000.000000      10000.000000  10000.000000   \n",
       "mean       0.906700         0.483400          0.492900      0.299100   \n",
       "std        0.290867         0.499749          0.499975      0.457887   \n",
       "min        0.000000         0.000000          0.000000      0.000000   \n",
       "25%        1.000000         0.000000          0.000000      0.000000   \n",
       "50%        1.000000         0.000000          0.000000      0.000000   \n",
       "75%        1.000000         1.000000          1.000000      1.000000   \n",
       "max        1.000000         1.000000          1.000000      1.000000   \n",
       "\n",
       "       DummyTechSupport   DummyTechie  \n",
       "count      10000.000000  10000.000000  \n",
       "mean           0.375000      0.167900  \n",
       "std            0.484147      0.373796  \n",
       "min            0.000000      0.000000  \n",
       "25%            0.000000      0.000000  \n",
       "50%            0.000000      0.000000  \n",
       "75%            1.000000      0.000000  \n",
       "max            1.000000      1.000000  \n",
       "\n",
       "[8 rows x 33 columns]"
      ]
     },
     "execution_count": 12,
     "metadata": {},
     "output_type": "execute_result"
    }
   ],
   "source": [
    " # Drop original categorical features from dataframe\n",
    "churn_df = churn_df.drop(columns=['Churn',\n",
    "                                  'Contract',\n",
    "                                  'DeviceProtection',\n",
    "                                  'Gender',\n",
    "                                  'InternetService',\n",
    "                                  'Multiple',\n",
    "                                  'OnlineBackup',\n",
    "                                  'OnlineSecurity',\n",
    "                                  'PaperlessBilling',\n",
    "                                  'Phone','Port_modem',\n",
    "                                  'StreamingMovies',\n",
    "                                  'StreamingTV',\n",
    "                                  'Tablet',\n",
    "                                  'TechSupport',\n",
    "                                  'Techie'])\n",
    "churn_df.describe()\n"
   ]
  },
  {
   "cell_type": "code",
   "execution_count": 13,
   "id": "e7c10011",
   "metadata": {},
   "outputs": [
    {
     "name": "stdout",
     "output_type": "stream",
     "text": [
      "Index(['Children', 'Age', 'Income', 'Outage_sec_perweek', 'Email', 'Contacts',\n",
      "       'Yearly_equip_failure', 'Tenure', 'MonthlyCharge', 'Bandwidth_GB_Year',\n",
      "       'TimelyResponse', 'Fixes', 'Replacements', 'Reliability', 'Options',\n",
      "       'Respectfulness', 'Courteous', 'Listening', 'DummyChurn',\n",
      "       'DummyContract', 'DummyDeviceProtection', 'DummyGender',\n",
      "       'DummyInternetService', 'DummyMultiple', 'DummyOnlineBackup',\n",
      "       'DummyOnlineSecurity', 'DummyPaperlessBilling', 'DummyPhone',\n",
      "       'DummyPort_modem', 'DummyStreamingTV', 'DummyTablet',\n",
      "       'DummyTechSupport', 'DummyTechie'],\n",
      "      dtype='object')\n"
     ]
    }
   ],
   "source": [
    "df = churn_df.columns\n",
    "print(df)"
   ]
  },
  {
   "cell_type": "code",
   "execution_count": 14,
   "id": "3a970a6f",
   "metadata": {},
   "outputs": [],
   "source": [
    " # Move DummyChurn to end of dataset as target\n",
    "churn_df = churn_df[['Children', 'Age', 'Income', 'Outage_sec_perweek', 'Email', 'Contacts', 'Yearly_equip_failure', 'Tenure',\n",
    "                     'MonthlyCharge', 'Bandwidth_GB_Year', 'TimelyResponse', 'Fixes', 'Replacements', 'Reliability', 'Options',\n",
    "                     'Respectfulness', 'Courteous', 'Listening', 'DummyGender', 'DummyTechie', 'DummyContract',\n",
    "                     'DummyPort_modem', 'DummyTablet', 'DummyInternetService', 'DummyPhone', 'DummyMultiple',\n",
    "                     'DummyOnlineSecurity', 'DummyOnlineBackup', 'DummyDeviceProtection', 'DummyTechSupport',\n",
    "                     'DummyStreamingTV', 'DummyPaperlessBilling', 'DummyChurn']]\n"
   ]
  },
  {
   "cell_type": "code",
   "execution_count": 15,
   "id": "cddbf71b",
   "metadata": {},
   "outputs": [
    {
     "name": "stdout",
     "output_type": "stream",
     "text": [
      "Index(['Children', 'Age', 'Income', 'Outage_sec_perweek', 'Email', 'Contacts',\n",
      "       'Yearly_equip_failure', 'Tenure', 'MonthlyCharge', 'Bandwidth_GB_Year',\n",
      "       'TimelyResponse', 'Fixes', 'Replacements', 'Reliability', 'Options',\n",
      "       'Respectfulness', 'Courteous', 'Listening', 'DummyGender',\n",
      "       'DummyTechie', 'DummyContract', 'DummyPort_modem', 'DummyTablet',\n",
      "       'DummyInternetService', 'DummyPhone', 'DummyMultiple',\n",
      "       'DummyOnlineSecurity', 'DummyOnlineBackup', 'DummyDeviceProtection',\n",
      "       'DummyTechSupport', 'DummyStreamingTV', 'DummyPaperlessBilling',\n",
      "       'DummyChurn'],\n",
      "      dtype='object')\n"
     ]
    }
   ],
   "source": [
    "df = churn_df.columns\n",
    "print(df)"
   ]
  },
  {
   "cell_type": "code",
   "execution_count": 16,
   "id": "3505bcff",
   "metadata": {},
   "outputs": [
    {
     "data": {
      "image/png": "[encoded data removed]",
      "text/plain": [
       "<Figure size 432x288 with 12 Axes>"
      ]
     },
     "metadata": {
      "needs_background": "dark"
     },
     "output_type": "display_data"
    }
   ],
   "source": [
    " # Display histograms of continuous variables\n",
    "churn_df[['Children', 'Age', 'Income', 'Outage_sec_perweek', 'Email', 'Contacts', 'Yearly_equip_failure',\n",
    "          'Tenure', 'MonthlyCharge', 'Bandwidth_GB_Year']].hist()\n",
    "plt.savefig('churn_pyplot.jpg')\n",
    "plt.tight_layout()"
   ]
  },
  {
   "cell_type": "code",
   "execution_count": 17,
   "id": "e5f0be7d",
   "metadata": {},
   "outputs": [
    {
     "data": {
      "image/png": "[encoded data removed]",
      "text/plain": [
       "<Figure size 432x288 with 1 Axes>"
      ]
     },
     "metadata": {
      "needs_background": "dark"
     },
     "output_type": "display_data"
    }
   ],
   "source": [
    "# Create corresponding Seaborn boxplots\n",
    "sns.boxplot('Tenure', data = churn_df)\n",
    "plt.show()"
   ]
  },
  {
   "cell_type": "code",
   "execution_count": 18,
   "id": "1e8bac3b",
   "metadata": {},
   "outputs": [
    {
     "data": {
      "image/png": "[encoded data removed]",
      "text/plain": [
       "<Figure size 432x288 with 1 Axes>"
      ]
     },
     "metadata": {
      "needs_background": "dark"
     },
     "output_type": "display_data"
    }
   ],
   "source": [
    "sns.boxplot('MonthlyCharge', data = churn_df)\n",
    "plt.show()"
   ]
  },
  {
   "cell_type": "code",
   "execution_count": 19,
   "id": "b35f9137",
   "metadata": {},
   "outputs": [
    {
     "data": {
      "image/png": "[encoded data removed]",
      "text/plain": [
       "<Figure size 432x288 with 1 Axes>"
      ]
     },
     "metadata": {
      "needs_background": "dark"
     },
     "output_type": "display_data"
    }
   ],
   "source": [
    "sns.boxplot('Bandwidth_GB_Year', data = churn_df)\n",
    "plt.show()"
   ]
  },
  {
   "cell_type": "code",
   "execution_count": 20,
   "id": "89882312",
   "metadata": {},
   "outputs": [
    {
     "data": {
      "image/png": "[encoded data removed]",
      "text/plain": [
       "<Figure size 432x288 with 1 Axes>"
      ]
     },
     "metadata": {
      "needs_background": "dark"
     },
     "output_type": "display_data"
    }
   ],
   "source": [
    " # Run scatterplots to show direct or inverse relationships between target &␣ independent variables\n",
    "sns.scatterplot(x=churn_df['Children'], y=churn_df['DummyChurn'], color='blue')\n",
    "plt.show();"
   ]
  },
  {
   "cell_type": "code",
   "execution_count": 21,
   "id": "bf1082a6",
   "metadata": {},
   "outputs": [
    {
     "data": {
      "image/png": "[encoded data removed]",
      "text/plain": [
       "<Figure size 432x288 with 1 Axes>"
      ]
     },
     "metadata": {
      "needs_background": "dark"
     },
     "output_type": "display_data"
    }
   ],
   "source": [
    "sns.scatterplot(x=churn_df['Age'], y=churn_df['DummyChurn'], color='blue')\n",
    "plt.show();"
   ]
  },
  {
   "cell_type": "code",
   "execution_count": 22,
   "id": "4ad725dd",
   "metadata": {},
   "outputs": [
    {
     "data": {
      "image/png": "[encoded data removed]",
      "text/plain": [
       "<Figure size 432x288 with 1 Axes>"
      ]
     },
     "metadata": {
      "needs_background": "dark"
     },
     "output_type": "display_data"
    }
   ],
   "source": [
    "sns.scatterplot(x=churn_df['Income'], y=churn_df['DummyChurn'], color='blue')\n",
    "plt.show();"
   ]
  },
  {
   "cell_type": "code",
   "execution_count": 23,
   "id": "de2ff7ab",
   "metadata": {},
   "outputs": [
    {
     "data": {
      "image/png": "[encoded data removed]",
      "text/plain": [
       "<Figure size 432x288 with 1 Axes>"
      ]
     },
     "metadata": {
      "needs_background": "dark"
     },
     "output_type": "display_data"
    }
   ],
   "source": [
    "sns.scatterplot(x=churn_df['DummyGender'], y=churn_df['DummyChurn'], color='blue')\n",
    "plt.show();"
   ]
  },
  {
   "cell_type": "code",
   "execution_count": 24,
   "id": "77fb4475",
   "metadata": {},
   "outputs": [
    {
     "data": {
      "image/png": "[encoded data removed]",
      "text/plain": [
       "<Figure size 432x288 with 1 Axes>"
      ]
     },
     "metadata": {
      "needs_background": "dark"
     },
     "output_type": "display_data"
    }
   ],
   "source": [
    "sns.scatterplot(x=churn_df['Outage_sec_perweek'], y=churn_df['DummyChurn'], color='blue')\n",
    "plt.show();"
   ]
  },
  {
   "cell_type": "code",
   "execution_count": 25,
   "id": "67f60324",
   "metadata": {},
   "outputs": [
    {
     "data": {
      "image/png": "[encoded data removed]",
      "text/plain": [
       "<Figure size 432x288 with 1 Axes>"
      ]
     },
     "metadata": {
      "needs_background": "dark"
     },
     "output_type": "display_data"
    }
   ],
   "source": [
    "sns.scatterplot(x=churn_df['Email'], y=churn_df['DummyChurn'], color='blue')\n",
    "plt.show();"
   ]
  },
  {
   "cell_type": "code",
   "execution_count": 26,
   "id": "6e97bfe8",
   "metadata": {},
   "outputs": [
    {
     "data": {
      "image/png": "[encoded data removed]",
      "text/plain": [
       "<Figure size 432x288 with 1 Axes>"
      ]
     },
     "metadata": {
      "needs_background": "dark"
     },
     "output_type": "display_data"
    }
   ],
   "source": [
    "sns.scatterplot(x=churn_df['Contacts'], y=churn_df['DummyChurn'], color='blue')\n",
    "plt.show();"
   ]
  },
  {
   "cell_type": "code",
   "execution_count": 27,
   "id": "01cba5f1",
   "metadata": {},
   "outputs": [
    {
     "data": {
      "image/png": "[encoded data removed]",
      "text/plain": [
       "<Figure size 432x288 with 1 Axes>"
      ]
     },
     "metadata": {
      "needs_background": "dark"
     },
     "output_type": "display_data"
    }
   ],
   "source": [
    "sns.scatterplot(x=churn_df['Yearly_equip_failure'], y=churn_df['DummyChurn'], color='blue')\n",
    "plt.show();"
   ]
  },
  {
   "cell_type": "code",
   "execution_count": 28,
   "id": "63897794",
   "metadata": {},
   "outputs": [
    {
     "data": {
      "image/png": "[encoded data removed]",
      "text/plain": [
       "<Figure size 432x288 with 1 Axes>"
      ]
     },
     "metadata": {
      "needs_background": "dark"
     },
     "output_type": "display_data"
    }
   ],
   "source": [
    " sns.scatterplot(x=churn_df['DummyTechie'], y=churn_df['DummyChurn'], color='blue')\n",
    "plt.show();"
   ]
  },
  {
   "cell_type": "code",
   "execution_count": 29,
   "id": "51c592ee",
   "metadata": {},
   "outputs": [
    {
     "data": {
      "image/png": "[encoded data removed]",
      "text/plain": [
       "<Figure size 432x288 with 1 Axes>"
      ]
     },
     "metadata": {
      "needs_background": "dark"
     },
     "output_type": "display_data"
    }
   ],
   "source": [
    "sns.scatterplot(x=churn_df['Tenure'], y=churn_df['DummyChurn'], color='blue')\n",
    "plt.show();"
   ]
  },
  {
   "cell_type": "code",
   "execution_count": 30,
   "id": "0986a7ac",
   "metadata": {},
   "outputs": [
    {
     "data": {
      "image/png": "[encoded data removed]",
      "text/plain": [
       "<Figure size 432x288 with 1 Axes>"
      ]
     },
     "metadata": {
      "needs_background": "dark"
     },
     "output_type": "display_data"
    }
   ],
   "source": [
    "sns.scatterplot(x=churn_df['MonthlyCharge'], y=churn_df['DummyChurn'], color='blue')\n",
    "plt.show();"
   ]
  },
  {
   "cell_type": "code",
   "execution_count": 31,
   "id": "4323a57e",
   "metadata": {},
   "outputs": [
    {
     "data": {
      "image/png": "[encoded data removed]",
      "text/plain": [
       "<Figure size 432x288 with 1 Axes>"
      ]
     },
     "metadata": {
      "needs_background": "dark"
     },
     "output_type": "display_data"
    }
   ],
   "source": [
    "sns.scatterplot(x=churn_df['Bandwidth_GB_Year'], y=churn_df['DummyChurn'], color='blue')\n",
    "plt.show();"
   ]
  },
  {
   "cell_type": "code",
   "execution_count": 32,
   "id": "29e90cf7",
   "metadata": {},
   "outputs": [
    {
     "data": {
      "image/png": "[encoded data removed]",
      "text/plain": [
       "<Figure size 432x288 with 1 Axes>"
      ]
     },
     "metadata": {
      "needs_background": "dark"
     },
     "output_type": "display_data"
    }
   ],
   "source": [
    " sns.scatterplot(x=churn_df['TimelyResponse'], y=churn_df['DummyChurn'], color='blue')\n",
    "plt.show();"
   ]
  },
  {
   "cell_type": "code",
   "execution_count": 33,
   "id": "f2d1f66c",
   "metadata": {},
   "outputs": [
    {
     "data": {
      "image/png": "[encoded data removed]",
      "text/plain": [
       "<Figure size 432x288 with 1 Axes>"
      ]
     },
     "metadata": {
      "needs_background": "dark"
     },
     "output_type": "display_data"
    }
   ],
   "source": [
    "sns.scatterplot(x=churn_df['Fixes'], y=churn_df['DummyChurn'], color='blue')\n",
    "plt.show();"
   ]
  },
  {
   "cell_type": "code",
   "execution_count": 34,
   "id": "da70cfee",
   "metadata": {},
   "outputs": [
    {
     "data": {
      "image/png": "[encoded data removed]",
      "text/plain": [
       "<Figure size 432x288 with 1 Axes>"
      ]
     },
     "metadata": {
      "needs_background": "dark"
     },
     "output_type": "display_data"
    }
   ],
   "source": [
    "sns.scatterplot(x=churn_df['Replacements'], y=churn_df['DummyChurn'], color='blue')\n",
    "plt.show();"
   ]
  },
  {
   "cell_type": "code",
   "execution_count": 35,
   "id": "f4d06a6a",
   "metadata": {},
   "outputs": [
    {
     "data": {
      "image/png": "[encoded data removed]",
      "text/plain": [
       "<Figure size 432x288 with 1 Axes>"
      ]
     },
     "metadata": {
      "needs_background": "dark"
     },
     "output_type": "display_data"
    }
   ],
   "source": [
    " sns.scatterplot(x=churn_df['Reliability'], y=churn_df['DummyChurn'], color='blue')\n",
    "plt.show();"
   ]
  },
  {
   "cell_type": "code",
   "execution_count": 36,
   "id": "0614da06",
   "metadata": {},
   "outputs": [
    {
     "data": {
      "image/png": "[encoded data removed]",
      "text/plain": [
       "<Figure size 432x288 with 1 Axes>"
      ]
     },
     "metadata": {
      "needs_background": "dark"
     },
     "output_type": "display_data"
    }
   ],
   "source": [
    "sns.scatterplot(x=churn_df['Options'], y=churn_df['DummyChurn'], color='blue')\n",
    "plt.show();"
   ]
  },
  {
   "cell_type": "code",
   "execution_count": 37,
   "id": "50960f25",
   "metadata": {},
   "outputs": [
    {
     "data": {
      "image/png": "[encoded data removed]",
      "text/plain": [
       "<Figure size 432x288 with 1 Axes>"
      ]
     },
     "metadata": {
      "needs_background": "dark"
     },
     "output_type": "display_data"
    }
   ],
   "source": [
    "sns.scatterplot(x=churn_df['Respectfulness'], y=churn_df['DummyChurn'], color='blue')\n",
    "plt.show();"
   ]
  },
  {
   "cell_type": "code",
   "execution_count": 38,
   "id": "272b96c5",
   "metadata": {},
   "outputs": [
    {
     "data": {
      "image/png": "[encoded data removed]",
      "text/plain": [
       "<Figure size 432x288 with 1 Axes>"
      ]
     },
     "metadata": {
      "needs_background": "dark"
     },
     "output_type": "display_data"
    }
   ],
   "source": [
    "sns.scatterplot(x=churn_df['Courteous'], y=churn_df['DummyChurn'], color='blue')\n",
    "plt.show();"
   ]
  },
  {
   "cell_type": "code",
   "execution_count": 39,
   "id": "e66a2b71",
   "metadata": {},
   "outputs": [
    {
     "data": {
      "image/png": "[encoded data removed]",
      "text/plain": [
       "<Figure size 432x288 with 1 Axes>"
      ]
     },
     "metadata": {
      "needs_background": "dark"
     },
     "output_type": "display_data"
    }
   ],
   "source": [
    "sns.scatterplot(x=churn_df['Listening'], y=churn_df['DummyChurn'], color='blue')\n",
    "plt.show();"
   ]
  },
  {
   "cell_type": "code",
   "execution_count": 40,
   "id": "23b30156",
   "metadata": {},
   "outputs": [
    {
     "data": {
      "image/png": "[encoded data removed]",
      "text/plain": [
       "<Figure size 432x288 with 1 Axes>"
      ]
     },
     "metadata": {
      "needs_background": "dark"
     },
     "output_type": "display_data"
    }
   ],
   "source": [
    " sns.scatterplot(x=churn_df['MonthlyCharge'], y=churn_df['Outage_sec_perweek'], color='blue')\n",
    "plt.show();"
   ]
  },
  {
   "cell_type": "code",
   "execution_count": 41,
   "id": "17b44883",
   "metadata": {},
   "outputs": [],
   "source": [
    "# Extract Clean dataset\n",
    "churn_df.to_csv('churn_prepared_log.csv')"
   ]
  },
  {
   "cell_type": "code",
   "execution_count": 42,
   "id": "5265e2a7",
   "metadata": {},
   "outputs": [
    {
     "name": "stdout",
     "output_type": "stream",
     "text": [
      "Optimization terminated successfully.\n",
      "         Current function value: 0.319573\n",
      "         Iterations 8\n",
      "                           Logit Regression Results                           \n",
      "==============================================================================\n",
      "Dep. Variable:             DummyChurn   No. Observations:                10000\n",
      "Model:                          Logit   Df Residuals:                     9981\n",
      "Method:                           MLE   Df Model:                           18\n",
      "Date:                Mon, 15 Nov 2021   Pseudo R-squ.:                  0.4473\n",
      "Time:                        13:38:16   Log-Likelihood:                -3195.7\n",
      "converged:                       True   LL-Null:                       -5782.2\n",
      "Covariance Type:            nonrobust   LLR p-value:                     0.000\n",
      "========================================================================================\n",
      "                           coef    std err          z      P>|z|      [0.025      0.975]\n",
      "----------------------------------------------------------------------------------------\n",
      "Children                -0.0980      0.016     -6.318      0.000      -0.128      -0.068\n",
      "Age                      0.0114      0.002      7.130      0.000       0.008       0.015\n",
      "Income                5.015e-07   1.12e-06      0.450      0.653   -1.68e-06    2.69e-06\n",
      "Outage_sec_perweek      -0.0009      0.011     -0.087      0.931      -0.022       0.020\n",
      "Email                    0.0018      0.010      0.169      0.866      -0.019       0.022\n",
      "Contacts                 0.0243      0.032      0.764      0.445      -0.038       0.087\n",
      "Yearly_equip_failure    -0.0267      0.050     -0.539      0.590      -0.124       0.071\n",
      "Tenure                  -0.3156      0.012    -25.482      0.000      -0.340      -0.291\n",
      "MonthlyCharge            0.0262      0.001     27.344      0.000       0.024       0.028\n",
      "Bandwidth_GB_Year        0.0029      0.000     20.156      0.000       0.003       0.003\n",
      "TimelyResponse          -0.0201      0.045     -0.447      0.655      -0.108       0.068\n",
      "Fixes                   -0.0162      0.042     -0.384      0.701      -0.099       0.067\n",
      "Replacements            -0.0053      0.039     -0.138      0.890      -0.081       0.070\n",
      "Reliability             -0.0376      0.034     -1.096      0.273      -0.105       0.030\n",
      "Options                 -0.0439      0.036     -1.223      0.221      -0.114       0.026\n",
      "Respectfulness          -0.0044      0.037     -0.119      0.906      -0.076       0.068\n",
      "Courteous               -0.0203      0.035     -0.580      0.562      -0.089       0.048\n",
      "Listening               -0.0024      0.033     -0.071      0.943      -0.067       0.062\n",
      "intercept               -5.4290      0.369    -14.709      0.000      -6.152      -4.706\n",
      "========================================================================================\n"
     ]
    }
   ],
   "source": [
    "# Initial regression equation to predict churn, \n",
    "# using continuous variables\n",
    "churn_df = pd.read_csv('churn_prepared_log.csv')\n",
    "churn_df['intercept'] = 1\n",
    "churn_df = pd.get_dummies(churn_df, drop_first=True)\n",
    "churn_logit_model = sm.Logit(churn_df['DummyChurn'], churn_df[['Children', 'Age', 'Income', 'Outage_sec_perweek', 'Email',\n",
    "                                                               'Contacts', 'Yearly_equip_failure', 'Tenure', 'MonthlyCharge',\n",
    "                                                               'Bandwidth_GB_Year', 'TimelyResponse', 'Fixes', 'Replacements',\n",
    "                                                               'Reliability', 'Options', 'Respectfulness', 'Courteous',\n",
    "                                                               'Listening', 'intercept']]).fit()\n",
    "print(churn_logit_model.summary())"
   ]
  },
  {
   "cell_type": "code",
   "execution_count": 43,
   "id": "3fc48747",
   "metadata": {},
   "outputs": [
    {
     "name": "stdout",
     "output_type": "stream",
     "text": [
      "Optimization terminated successfully.\n",
      "         Current function value: 0.271990\n",
      "         Iterations 8\n",
      "                           Logit Regression Results                           \n",
      "==============================================================================\n",
      "Dep. Variable:             DummyChurn   No. Observations:                10000\n",
      "Model:                          Logit   Df Residuals:                     9968\n",
      "Method:                           MLE   Df Model:                           31\n",
      "Date:                Mon, 15 Nov 2021   Pseudo R-squ.:                  0.5296\n",
      "Time:                        13:38:16   Log-Likelihood:                -2719.9\n",
      "converged:                       True   LL-Null:                       -5782.2\n",
      "Covariance Type:            nonrobust   LLR p-value:                     0.000\n",
      "=========================================================================================\n",
      "                            coef    std err          z      P>|z|      [0.025      0.975]\n",
      "-----------------------------------------------------------------------------------------\n",
      "Children                 -0.0395      0.018     -2.232      0.026      -0.074      -0.005\n",
      "Age                       0.0069      0.002      3.659      0.000       0.003       0.011\n",
      "Income                 1.199e-07   1.22e-06      0.099      0.921   -2.26e-06     2.5e-06\n",
      "Outage_sec_perweek        0.0020      0.011      0.176      0.860      -0.021       0.025\n",
      "Email                    -0.0015      0.011     -0.133      0.894      -0.024       0.021\n",
      "Contacts                  0.0301      0.035      0.871      0.384      -0.038       0.098\n",
      "Yearly_equip_failure     -0.0308      0.054     -0.570      0.569      -0.137       0.075\n",
      "DummyTechie               0.7956      0.089      8.960      0.000       0.622       0.970\n",
      "DummyContract            -2.2950      0.104    -22.135      0.000      -2.498      -2.092\n",
      "DummyPort_modem           0.1610      0.068      2.353      0.019       0.027       0.295\n",
      "DummyTablet              -0.0796      0.074     -1.071      0.284      -0.225       0.066\n",
      "DummyInternetService     -1.4252      0.126    -11.314      0.000      -1.672      -1.178\n",
      "DummyPhone               -0.3157      0.117     -2.707      0.007      -0.544      -0.087\n",
      "DummyMultiple            -0.2908      0.080     -3.646      0.000      -0.447      -0.134\n",
      "DummyOnlineSecurity      -0.3280      0.074     -4.452      0.000      -0.472      -0.184\n",
      "DummyOnlineBackup        -0.5125      0.074     -6.931      0.000      -0.657      -0.368\n",
      "DummyDeviceProtection    -0.4100      0.071     -5.764      0.000      -0.549      -0.271\n",
      "DummyTechSupport         -0.3461      0.073     -4.717      0.000      -0.490      -0.202\n",
      "DummyStreamingTV          0.0311      0.083      0.374      0.708      -0.132       0.194\n",
      "DummyPaperlessBilling     0.1126      0.070      1.618      0.106      -0.024       0.249\n",
      "Tenure                   -0.2043      0.021     -9.693      0.000      -0.246      -0.163\n",
      "MonthlyCharge             0.0461      0.002     24.371      0.000       0.042       0.050\n",
      "Bandwidth_GB_Year         0.0013      0.000      5.215      0.000       0.001       0.002\n",
      "TimelyResponse           -0.0167      0.049     -0.342      0.732      -0.112       0.079\n",
      "Fixes                     0.0143      0.046      0.311      0.755      -0.076       0.104\n",
      "Replacements             -0.0158      0.042     -0.377      0.706      -0.098       0.066\n",
      "Reliability              -0.0250      0.037     -0.673      0.501      -0.098       0.048\n",
      "Options                  -0.0341      0.039     -0.877      0.380      -0.110       0.042\n",
      "Respectfulness           -0.0309      0.040     -0.776      0.438      -0.109       0.047\n",
      "Courteous                 0.0047      0.038      0.124      0.901      -0.070       0.079\n",
      "Listening                -0.0090      0.036     -0.251      0.802      -0.079       0.061\n",
      "intercept                -5.8583      0.425    -13.793      0.000      -6.691      -5.026\n",
      "=========================================================================================\n"
     ]
    }
   ],
   "source": [
    "# Complete model with dummy variables\n",
    "churn_df = pd.read_csv('churn_prepared_log.csv')\n",
    "churn_df['intercept'] = 1\n",
    "churn_df = pd.get_dummies(churn_df, drop_first=True)\n",
    "churn_logit_model2 = sm.Logit(churn_df['DummyChurn'], churn_df[['Children', 'Age', 'Income', 'Outage_sec_perweek', 'Email',\n",
    "                                                                'Contacts', 'Yearly_equip_failure', 'DummyTechie',\n",
    "                                                                'DummyContract', 'DummyPort_modem', 'DummyTablet',\n",
    "                                                                'DummyInternetService', 'DummyPhone', 'DummyMultiple',\n",
    "                                                                'DummyOnlineSecurity', 'DummyOnlineBackup',\n",
    "                                                                'DummyDeviceProtection', 'DummyTechSupport',\n",
    "                                                                'DummyStreamingTV', 'DummyPaperlessBilling', 'Tenure',\n",
    "                                                                'MonthlyCharge', 'Bandwidth_GB_Year', 'TimelyResponse',\n",
    "                                                                'Fixes', 'Replacements', 'Reliability', 'Options',\n",
    "                                                                'Respectfulness', 'Courteous', 'Listening', 'intercept']]).fit()\n",
    "print(churn_logit_model2.summary())"
   ]
  },
  {
   "cell_type": "code",
   "execution_count": 44,
   "id": "9681c62e",
   "metadata": {},
   "outputs": [
    {
     "name": "stdout",
     "output_type": "stream",
     "text": [
      "Optimization terminated successfully.\n",
      "         Current function value: 0.272362\n",
      "         Iterations 8\n",
      "                           Logit Regression Results                           \n",
      "==============================================================================\n",
      "Dep. Variable:             DummyChurn   No. Observations:                10000\n",
      "Model:                          Logit   Df Residuals:                     9984\n",
      "Method:                           MLE   Df Model:                           15\n",
      "Date:                Mon, 15 Nov 2021   Pseudo R-squ.:                  0.5290\n",
      "Time:                        13:38:16   Log-Likelihood:                -2723.6\n",
      "converged:                       True   LL-Null:                       -5782.2\n",
      "Covariance Type:            nonrobust   LLR p-value:                     0.000\n",
      "=========================================================================================\n",
      "                            coef    std err          z      P>|z|      [0.025      0.975]\n",
      "-----------------------------------------------------------------------------------------\n",
      "Children                 -0.0391      0.018     -2.221      0.026      -0.074      -0.005\n",
      "Age                       0.0070      0.002      3.735      0.000       0.003       0.011\n",
      "DummyTechie               0.7970      0.089      8.996      0.000       0.623       0.971\n",
      "DummyContract            -2.2895      0.103    -22.136      0.000      -2.492      -2.087\n",
      "DummyPort_modem           0.1598      0.068      2.339      0.019       0.026       0.294\n",
      "DummyInternetService     -1.4240      0.125    -11.359      0.000      -1.670      -1.178\n",
      "DummyPhone               -0.3193      0.116     -2.749      0.006      -0.547      -0.092\n",
      "DummyMultiple            -0.2964      0.077     -3.857      0.000      -0.447      -0.146\n",
      "DummyOnlineSecurity      -0.3303      0.073     -4.497      0.000      -0.474      -0.186\n",
      "DummyOnlineBackup        -0.5146      0.072     -7.125      0.000      -0.656      -0.373\n",
      "DummyDeviceProtection    -0.4075      0.070     -5.790      0.000      -0.545      -0.270\n",
      "DummyTechSupport         -0.3555      0.073     -4.892      0.000      -0.498      -0.213\n",
      "Tenure                   -0.2049      0.021     -9.770      0.000      -0.246      -0.164\n",
      "MonthlyCharge             0.0463      0.002     25.620      0.000       0.043       0.050\n",
      "Bandwidth_GB_Year         0.0013      0.000      5.279      0.000       0.001       0.002\n",
      "intercept                -6.1973      0.236    -26.280      0.000      -6.659      -5.735\n",
      "=========================================================================================\n"
     ]
    }
   ],
   "source": [
    " # OLS multiple regression (reduced)\n",
    "churn_df['intercept'] = 1\n",
    "churn_logit_model_reduced = sm.Logit(churn_df['DummyChurn'],\n",
    "churn_df[['Children', 'Age', 'DummyTechie', 'DummyContract', 'DummyPort_modem', 'DummyInternetService', 'DummyPhone',\n",
    "          'DummyMultiple', 'DummyOnlineSecurity', 'DummyOnlineBackup', 'DummyDeviceProtection', 'DummyTechSupport', 'Tenure',\n",
    "          'MonthlyCharge', 'Bandwidth_GB_Year', 'intercept']]).fit()\n",
    "print(churn_logit_model_reduced.summary())\n"
   ]
  },
  {
   "cell_type": "code",
   "execution_count": 45,
   "id": "6907211a",
   "metadata": {},
   "outputs": [],
   "source": [
    " # Load recently created dataset\n",
    "dataset = pd.read_csv('churn_prepared_log.csv')\n",
    "X = dataset.iloc[:, 1:-1].values\n",
    "y = dataset.iloc[:, -1].values"
   ]
  },
  {
   "cell_type": "code",
   "execution_count": 46,
   "id": "e935f705",
   "metadata": {},
   "outputs": [],
   "source": [
    " # Create two sets, training and test\n",
    "from sklearn.model_selection import train_test_split\n",
    "X_train, X_test, y_train, y_test = train_test_split(X, y, test_size = 0.2, random_state = 0)"
   ]
  },
  {
   "cell_type": "code",
   "execution_count": 47,
   "id": "110a4ec7",
   "metadata": {},
   "outputs": [
    {
     "data": {
      "text/plain": [
       "LogisticRegression(random_state=0)"
      ]
     },
     "execution_count": 47,
     "metadata": {},
     "output_type": "execute_result"
    }
   ],
   "source": [
    " # Run the Logistic Regression model on the created Training set\n",
    "from sklearn.linear_model import LogisticRegression\n",
    "classifier = LogisticRegression(random_state = 0)\n",
    "classifier.fit(X_train, y_train)"
   ]
  },
  {
   "cell_type": "code",
   "execution_count": 48,
   "id": "36745a30",
   "metadata": {},
   "outputs": [],
   "source": [
    "# Use classifier to predict test sets\n",
    "y_pred = classifier.predict(X_test)"
   ]
  },
  {
   "cell_type": "code",
   "execution_count": 49,
   "id": "cbebf052",
   "metadata": {},
   "outputs": [
    {
     "name": "stdout",
     "output_type": "stream",
     "text": [
      "[[1356  130]\n",
      " [ 180  334]]\n"
     ]
    }
   ],
   "source": [
    "# From SKlearn create confusion matrix\n",
    "from sklearn.metrics import confusion_matrix\n",
    "cm = confusion_matrix(y_test, y_pred)\n",
    "print(cm)"
   ]
  },
  {
   "cell_type": "code",
   "execution_count": 50,
   "id": "54e3d64a",
   "metadata": {},
   "outputs": [
    {
     "name": "stdout",
     "output_type": "stream",
     "text": [
      "Accuracy: 83.11 %\n",
      "Standard Deviation: 1.31 %\n"
     ]
    }
   ],
   "source": [
    " ## Using SKLearn find the accuracy with K-Fold Cross Validation\n",
    "from sklearn.model_selection import cross_val_score\n",
    "accuracies = cross_val_score(estimator = classifier, X = X_train, y = y_train, cv = 10)\n",
    "print(\"Accuracy: {:.2f} %\".format(accuracies.mean()*100))\n",
    "print(\"Standard Deviation: {:.2f} %\".format(accuracies.std()*100))"
   ]
  },
  {
   "cell_type": "code",
   "execution_count": 51,
   "id": "8943aa34",
   "metadata": {},
   "outputs": [
    {
     "data": {
      "text/plain": [
       "<AxesSubplot:>"
      ]
     },
     "execution_count": 51,
     "metadata": {},
     "output_type": "execute_result"
    },
    {
     "data": {
      "image/png": "[encoded data removed]",
      "text/plain": [
       "<Figure size 432x288 with 2 Axes>"
      ]
     },
     "metadata": {
      "needs_background": "dark"
     },
     "output_type": "display_data"
    }
   ],
   "source": [
    " y_predict_test = classifier.predict(X_test)\n",
    "cm2 = confusion_matrix(y_test, y_predict_test)\n",
    "sns.heatmap(cm2, annot=True)"
   ]
  },
  {
   "cell_type": "code",
   "execution_count": 52,
   "id": "6f5978a5",
   "metadata": {},
   "outputs": [
    {
     "name": "stdout",
     "output_type": "stream",
     "text": [
      "              precision    recall  f1-score   support\n",
      "\n",
      "           0       0.88      0.91      0.90      1486\n",
      "           1       0.72      0.65      0.68       514\n",
      "\n",
      "    accuracy                           0.84      2000\n",
      "   macro avg       0.80      0.78      0.79      2000\n",
      "weighted avg       0.84      0.84      0.84      2000\n",
      "\n"
     ]
    }
   ],
   "source": [
    "from sklearn.metrics import classification_report\n",
    "print(classification_report(y_test, y_predict_test))"
   ]
  }
 ],
 "metadata": {
  "kernelspec": {
   "display_name": "Python 3",
   "language": "python",
   "name": "python3"
  },
  "language_info": {
   "codemirror_mode": {
    "name": "ipython",
    "version": 3
   },
   "file_extension": ".py",
   "mimetype": "text/x-python",
   "name": "python",
   "nbconvert_exporter": "python",
   "pygments_lexer": "ipython3",
   "version": "3.8.8"
  }
 },
 "nbformat": 4,
 "nbformat_minor": 5
}
