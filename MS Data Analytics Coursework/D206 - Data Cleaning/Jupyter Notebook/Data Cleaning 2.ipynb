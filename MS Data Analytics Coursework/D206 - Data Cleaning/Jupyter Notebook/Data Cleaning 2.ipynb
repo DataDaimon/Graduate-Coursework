{
 "cells": [
  {
   "cell_type": "markdown",
   "id": "e2b7b2ac",
   "metadata": {},
   "source": [
    "## Import and Analyze Data"
   ]
  },
  {
   "cell_type": "code",
   "execution_count": 1,
   "id": "157dc9bd",
   "metadata": {},
   "outputs": [],
   "source": [
    "import pandas"
   ]
  },
  {
   "cell_type": "markdown",
   "id": "fd9c0658",
   "metadata": {},
   "source": [
    "### Import churn dataset"
   ]
  },
  {
   "cell_type": "code",
   "execution_count": 2,
   "id": "7f72eec8",
   "metadata": {},
   "outputs": [],
   "source": [
    "df = pandas.read_csv('/Users/Richard/Documents/MSDA/Databases/Churn DB/churn_raw_data.csv')"
   ]
  },
  {
   "cell_type": "markdown",
   "id": "0e87f9b0",
   "metadata": {},
   "source": [
    "### Duplicate values"
   ]
  },
  {
   "cell_type": "code",
   "execution_count": 4,
   "id": "f6db6d41",
   "metadata": {},
   "outputs": [
    {
     "name": "stdout",
     "output_type": "stream",
     "text": [
      "Empty DataFrame\n",
      "Columns: [Unnamed: 0, CaseOrder, Customer_id, Interaction, City, State, County, Zip, Lat, Lng, Population, Area, Timezone, Job, Children, Age, Education, Employment, Income, Marital, Gender, Churn, Outage_sec_perweek, Email, Contacts, Yearly_equip_failure, Techie, Contract, Port_modem, Tablet, InternetService, Phone, Multiple, OnlineSecurity, OnlineBackup, DeviceProtection, TechSupport, StreamingTV, StreamingMovies, PaperlessBilling, PaymentMethod, Tenure, MonthlyCharge, Bandwidth_GB_Year, item1, item2, item3, item4, item5, item6, item7, item8]\n",
      "Index: []\n",
      "\n",
      "[0 rows x 52 columns]\n"
     ]
    }
   ],
   "source": [
    "df = pandas.read_csv('/Users/Richard/Documents/MSDA/Databases/Churn DB/churn_raw_data.csv')\n",
    "data = df.loc[df.duplicated()]\n",
    "print(data)"
   ]
  },
  {
   "cell_type": "markdown",
   "id": "32b1cde2",
   "metadata": {},
   "source": [
    "### Missing Observations"
   ]
  },
  {
   "cell_type": "code",
   "execution_count": 5,
   "id": "f9ac6bf2",
   "metadata": {},
   "outputs": [
    {
     "name": "stdout",
     "output_type": "stream",
     "text": [
      "Unnamed: 0                 0\n",
      "CaseOrder                  0\n",
      "Customer_id                0\n",
      "Interaction                0\n",
      "City                       0\n",
      "State                      0\n",
      "County                     0\n",
      "Zip                        0\n",
      "Lat                        0\n",
      "Lng                        0\n",
      "Population                 0\n",
      "Area                       0\n",
      "Timezone                   0\n",
      "Job                        0\n",
      "Children                2495\n",
      "Age                     2475\n",
      "Education                  0\n",
      "Employment                 0\n",
      "Income                  2490\n",
      "Marital                    0\n",
      "Gender                     0\n",
      "Churn                      0\n",
      "Outage_sec_perweek         0\n",
      "Email                      0\n",
      "Contacts                   0\n",
      "Yearly_equip_failure       0\n",
      "Techie                  2477\n",
      "Contract                   0\n",
      "Port_modem                 0\n",
      "Tablet                     0\n",
      "InternetService            0\n",
      "Phone                   1026\n",
      "Multiple                   0\n",
      "OnlineSecurity             0\n",
      "OnlineBackup               0\n",
      "DeviceProtection           0\n",
      "TechSupport              991\n",
      "StreamingTV                0\n",
      "StreamingMovies            0\n",
      "PaperlessBilling           0\n",
      "PaymentMethod              0\n",
      "Tenure                   931\n",
      "MonthlyCharge              0\n",
      "Bandwidth_GB_Year       1021\n",
      "item1                      0\n",
      "item2                      0\n",
      "item3                      0\n",
      "item4                      0\n",
      "item5                      0\n",
      "item6                      0\n",
      "item7                      0\n",
      "item8                      0\n",
      "dtype: int64\n"
     ]
    }
   ],
   "source": [
    "df = pandas.read_csv('/Users/Richard/Documents/MSDA/Databases/Churn DB/churn_raw_data.csv')\n",
    "data = df.isnull().sum()\n",
    "print(data)\n"
   ]
  },
  {
   "cell_type": "markdown",
   "id": "c2abe67d",
   "metadata": {},
   "source": [
    "### Displaying the mean value "
   ]
  },
  {
   "cell_type": "code",
   "execution_count": 7,
   "id": "bc2fa255",
   "metadata": {},
   "outputs": [
    {
     "name": "stdout",
     "output_type": "stream",
     "text": [
      "City\n",
      "Abilene        23064.0\n",
      "Adrian           200.0\n",
      "Afton            225.0\n",
      "Agua Dulce       899.0\n",
      "Alpine          7883.0\n",
      "                ...   \n",
      "Wortham         1629.0\n",
      "Wrightsboro       19.0\n",
      "Yancey           379.0\n",
      "Yantis          3368.0\n",
      "Zavalla         2472.0\n",
      "Name: Population, Length: 410, dtype: float64\n"
     ]
    }
   ],
   "source": [
    "df = pandas.read_csv('/Users/Richard/Documents/MSDA/Databases/Churn DB/churn_raw_data.csv')\n",
    "df2 = df.loc[df['State'] == 'TX']\n",
    "tbl = df2.groupby('City')['Population'].mean().round(1)\n",
    "print(tbl)"
   ]
  }
 ],
 "metadata": {
  "kernelspec": {
   "display_name": "Python 3",
   "language": "python",
   "name": "python3"
  },
  "language_info": {
   "codemirror_mode": {
    "name": "ipython",
    "version": 3
   },
   "file_extension": ".py",
   "mimetype": "text/x-python",
   "name": "python",
   "nbconvert_exporter": "python",
   "pygments_lexer": "ipython3",
   "version": "3.8.8"
  }
 },
 "nbformat": 4,
 "nbformat_minor": 5
}
