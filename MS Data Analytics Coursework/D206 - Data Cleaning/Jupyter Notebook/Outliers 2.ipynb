{
 "cells": [
  {
   "cell_type": "markdown",
   "id": "7e9f5000",
   "metadata": {},
   "source": [
    "## Outliers PT 2"
   ]
  },
  {
   "cell_type": "code",
   "execution_count": 1,
   "id": "1bfd472b",
   "metadata": {},
   "outputs": [],
   "source": [
    "import pandas"
   ]
  },
  {
   "cell_type": "markdown",
   "id": "6f3f934d",
   "metadata": {},
   "source": [
    "### Displaying the values"
   ]
  },
  {
   "cell_type": "code",
   "execution_count": 2,
   "id": "a0e7fecb",
   "metadata": {},
   "outputs": [
    {
     "name": "stdout",
     "output_type": "stream",
     "text": [
      "Education                                 Employment\n",
      "9th Grade to 12th Grade, No Diploma       Full Time      509\n",
      "                                          Part Time       83\n",
      "                                          Retired        100\n",
      "                                          Student        103\n",
      "                                          Unemployed      75\n",
      "Associate's Degree                        Full Time      453\n",
      "                                          Part Time       77\n",
      "                                          Retired         79\n",
      "                                          Student         69\n",
      "                                          Unemployed      82\n",
      "Bachelor's Degree                         Full Time      988\n",
      "                                          Part Time      181\n",
      "                                          Retired        164\n",
      "                                          Student        185\n",
      "                                          Unemployed     185\n",
      "Doctorate Degree                          Full Time       68\n",
      "                                          Part Time       11\n",
      "                                          Retired          9\n",
      "                                          Student         11\n",
      "                                          Unemployed      17\n",
      "GED or Alternative Credential             Full Time      228\n",
      "                                          Part Time       42\n",
      "                                          Retired         38\n",
      "                                          Student         34\n",
      "                                          Unemployed      45\n",
      "Master's Degree                           Full Time      458\n",
      "                                          Part Time       77\n",
      "                                          Retired         86\n",
      "                                          Student         68\n",
      "                                          Unemployed      75\n",
      "No Schooling Completed                    Full Time       76\n",
      "                                          Part Time        9\n",
      "                                          Retired         14\n",
      "                                          Student          9\n",
      "                                          Unemployed      10\n",
      "Nursery School to 8th Grade               Full Time      258\n",
      "                                          Part Time       53\n",
      "                                          Retired         49\n",
      "                                          Student         44\n",
      "                                          Unemployed      45\n",
      "Professional School Degree                Full Time      128\n",
      "                                          Part Time       19\n",
      "                                          Retired         11\n",
      "                                          Student         19\n",
      "                                          Unemployed      21\n",
      "Regular High School Diploma               Full Time     1456\n",
      "                                          Part Time      255\n",
      "                                          Retired        253\n",
      "                                          Student        221\n",
      "                                          Unemployed     236\n",
      "Some College, 1 or More Years, No Degree  Full Time      963\n",
      "                                          Part Time      154\n",
      "                                          Retired        145\n",
      "                                          Student        143\n",
      "                                          Unemployed     157\n",
      "Some College, Less than 1 Year            Full Time      407\n",
      "                                          Part Time       81\n",
      "                                          Retired         63\n",
      "                                          Student         58\n",
      "                                          Unemployed      43\n",
      "dtype: int64\n"
     ]
    }
   ],
   "source": [
    "df = pandas.read_csv('/Users/Richard/Documents/MSDA/Databases/Churn DB/churn_raw_data.csv')\n",
    "df = df.groupby(['Education','Employment']).size()\n",
    "print(df)"
   ]
  },
  {
   "cell_type": "markdown",
   "id": "5c970a44",
   "metadata": {},
   "source": [
    "### Displaying the length"
   ]
  },
  {
   "cell_type": "code",
   "execution_count": 3,
   "id": "326b333c",
   "metadata": {},
   "outputs": [
    {
     "name": "stdout",
     "output_type": "stream",
     "text": [
      "[8 3 7 9 6]\n"
     ]
    }
   ],
   "source": [
    "df = pandas.read_csv('/Users/Richard/Documents/MSDA/Databases/Churn DB/churn_raw_data.csv')\n",
    "data = df['Income'].astype(str).str.len().unique()\n",
    "print(data)"
   ]
  },
  {
   "cell_type": "markdown",
   "id": "d06f9609",
   "metadata": {},
   "source": [
    "### Ensuring column values"
   ]
  },
  {
   "cell_type": "code",
   "execution_count": null,
   "id": "585b6c46",
   "metadata": {},
   "outputs": [],
   "source": [
    "df = pandas.read_csv('/Users/Richard/Documents/MSDA/Databases/Churn DB/churn_raw_data.csv')\n",
    "df['date_appraised'].unique()\n",
    "print(df['date_appraised'])"
   ]
  },
  {
   "cell_type": "markdown",
   "id": "07b9cdaa",
   "metadata": {},
   "source": [
    "### Creating a new column"
   ]
  },
  {
   "cell_type": "code",
   "execution_count": null,
   "id": "4fd16698",
   "metadata": {},
   "outputs": [],
   "source": [
    "df = pandas.read_csv('/Users/Richard/Documents/MSDA/Databases/Churn DB/churn_raw_data.csv')\n",
    "df['month_appraised'] = df['date_appraised'].apply(lambda x: str(x)[:7])\n",
    "df['month_appraised'].unique()"
   ]
  }
 ],
 "metadata": {
  "kernelspec": {
   "display_name": "Python 3",
   "language": "python",
   "name": "python3"
  },
  "language_info": {
   "codemirror_mode": {
    "name": "ipython",
    "version": 3
   },
   "file_extension": ".py",
   "mimetype": "text/x-python",
   "name": "python",
   "nbconvert_exporter": "python",
   "pygments_lexer": "ipython3",
   "version": "3.8.8"
  }
 },
 "nbformat": 4,
 "nbformat_minor": 5
}
