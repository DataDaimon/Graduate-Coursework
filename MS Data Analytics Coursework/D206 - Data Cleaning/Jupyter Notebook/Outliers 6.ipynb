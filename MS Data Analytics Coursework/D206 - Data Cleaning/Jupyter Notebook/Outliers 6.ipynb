{
 "cells": [
  {
   "cell_type": "markdown",
   "id": "1b5dd06d",
   "metadata": {},
   "source": [
    "## Outliers 6"
   ]
  },
  {
   "cell_type": "code",
   "execution_count": 1,
   "id": "4e2114bd",
   "metadata": {},
   "outputs": [],
   "source": [
    "import pandas"
   ]
  },
  {
   "cell_type": "markdown",
   "id": "3e6e621d",
   "metadata": {},
   "source": [
    "### Importing the dataset"
   ]
  },
  {
   "cell_type": "code",
   "execution_count": 3,
   "id": "fbcfeb04",
   "metadata": {},
   "outputs": [],
   "source": [
    "df = pandas.read_csv('/Users/Richard/Documents/MSDA/Databases/Churn DB/churn_raw_data.csv')"
   ]
  },
  {
   "cell_type": "markdown",
   "id": "0f61495c",
   "metadata": {},
   "source": [
    "### Identifying missing values"
   ]
  },
  {
   "cell_type": "code",
   "execution_count": 4,
   "id": "1bc7bc44",
   "metadata": {},
   "outputs": [
    {
     "name": "stdout",
     "output_type": "stream",
     "text": [
      "      Unnamed: 0  CaseOrder Customer_id                           Interaction  \\\n",
      "6              7          7     U335188  6630d501-838c-4be4-a59c-6f58c814ed6a   \n",
      "7              8          8     V538685  70ddaa89-b726-49dc-9022-2d655e4c7936   \n",
      "13            14         14      X44200  780992d3-d758-4152-aceb-5d59edda3d15   \n",
      "20            21         21     X325271  ebf7fbd7-9f65-48d8-8f82-b7b7fd4f3412   \n",
      "28            29         29     J887250  a49a3cbf-182c-49f5-b15f-e124582d2c8f   \n",
      "...          ...        ...         ...                                   ...   \n",
      "9985        9986       9986     O298138  b3b0eb22-a173-4636-ad76-0356426fcb6d   \n",
      "9987        9988       9988     C454652  c4cb88a8-dd44-46a4-84e7-891edf25cbaf   \n",
      "9992        9993       9993     B614851  ce7abedd-6437-4609-9123-8a4a8234381e   \n",
      "9995        9996       9996     M324793  45deb5a2-ae04-4518-bf0b-c82db8dbe4a4   \n",
      "9997        9998       9998     I243405  e8307ddf-9a01-4fff-bc59-4742e03fd24f   \n",
      "\n",
      "                City State        County    Zip       Lat        Lng  ...  \\\n",
      "6            Pioneer    TN         Scott  37847  36.43420  -84.27892  ...   \n",
      "7      Oklahoma City    OK      Oklahoma  73109  35.43313  -97.52463  ...   \n",
      "13    East Livermore    ME  Androscoggin   4228  44.43256  -70.11501  ...   \n",
      "20         Kaneville    IL          Kane  60144  41.83594  -88.52060  ...   \n",
      "28          Moretown    VT    Washington   5660  44.24718  -72.74137  ...   \n",
      "...              ...   ...           ...    ...       ...        ...  ...   \n",
      "9985         Coahoma    MS       Coahoma  38617  34.34947  -90.52248  ...   \n",
      "9987         Chicago    IL          Cook  60647  41.92068  -87.70167  ...   \n",
      "9992       Haubstadt    IN        Gibson  47639  38.17985  -87.57497  ...   \n",
      "9995     Mount Holly    VT       Rutland   5758  43.43391  -72.78734  ...   \n",
      "9997        Mobeetie    TX       Wheeler  79061  35.52039 -100.44180  ...   \n",
      "\n",
      "      MonthlyCharge Bandwidth_GB_Year item1 item2  item3  item4 item5 item6  \\\n",
      "6        200.064886       1907.242972     6     5      6      4     1     5   \n",
      "7        114.754111        979.612708     2     2      2      5     2     3   \n",
      "13       185.659294       1948.694497     5     6      5      2     4     5   \n",
      "20       185.096264       2330.319383     2     3      3      2     4     2   \n",
      "28       230.623765       1259.415493     3     4      3      3     2     4   \n",
      "...             ...               ...   ...   ...    ...    ...   ...   ...   \n",
      "9985     242.507200       4647.637000     3     3      3      5     4     5   \n",
      "9987     219.019400       5135.576000     4     4      3      5     3     3   \n",
      "9992     137.956100       5001.371000     3     2      4      3     4     3   \n",
      "9995     159.828800       6511.253000     3     2      3      3     4     3   \n",
      "9997     168.220900       4159.306000     4     4      4      4     4     4   \n",
      "\n",
      "      item7 item8  \n",
      "6         5     5  \n",
      "7         4     5  \n",
      "13        4     4  \n",
      "20        3     3  \n",
      "28        4     2  \n",
      "...     ...   ...  \n",
      "9985      4     4  \n",
      "9987      3     3  \n",
      "9992      4     3  \n",
      "9995      2     3  \n",
      "9997      4     5  \n",
      "\n",
      "[2475 rows x 52 columns]\n"
     ]
    }
   ],
   "source": [
    "df = pandas.read_csv('/Users/Richard/Documents/MSDA/Databases/Churn DB/churn_raw_data.csv')\n",
    "data = df.loc[df['Age'].isnull()]\n",
    "print(data)"
   ]
  },
  {
   "cell_type": "markdown",
   "id": "5977c298",
   "metadata": {},
   "source": [
    "### Removing rows"
   ]
  },
  {
   "cell_type": "code",
   "execution_count": 5,
   "id": "cb63acb4",
   "metadata": {},
   "outputs": [],
   "source": [
    "df = pandas.read_csv('/Users/Richard/Documents/MSDA/Databases/Churn DB/churn_raw_data.csv')\n",
    "df.dropna(subset=['Age'],inplace=True)"
   ]
  },
  {
   "cell_type": "markdown",
   "id": "897bb103",
   "metadata": {},
   "source": [
    "### Imputing the rows"
   ]
  },
  {
   "cell_type": "code",
   "execution_count": null,
   "id": "22615357",
   "metadata": {},
   "outputs": [],
   "source": [
    "df = pandas.read_csv('/Users/Richard/Documents/MSDA/Databases/Churn DB/churn_raw_data.csv')\n",
    "df['medv'] = df['medv'].fillna(df['medv'].median())\n",
    "print(df)"
   ]
  },
  {
   "cell_type": "markdown",
   "id": "71a4ccfe",
   "metadata": {},
   "source": [
    "### Isolating values"
   ]
  },
  {
   "cell_type": "code",
   "execution_count": null,
   "id": "a9d4c5cc",
   "metadata": {},
   "outputs": [],
   "source": [
    "df = pandas.read_csv('/Users/Richard/Documents/MSDA/Databases/Churn DB/churn_raw_data.csv')\n",
    "data = df.loc[df['locationid'].astype(str).str.len() != 3]\n",
    "print(data)"
   ]
  }
 ],
 "metadata": {
  "kernelspec": {
   "display_name": "Python 3",
   "language": "python",
   "name": "python3"
  },
  "language_info": {
   "codemirror_mode": {
    "name": "ipython",
    "version": 3
   },
   "file_extension": ".py",
   "mimetype": "text/x-python",
   "name": "python",
   "nbconvert_exporter": "python",
   "pygments_lexer": "ipython3",
   "version": "3.8.8"
  }
 },
 "nbformat": 4,
 "nbformat_minor": 5
}
