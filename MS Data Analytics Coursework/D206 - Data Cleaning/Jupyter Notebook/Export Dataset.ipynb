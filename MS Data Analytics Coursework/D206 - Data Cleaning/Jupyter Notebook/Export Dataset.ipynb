{
 "cells": [
  {
   "cell_type": "code",
   "execution_count": 1,
   "id": "3d443cfa",
   "metadata": {},
   "outputs": [],
   "source": [
    "import pandas\n",
    "import pandas as pd\n",
    "import numpy as np\n",
    "import seaborn as sns\n",
    "\n",
    "import matplotlib.pyplot as plt\n",
    "import matplotlib.mlab as mlab\n",
    "import matplotlib\n",
    "\n",
    "df = pandas.read_csv('/Users/Richard/OneDrive - Western Governors University/MSDA/Databases/Churn DB/churn_raw_data.csv')"
   ]
  },
  {
   "cell_type": "code",
   "execution_count": 2,
   "id": "cbeaf089",
   "metadata": {},
   "outputs": [],
   "source": [
    "df[\"Children\"].fillna(\"0\", inplace = True)"
   ]
  },
  {
   "cell_type": "code",
   "execution_count": 3,
   "id": "df1ec20b",
   "metadata": {},
   "outputs": [],
   "source": [
    "med = df['Age'].median()\n",
    "df['Age'] = df['Age'].fillna(med)"
   ]
  },
  {
   "cell_type": "code",
   "execution_count": 4,
   "id": "1dffd41d",
   "metadata": {},
   "outputs": [],
   "source": [
    "med = df['Income'].median()\n",
    "df['Income'] = df['Income'].fillna(med)"
   ]
  },
  {
   "cell_type": "code",
   "execution_count": 5,
   "id": "704bd047",
   "metadata": {},
   "outputs": [],
   "source": [
    "df[\"Techie\"].fillna(\"No\", inplace = True)"
   ]
  },
  {
   "cell_type": "code",
   "execution_count": 6,
   "id": "8618f859",
   "metadata": {},
   "outputs": [],
   "source": [
    "df[\"Phone\"].fillna(\"No\", inplace = True)"
   ]
  },
  {
   "cell_type": "code",
   "execution_count": 7,
   "id": "a2f91920",
   "metadata": {},
   "outputs": [],
   "source": [
    "df[\"TechSupport\"].fillna(\"No\", inplace = True)"
   ]
  },
  {
   "cell_type": "code",
   "execution_count": 8,
   "id": "4faf6f82",
   "metadata": {},
   "outputs": [],
   "source": [
    "med = df['Tenure'].median()\n",
    "df['Tenure'] = df['Tenure'].fillna(med)"
   ]
  },
  {
   "cell_type": "code",
   "execution_count": 9,
   "id": "cd5e2f32",
   "metadata": {},
   "outputs": [],
   "source": [
    "med = df['Bandwidth_GB_Year'].median()\n",
    "df['Bandwidth_GB_Year'] = df['Bandwidth_GB_Year'].fillna(med)"
   ]
  },
  {
   "cell_type": "code",
   "execution_count": 11,
   "id": "e0f0953b",
   "metadata": {},
   "outputs": [],
   "source": [
    "df = df.drop('Unnamed: 0', 1)"
   ]
  },
  {
   "cell_type": "code",
   "execution_count": 12,
   "id": "43b7371e",
   "metadata": {},
   "outputs": [],
   "source": [
    "df.to_csv('churn_clean.csv')"
   ]
  },
  {
   "cell_type": "code",
   "execution_count": null,
   "id": "d705e5f6",
   "metadata": {},
   "outputs": [],
   "source": []
  }
 ],
 "metadata": {
  "kernelspec": {
   "display_name": "Python 3",
   "language": "python",
   "name": "python3"
  },
  "language_info": {
   "codemirror_mode": {
    "name": "ipython",
    "version": 3
   },
   "file_extension": ".py",
   "mimetype": "text/x-python",
   "name": "python",
   "nbconvert_exporter": "python",
   "pygments_lexer": "ipython3",
   "version": "3.8.8"
  }
 },
 "nbformat": 4,
 "nbformat_minor": 5
}
