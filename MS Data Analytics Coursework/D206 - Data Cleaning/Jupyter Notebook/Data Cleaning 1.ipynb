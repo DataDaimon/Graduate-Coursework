{
 "cells": [
  {
   "cell_type": "markdown",
   "id": "81944116",
   "metadata": {},
   "source": [
    "## Import and Analyze Data"
   ]
  },
  {
   "cell_type": "code",
   "execution_count": 8,
   "id": "ee4146ec",
   "metadata": {},
   "outputs": [],
   "source": [
    "import pandas"
   ]
  },
  {
   "cell_type": "markdown",
   "id": "21f620cc",
   "metadata": {},
   "source": [
    "### Import churn data csv and display first five rows"
   ]
  },
  {
   "cell_type": "code",
   "execution_count": 9,
   "id": "9220b9c1",
   "metadata": {
    "scrolled": true
   },
   "outputs": [
    {
     "name": "stdout",
     "output_type": "stream",
     "text": [
      "   Unnamed: 0  CaseOrder Customer_id                           Interaction  \\\n",
      "0           1          1     K409198  aa90260b-4141-4a24-8e36-b04ce1f4f77b   \n",
      "1           2          2     S120509  fb76459f-c047-4a9d-8af9-e0f7d4ac2524   \n",
      "2           3          3     K191035  344d114c-3736-4be5-98f7-c72c281e2d35   \n",
      "3           4          4      D90850  abfa2b40-2d43-4994-b15a-989b8c79e311   \n",
      "4           5          5     K662701  68a861fd-0d20-4e51-a587-8a90407ee574   \n",
      "\n",
      "          City State                 County    Zip       Lat        Lng  ...  \\\n",
      "0  Point Baker    AK  Prince of Wales-Hyder  99927  56.25100 -133.37571  ...   \n",
      "1  West Branch    MI                 Ogemaw  48661  44.32893  -84.24080  ...   \n",
      "2      Yamhill    OR                Yamhill  97148  45.35589 -123.24657  ...   \n",
      "3      Del Mar    CA              San Diego  92014  32.96687 -117.24798  ...   \n",
      "4    Needville    TX              Fort Bend  77461  29.38012  -95.80673  ...   \n",
      "\n",
      "   MonthlyCharge Bandwidth_GB_Year item1 item2  item3  item4 item5 item6  \\\n",
      "0     171.449762        904.536110     5     5      5      3     4     4   \n",
      "1     242.948015        800.982766     3     4      3      3     4     3   \n",
      "2     159.440398       2054.706961     4     4      2      4     4     3   \n",
      "3     120.249493       2164.579412     4     4      4      2     5     4   \n",
      "4     150.761216        271.493436     4     4      4      3     4     4   \n",
      "\n",
      "   item7 item8  \n",
      "0      3     4  \n",
      "1      4     4  \n",
      "2      3     3  \n",
      "3      3     3  \n",
      "4      4     5  \n",
      "\n",
      "[5 rows x 52 columns]\n"
     ]
    }
   ],
   "source": [
    "df = pandas.read_csv('/Users/Richard/Documents/MSDA/Databases/Churn DB/churn_raw_data.csv')\n",
    "data = df.head(5)\n",
    "print(data)"
   ]
  },
  {
   "cell_type": "markdown",
   "id": "2e1e6918",
   "metadata": {},
   "source": [
    "### Displaying number of rows and columns"
   ]
  },
  {
   "cell_type": "code",
   "execution_count": 14,
   "id": "a25d3547",
   "metadata": {},
   "outputs": [
    {
     "name": "stdout",
     "output_type": "stream",
     "text": [
      "(10000, 52)\n"
     ]
    }
   ],
   "source": [
    "df = pandas.read_csv('/Users/Richard/Documents/MSDA/Databases/Churn DB/churn_raw_data.csv')\n",
    "data = df.shape\n",
    "print(data)"
   ]
  },
  {
   "cell_type": "markdown",
   "id": "2ddb222b",
   "metadata": {},
   "source": [
    "### Displaying column names"
   ]
  },
  {
   "cell_type": "code",
   "execution_count": 17,
   "id": "a6d41632",
   "metadata": {},
   "outputs": [
    {
     "name": "stdout",
     "output_type": "stream",
     "text": [
      "Index(['Unnamed: 0', 'CaseOrder', 'Customer_id', 'Interaction', 'City',\n",
      "       'State', 'County', 'Zip', 'Lat', 'Lng', 'Population', 'Area',\n",
      "       'Timezone', 'Job', 'Children', 'Age', 'Education', 'Employment',\n",
      "       'Income', 'Marital', 'Gender', 'Churn', 'Outage_sec_perweek', 'Email',\n",
      "       'Contacts', 'Yearly_equip_failure', 'Techie', 'Contract', 'Port_modem',\n",
      "       'Tablet', 'InternetService', 'Phone', 'Multiple', 'OnlineSecurity',\n",
      "       'OnlineBackup', 'DeviceProtection', 'TechSupport', 'StreamingTV',\n",
      "       'StreamingMovies', 'PaperlessBilling', 'PaymentMethod', 'Tenure',\n",
      "       'MonthlyCharge', 'Bandwidth_GB_Year', 'item1', 'item2', 'item3',\n",
      "       'item4', 'item5', 'item6', 'item7', 'item8'],\n",
      "      dtype='object')\n"
     ]
    }
   ],
   "source": [
    "df = pandas.read_csv('/Users/Richard/Documents/MSDA/Databases/Churn DB/churn_raw_data.csv')\n",
    "data = df.columns\n",
    "print(data)"
   ]
  },
  {
   "cell_type": "markdown",
   "id": "60c4655e",
   "metadata": {},
   "source": [
    "### Displaying mean, count, min, and max"
   ]
  },
  {
   "cell_type": "code",
   "execution_count": 19,
   "id": "8f15ad3f",
   "metadata": {},
   "outputs": [
    {
     "name": "stdout",
     "output_type": "stream",
     "text": [
      "        Unnamed: 0    CaseOrder           Zip           Lat           Lng  \\\n",
      "count  10000.00000  10000.00000  10000.000000  10000.000000  10000.000000   \n",
      "mean    5000.50000   5000.50000  49153.319600     38.757567    -90.782536   \n",
      "std     2886.89568   2886.89568  27532.196108      5.437389     15.156142   \n",
      "min        1.00000      1.00000    601.000000     17.966120   -171.688150   \n",
      "25%     2500.75000   2500.75000  26292.500000     35.341828    -97.082812   \n",
      "50%     5000.50000   5000.50000  48869.500000     39.395800    -87.918800   \n",
      "75%     7500.25000   7500.25000  71866.500000     42.106908    -80.088745   \n",
      "max    10000.00000  10000.00000  99929.000000     70.640660    -65.667850   \n",
      "\n",
      "          Population     Children          Age         Income  \\\n",
      "count   10000.000000  7505.000000  7525.000000    7510.000000   \n",
      "mean     9756.562400     2.095936    53.275748   39936.762226   \n",
      "std     14432.698671     2.154758    20.753928   28358.469482   \n",
      "min         0.000000     0.000000    18.000000     740.660000   \n",
      "25%       738.000000     0.000000    35.000000   19285.522500   \n",
      "50%      2910.500000     1.000000    53.000000   33186.785000   \n",
      "75%     13168.000000     3.000000    71.000000   53472.395000   \n",
      "max    111850.000000    10.000000    89.000000  258900.700000   \n",
      "\n",
      "       Outage_sec_perweek  ...  MonthlyCharge  Bandwidth_GB_Year  \\\n",
      "count        10000.000000  ...   10000.000000        8979.000000   \n",
      "mean            11.452955  ...     174.076305        3398.842752   \n",
      "std              7.025921  ...      43.335473        2187.396807   \n",
      "min             -1.348571  ...      77.505230         155.506715   \n",
      "25%              8.054362  ...     141.071078        1234.110529   \n",
      "50%             10.202896  ...     169.915400        3382.424000   \n",
      "75%             12.487644  ...     203.777441        5587.096500   \n",
      "max             47.049280  ...     315.878600        7158.982000   \n",
      "\n",
      "              item1         item2         item3         item4         item5  \\\n",
      "count  10000.000000  10000.000000  10000.000000  10000.000000  10000.000000   \n",
      "mean       3.490800      3.505100      3.487000      3.497500      3.492900   \n",
      "std        1.037797      1.034641      1.027977      1.025816      1.024819   \n",
      "min        1.000000      1.000000      1.000000      1.000000      1.000000   \n",
      "25%        3.000000      3.000000      3.000000      3.000000      3.000000   \n",
      "50%        3.000000      4.000000      3.000000      3.000000      3.000000   \n",
      "75%        4.000000      4.000000      4.000000      4.000000      4.000000   \n",
      "max        7.000000      7.000000      8.000000      7.000000      7.000000   \n",
      "\n",
      "              item6         item7         item8  \n",
      "count  10000.000000  10000.000000  10000.000000  \n",
      "mean       3.497300      3.509500      3.495600  \n",
      "std        1.033586      1.028502      1.028633  \n",
      "min        1.000000      1.000000      1.000000  \n",
      "25%        3.000000      3.000000      3.000000  \n",
      "50%        3.000000      4.000000      3.000000  \n",
      "75%        4.000000      4.000000      4.000000  \n",
      "max        8.000000      7.000000      8.000000  \n",
      "\n",
      "[8 rows x 24 columns]\n"
     ]
    }
   ],
   "source": [
    "df = pandas.read_csv('/Users/Richard/Documents/MSDA/Databases/Churn DB/churn_raw_data.csv')\n",
    "data = df.describe()\n",
    "print(data)"
   ]
  },
  {
   "cell_type": "markdown",
   "id": "11c96ec1",
   "metadata": {},
   "source": [
    "### Displaying the variable type"
   ]
  },
  {
   "cell_type": "code",
   "execution_count": 20,
   "id": "f4fff84a",
   "metadata": {},
   "outputs": [
    {
     "name": "stdout",
     "output_type": "stream",
     "text": [
      "Unnamed: 0                int64\n",
      "CaseOrder                 int64\n",
      "Customer_id              object\n",
      "Interaction              object\n",
      "City                     object\n",
      "State                    object\n",
      "County                   object\n",
      "Zip                       int64\n",
      "Lat                     float64\n",
      "Lng                     float64\n",
      "Population                int64\n",
      "Area                     object\n",
      "Timezone                 object\n",
      "Job                      object\n",
      "Children                float64\n",
      "Age                     float64\n",
      "Education                object\n",
      "Employment               object\n",
      "Income                  float64\n",
      "Marital                  object\n",
      "Gender                   object\n",
      "Churn                    object\n",
      "Outage_sec_perweek      float64\n",
      "Email                     int64\n",
      "Contacts                  int64\n",
      "Yearly_equip_failure      int64\n",
      "Techie                   object\n",
      "Contract                 object\n",
      "Port_modem               object\n",
      "Tablet                   object\n",
      "InternetService          object\n",
      "Phone                    object\n",
      "Multiple                 object\n",
      "OnlineSecurity           object\n",
      "OnlineBackup             object\n",
      "DeviceProtection         object\n",
      "TechSupport              object\n",
      "StreamingTV              object\n",
      "StreamingMovies          object\n",
      "PaperlessBilling         object\n",
      "PaymentMethod            object\n",
      "Tenure                  float64\n",
      "MonthlyCharge           float64\n",
      "Bandwidth_GB_Year       float64\n",
      "item1                     int64\n",
      "item2                     int64\n",
      "item3                     int64\n",
      "item4                     int64\n",
      "item5                     int64\n",
      "item6                     int64\n",
      "item7                     int64\n",
      "item8                     int64\n",
      "dtype: object\n"
     ]
    }
   ],
   "source": [
    "df = pandas.read_csv('/Users/Richard/Documents/MSDA/Databases/Churn DB/churn_raw_data.csv')\n",
    "data = df.dtypes\n",
    "print(data)"
   ]
  },
  {
   "cell_type": "markdown",
   "id": "787466ac",
   "metadata": {},
   "source": [
    "### Displaying unique values (Age)"
   ]
  },
  {
   "cell_type": "code",
   "execution_count": 22,
   "id": "ddcaecd7",
   "metadata": {},
   "outputs": [
    {
     "name": "stdout",
     "output_type": "stream",
     "text": [
      "[68. 27. 50. 48. 83. nan 49. 86. 23. 56. 30. 39. 63. 60. 61. 52. 75. 77.\n",
      " 47. 70. 69. 45. 40. 82. 26. 25. 66. 72. 41. 44. 43. 84. 59. 31. 51. 58.\n",
      " 73. 33. 42. 81. 87. 54. 67. 46. 24. 20. 71. 32. 29. 80. 53. 79. 65. 35.\n",
      " 34. 74. 55. 76. 57. 38. 78. 19. 36. 88. 62. 37. 28. 22. 85. 89. 18. 21.\n",
      " 64.]\n"
     ]
    }
   ],
   "source": [
    "df = pandas.read_csv('/Users/Richard/Documents/MSDA/Databases/Churn DB/churn_raw_data.csv')\n",
    "data = df['Age'].unique()\n",
    "print(data)"
   ]
  },
  {
   "cell_type": "markdown",
   "id": "e0d1a54f",
   "metadata": {},
   "source": [
    "### Displaying unique values and number of times each value appears"
   ]
  },
  {
   "cell_type": "code",
   "execution_count": 24,
   "id": "7f2ee3b6",
   "metadata": {},
   "outputs": [
    {
     "name": "stdout",
     "output_type": "stream",
     "text": [
      "55.0    128\n",
      "41.0    122\n",
      "77.0    121\n",
      "80.0    120\n",
      "57.0    120\n",
      "       ... \n",
      "87.0     92\n",
      "59.0     92\n",
      "78.0     92\n",
      "18.0     90\n",
      "47.0     87\n",
      "Name: Age, Length: 72, dtype: int64\n"
     ]
    }
   ],
   "source": [
    "df = pandas.read_csv('/Users/Richard/Documents/MSDA/Databases/Churn DB/churn_raw_data.csv')\n",
    "data = df['Age'].value_counts()\n",
    "print(data)"
   ]
  }
 ],
 "metadata": {
  "kernelspec": {
   "display_name": "Python 3",
   "language": "python",
   "name": "python3"
  },
  "language_info": {
   "codemirror_mode": {
    "name": "ipython",
    "version": 3
   },
   "file_extension": ".py",
   "mimetype": "text/x-python",
   "name": "python",
   "nbconvert_exporter": "python",
   "pygments_lexer": "ipython3",
   "version": "3.8.8"
  }
 },
 "nbformat": 4,
 "nbformat_minor": 5
}
