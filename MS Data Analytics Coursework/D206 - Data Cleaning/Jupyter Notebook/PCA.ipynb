{
 "cells": [
  {
   "cell_type": "markdown",
   "id": "fe5d8c21",
   "metadata": {},
   "source": [
    "## Principal Component Analysis and Data Reduction"
   ]
  },
  {
   "cell_type": "code",
   "execution_count": 1,
   "id": "e265fbea",
   "metadata": {},
   "outputs": [],
   "source": [
    "import pandas\n",
    "import numpy"
   ]
  },
  {
   "cell_type": "markdown",
   "id": "1384fc04",
   "metadata": {},
   "source": [
    "### Import dataset"
   ]
  },
  {
   "cell_type": "code",
   "execution_count": 2,
   "id": "d4afc42e",
   "metadata": {
    "scrolled": true
   },
   "outputs": [
    {
     "name": "stdout",
     "output_type": "stream",
     "text": [
      "   locationid     crim    zn  indus  chas    nox     rm   age     dis  rad  \\\n",
      "0         101  0.00632  18.0   2.31   0.0  0.538  6.575  65.2  4.0900  NaN   \n",
      "1         102  0.02731   0.0   7.07   0.0  0.469  6.421  78.9  4.9671  NaN   \n",
      "2         103  0.02729   0.0   7.07   0.0  0.469  7.185  61.1  4.9671  2.0   \n",
      "3         104  0.03237   0.0   2.18   0.0  0.458  6.998  45.8  6.0622  NaN   \n",
      "4         105  0.06905   0.0   2.18   0.0  0.458  7.147  54.2  6.0622  3.0   \n",
      "\n",
      "     tax  ptratio  lstat  medv date_appraised locationzone locationdistrict  \\\n",
      "0  296.0     15.3   4.98  24.0     2016-03-27           N3                N   \n",
      "1  242.0     17.8   9.14  21.6     2016-03-28           B2                B   \n",
      "2  242.0     17.8   4.03  34.7     2016-03-27           G3                G   \n",
      "3  222.0     18.7   2.94  33.4     2016-03-26           D2                D   \n",
      "4  222.0     18.7   5.33  36.2     2016-03-28           M3                M   \n",
      "\n",
      "  areatype              areasubtype  \n",
      "0    Rural  Rural + high population  \n",
      "1    Other  Other + high population  \n",
      "2    Other   Other + low population  \n",
      "3    Other   Other + med population  \n",
      "4    Other   Other + low population  \n"
     ]
    }
   ],
   "source": [
    "df = pandas.read_csv('/Users/Richard/Documents/MSDA/Databases/Boston_housing_data_wrong_areatype_w_subtype.csv',dtype={'locationid':numpy.int64})\n",
    "print(df.head())"
   ]
  },
  {
   "cell_type": "markdown",
   "id": "919a156e",
   "metadata": {},
   "source": [
    "### Viewing the unique areatype"
   ]
  },
  {
   "cell_type": "code",
   "execution_count": 3,
   "id": "207e85bf",
   "metadata": {},
   "outputs": [
    {
     "name": "stdout",
     "output_type": "stream",
     "text": [
      "areatype  areasubtype               \n",
      "Other     Other + high population       61\n",
      "          Other + low population        63\n",
      "          Other + med population        59\n",
      "Rural     Rural + high population       59\n",
      "          Rural + low population        69\n",
      "          Rural + med population        42\n",
      "Suburban  Suburban + high population    44\n",
      "          Suburban + low population     49\n",
      "          Suburban + med population     61\n",
      "red       Rural + high population        1\n",
      "dtype: int64\n"
     ]
    }
   ],
   "source": [
    "df = pandas.read_csv('/Users/Richard/Documents/MSDA/Databases/Boston_housing_data_wrong_areatype_w_subtype.csv',dtype={'locationid':numpy.int64})\n",
    "print(df.groupby(['areatype','areasubtype']).size())"
   ]
  },
  {
   "cell_type": "markdown",
   "id": "51f1f0a0",
   "metadata": {},
   "source": [
    "### Displaying the subset"
   ]
  },
  {
   "cell_type": "code",
   "execution_count": 5,
   "id": "e19564b1",
   "metadata": {},
   "outputs": [
    {
     "name": "stdout",
     "output_type": "stream",
     "text": [
      "        crim    zn  chas    nox   age      dis    tax  ptratio  lstat   medv\n",
      "0    0.00632  18.0   0.0  0.538  65.2   4.0900  296.0     15.3   4.98   24.0\n",
      "1    0.02731   0.0   0.0  0.469  78.9   4.9671  242.0     17.8   9.14   21.6\n",
      "2    0.02729   0.0   0.0  0.469  61.1   4.9671  242.0     17.8   4.03   34.7\n",
      "3    0.03237   0.0   0.0  0.458  45.8   6.0622  222.0     18.7   2.94   33.4\n",
      "4    0.06905   0.0   0.0  0.458  54.2   6.0622  222.0     18.7   5.33   36.2\n",
      "..       ...   ...   ...    ...   ...      ...    ...      ...    ...    ...\n",
      "503  0.04527   0.0   0.0  0.573  76.7   2.2875  273.0     21.0   9.08   20.6\n",
      "504  0.06076   0.0   0.0  0.573  91.0   2.1675  273.0     21.0   5.64   23.9\n",
      "505  0.10959   0.0   0.0  0.573  89.3   2.3889  273.0     21.0   6.48   22.0\n",
      "506  0.04741   0.0   0.0  0.573  80.8   2.5050  273.0     21.0   7.88   11.9\n",
      "507  0.50000  90.0   1.0  0.310   4.3  10.6000  511.0     19.0   1.62  120.0\n",
      "\n",
      "[508 rows x 10 columns]\n"
     ]
    }
   ],
   "source": [
    "data = pandas.read_csv('/Users/Richard/Documents/MSDA/Databases/Boston_housing_data_wrong_areatype_w_subtype.csv',dtype={'locationid':numpy.int64})\n",
    "data_numeric = data[['crim','zn','chas','nox','age','dis','tax','ptratio','lstat','medv']]\n",
    "print(data_numeric)"
   ]
  },
  {
   "cell_type": "markdown",
   "id": "68bd8c74",
   "metadata": {},
   "source": [
    "### Displaying PCA names"
   ]
  },
  {
   "cell_type": "code",
   "execution_count": 8,
   "id": "9d6841cd",
   "metadata": {},
   "outputs": [
    {
     "name": "stdout",
     "output_type": "stream",
     "text": [
      "['PC1', 'PC2', 'PC3', 'PC4', 'PC5', 'PC6', 'PC7', 'PC8', 'PC9', 'PC10']\n"
     ]
    }
   ],
   "source": [
    "data = pandas.read_csv('/Users/Richard/Documents/MSDA/Databases/Boston_housing_data_wrong_areatype_w_subtype.csv',dtype={'locationid':numpy.int64})\n",
    "data_numeric = data[ ['crim','zn','chas','nox','age','dis','tax','ptratio','lstat','medv'] ]\n",
    "pcs_names = []\n",
    "for i, col in enumerate(data_numeric.columns):\n",
    "    pcs_names.append('PC' + str(i+1))\n",
    "print(pcs_names)"
   ]
  },
  {
   "cell_type": "markdown",
   "id": "a1c951bc",
   "metadata": {},
   "source": [
    "### Normalizing dataset"
   ]
  },
  {
   "cell_type": "code",
   "execution_count": 9,
   "id": "45e59968",
   "metadata": {
    "scrolled": true
   },
   "outputs": [
    {
     "name": "stdout",
     "output_type": "stream",
     "text": [
      "         crim        zn      chas       nox       age       dis       tax  \\\n",
      "0   -0.418536  0.267055 -0.275900 -0.137020 -0.112808  0.130150 -0.667434   \n",
      "1   -0.416092 -0.490961 -0.275900 -0.730204  0.371820  0.542721 -0.988314   \n",
      "2   -0.416094 -0.490961 -0.275900 -0.730204 -0.257842  0.542721 -0.988314   \n",
      "3   -0.415503 -0.490961 -0.275900 -0.824769 -0.799069  1.057835 -1.107158   \n",
      "4   -0.411231 -0.490961 -0.275900 -0.824769 -0.501925  1.057835 -1.107158   \n",
      "..        ...       ...       ...       ...       ...       ...       ...   \n",
      "503 -0.414000 -0.490961 -0.275900  0.163870  0.293997 -0.717712 -0.804105   \n",
      "504 -0.412197 -0.490961 -0.275900  0.163870  0.799849 -0.774158 -0.804105   \n",
      "505 -0.406510 -0.490961 -0.275900  0.163870  0.739713 -0.670015 -0.804105   \n",
      "506 -0.413751 -0.490961 -0.275900  0.163870  0.439031 -0.615404 -0.804105   \n",
      "507 -0.361046  3.299120  3.617361 -2.097106 -2.267103  3.192329  0.610141   \n",
      "\n",
      "      ptratio     lstat      medv  \n",
      "0   -1.453108 -1.069057  0.125384  \n",
      "1   -0.299559 -0.487034 -0.111144  \n",
      "2   -0.299559 -1.201971  1.179905  \n",
      "3    0.115718 -1.354472  1.051786  \n",
      "4    0.115718 -1.020089  1.327736  \n",
      "..        ...       ...       ...  \n",
      "503  1.176983 -0.495428 -0.209698  \n",
      "504  1.176983 -0.976717  0.115529  \n",
      "505  1.176983 -0.859193 -0.071723  \n",
      "506  1.176983 -0.663319 -1.067112  \n",
      "507  0.254144 -1.539153  9.586511  \n",
      "\n",
      "[508 rows x 10 columns]\n"
     ]
    }
   ],
   "source": [
    "data = pandas.read_csv('/Users/Richard/Documents/MSDA/Databases/Boston_housing_data_wrong_areatype_w_subtype.csv',dtype={'locationid':numpy.int64})\n",
    "data_numeric = data[ ['crim','zn','chas','nox','age','dis','tax','ptratio','lstat','medv'] ] \n",
    "data_normed = (data_numeric - data_numeric.mean()) / data_numeric.std()\n",
    "print(data_normed)"
   ]
  },
  {
   "cell_type": "markdown",
   "id": "ffab6ed7",
   "metadata": {},
   "source": [
    "### Specifying number of components"
   ]
  },
  {
   "cell_type": "code",
   "execution_count": 16,
   "id": "9874054d",
   "metadata": {},
   "outputs": [
    {
     "name": "stdout",
     "output_type": "stream",
     "text": [
      "          PC1       PC2       PC3       PC4       PC5       PC6       PC7  \\\n",
      "0    1.342778  0.625148 -0.228217 -1.088349 -0.095184  0.207490 -0.406953   \n",
      "1    0.860614 -0.015591 -1.025897 -0.100099 -0.159443  0.583202  0.326937   \n",
      "2    1.744538  0.470895 -0.754337 -0.031384  0.929946  0.554919  0.158325   \n",
      "3    2.133251 -0.045128 -0.766529  0.426034  0.953271  0.605802 -0.108642   \n",
      "4    1.982165  0.090526 -0.750016  0.358022  0.917901  0.552417  0.281084   \n",
      "..        ...       ...       ...       ...       ...       ...       ...   \n",
      "503 -0.360778 -0.029167 -1.261804  0.509548  0.606127  0.071783  0.274625   \n",
      "504 -0.296938  0.332337 -1.285106  0.439513  1.020379  0.004148  0.570568   \n",
      "505 -0.336883  0.184288 -1.289388  0.465626  0.838324  0.021825  0.502392   \n",
      "506 -0.573526 -0.353158 -1.406928  0.547163  0.200686  0.120882  0.017433   \n",
      "507  7.190762  3.458461  4.879250  3.003465  3.534699 -1.798387  2.787047   \n",
      "\n",
      "          PC8       PC9      PC10  \n",
      "0   -0.604387 -0.123641 -0.240634  \n",
      "1   -0.447073 -0.537761 -0.086393  \n",
      "2   -0.082900 -0.427345  0.255880  \n",
      "3   -0.109929 -0.417621  0.558330  \n",
      "4    0.116502 -0.537918  0.650074  \n",
      "..        ...       ...       ...  \n",
      "503 -0.596863  0.789440  0.167425  \n",
      "504 -0.987106  0.593905  0.122765  \n",
      "505 -0.978002  0.567645  0.139446  \n",
      "506 -1.172369  0.728592 -0.065580  \n",
      "507  3.565762 -1.133561  2.131676  \n",
      "\n",
      "[508 rows x 10 columns]\n"
     ]
    }
   ],
   "source": [
    "from sklearn.decomposition import PCA\n",
    "import seaborn as sns\n",
    "import matplotlib.pyplot as plt\n",
    "data = pandas.read_csv('/Users/Richard/Documents/MSDA/Databases/Boston_housing_data_wrong_areatype_w_subtype.csv',dtype={'locationid':numpy.int64})\n",
    "data_numeric = data[ ['crim','zn','chas','nox','age','dis','tax','ptratio','lstat','medv'] ] \n",
    "pcs_names = [] \n",
    "for i, col in enumerate(data_numeric.columns): \n",
    "    pcs_names.append('PC' + str(i+1)) \n",
    "data_normed = (data_numeric - data_numeric.mean()) / data_numeric.std()\n",
    "pca = PCA(n_components=data_normed.shape[1])\n",
    "pca.fit(data_normed)\n",
    "data_pca = pandas.DataFrame(pca.transform(data_normed),columns = pcs_names)\n",
    "print(data_pca)"
   ]
  },
  {
   "cell_type": "markdown",
   "id": "a8a8e83a",
   "metadata": {},
   "source": [
    "### Creating a scree plot"
   ]
  },
  {
   "cell_type": "code",
   "execution_count": 14,
   "id": "dc0b9572",
   "metadata": {},
   "outputs": [
    {
     "data": {
      "text/plain": [
       "Text(0.5, 0, 'Principal component')"
      ]
     },
     "execution_count": 14,
     "metadata": {},
     "output_type": "execute_result"
    },
    {
     "data": {
      "image/png": "[encoded data removed]",
      "text/plain": [
       "<Figure size 432x288 with 1 Axes>"
      ]
     },
     "metadata": {
      "needs_background": "light"
     },
     "output_type": "display_data"
    }
   ],
   "source": [
    "from sklearn.decomposition import PCA\n",
    "import seaborn as sns\n",
    "import matplotlib.pyplot as plt\n",
    "data = pandas.read_csv('/Users/Richard/Documents/MSDA/Databases/Boston_housing_data_wrong_areatype_w_subtype.csv',dtype={'locationid':numpy.int64})\n",
    "data_numeric = data[ ['crim','zn','chas','nox','age','dis','tax','ptratio','lstat','medv'] ]  \n",
    "data_normed = (data_numeric - data_numeric.mean()) / data_numeric.std()\n",
    "pca = PCA(n_components=data_normed.shape[1]) \n",
    "pca.fit(data_normed) \n",
    "sns.lineplot(y = pca.explained_variance_ratio_, x = range(1,11))\n",
    "plt.ylabel('Explained variance')\n",
    "plt.xlabel('Principal component')"
   ]
  },
  {
   "cell_type": "markdown",
   "id": "f8e8a083",
   "metadata": {},
   "source": [
    "### Selecting the fewest components"
   ]
  },
  {
   "cell_type": "code",
   "execution_count": 20,
   "id": "e37b4383",
   "metadata": {},
   "outputs": [
    {
     "name": "stdout",
     "output_type": "stream",
     "text": [
      "PC1 0.47859499990792465\n",
      "PC2 0.6178139657282264\n",
      "PC3 0.7123156607559384\n",
      "PC4 0.7944517552060582\n",
      "PC5 0.8636122674875764\n",
      "PC6 0.9102063617591393\n",
      "PC7 0.9432057269953477\n",
      "PC8 0.9662321226682103\n",
      "PC9 0.9850413688099852\n",
      "PC10 1.0000000000000002\n"
     ]
    }
   ],
   "source": [
    "import pandas as pd\n",
    "import numpy as np\n",
    "ata = pd.read_csv('/Users/Richard/Documents/MSDA/Databases/Boston_housing_data_wrong_areatype_w_subtype.csv') \n",
    "data_numeric = data[ ['crim','zn','chas','nox','age','dis','tax','ptratio','lstat','medv'] ] \n",
    "data_normed = (data_numeric - data_numeric.mean()) / data_numeric.std() \n",
    "pca = PCA(n_components=data_normed.shape[1]) \n",
    "pca.fit(data_normed) \n",
    "pcs_names = [] \n",
    "for i, col in enumerate(data_numeric.columns): \n",
    "    pcs_names.append('PC' + str(i+1))\n",
    "for pc, var in zip(pcs_names,np.cumsum(pca.explained_variance_ratio_)):\n",
    "   print(pc,var)"
   ]
  },
  {
   "cell_type": "markdown",
   "id": "86f57c5c",
   "metadata": {},
   "source": [
    "### Creating a rotation"
   ]
  },
  {
   "cell_type": "code",
   "execution_count": 21,
   "id": "e53c42a5",
   "metadata": {},
   "outputs": [
    {
     "name": "stdout",
     "output_type": "stream",
     "text": [
      "              PC1       PC2       PC3       PC4       PC5       PC6       PC7  \\\n",
      "crim    -0.275660 -0.180277  0.600904 -0.065864  0.191533  0.678388  0.080232   \n",
      "zn       0.313547 -0.173838  0.538305 -0.166851 -0.206307 -0.416629  0.327633   \n",
      "chas     0.014977  0.579499  0.301014  0.652130 -0.363617  0.068979 -0.072793   \n",
      "nox     -0.385361  0.244955  0.082498 -0.226532 -0.031160 -0.280331 -0.313613   \n",
      "age     -0.372528  0.257991 -0.121289 -0.139030 -0.043113 -0.102953  0.645921   \n",
      "dis      0.369255 -0.337503  0.125627  0.153940 -0.235842 -0.054838  0.005605   \n",
      "tax     -0.349469 -0.100598  0.415262  0.055219  0.253254 -0.481973 -0.294242   \n",
      "ptratio -0.236301 -0.392582 -0.150720  0.664409  0.334891 -0.175007  0.255033   \n",
      "lstat   -0.365372 -0.162028  0.016968 -0.045967 -0.514008 -0.011884  0.300823   \n",
      "medv     0.300637  0.412914  0.160583 -0.040038  0.538136 -0.078698  0.351009   \n",
      "\n",
      "              PC8       PC9      PC10  \n",
      "crim    -0.108636  0.004946  0.104546  \n",
      "zn      -0.212408  0.422353 -0.082892  \n",
      "chas    -0.048631  0.012576 -0.057240  \n",
      "nox     -0.193983  0.182836  0.695991  \n",
      "age     -0.424897 -0.374641 -0.100292  \n",
      "dis     -0.108065 -0.648380  0.468538  \n",
      "tax      0.180415 -0.391184 -0.351668  \n",
      "ptratio -0.086883  0.258788  0.208674  \n",
      "lstat    0.682471  0.036587  0.126107  \n",
      "medv     0.452776 -0.076933  0.286032  \n"
     ]
    }
   ],
   "source": [
    "data = pd.read_csv('/Users/Richard/Documents/MSDA/Databases/Boston_housing_data_wrong_areatype_w_subtype.csv') \n",
    "data_numeric = data[ ['crim','zn','chas','nox','age','dis','tax','ptratio','lstat','medv'] ] \n",
    "pcs_names = [] \n",
    "for i, col in enumerate(data_numeric.columns): \n",
    "    pcs_names.append('PC' + str(i+1)) \n",
    "data_normed = (data_numeric - data_numeric.mean()) / data_numeric.std()\n",
    "pca = PCA(n_components=data_normed.shape[1]) \n",
    "pca.fit(data_normed) \n",
    "rotation = pd.DataFrame(pca.components_.T, columns = pcs_names, index = data_numeric.columns)\n",
    "print(rotation)"
   ]
  },
  {
   "cell_type": "markdown",
   "id": "d9e7ef20",
   "metadata": {},
   "source": [
    "### Creating components"
   ]
  },
  {
   "cell_type": "code",
   "execution_count": 23,
   "id": "b658aba2",
   "metadata": {},
   "outputs": [
    {
     "name": "stdout",
     "output_type": "stream",
     "text": [
      "          PC1       PC2       PC3       PC4       PC5       PC6\n",
      "0    1.342778  0.625148 -0.228217 -1.088349 -0.095184  0.207490\n",
      "1    0.860614 -0.015591 -1.025897 -0.100099 -0.159443  0.583202\n",
      "2    1.744538  0.470895 -0.754337 -0.031384  0.929946  0.554919\n",
      "3    2.133251 -0.045128 -0.766529  0.426034  0.953271  0.605802\n",
      "4    1.982165  0.090526 -0.750016  0.358022  0.917901  0.552417\n",
      "..        ...       ...       ...       ...       ...       ...\n",
      "503 -0.360778 -0.029167 -1.261804  0.509548  0.606127  0.071783\n",
      "504 -0.296938  0.332337 -1.285106  0.439513  1.020379  0.004148\n",
      "505 -0.336883  0.184288 -1.289388  0.465626  0.838324  0.021825\n",
      "506 -0.573526 -0.353158 -1.406928  0.547163  0.200686  0.120882\n",
      "507  7.190762  3.458461  4.879250  3.003465  3.534699 -1.798387\n",
      "\n",
      "[508 rows x 6 columns]\n"
     ]
    }
   ],
   "source": [
    "data = pd.read_csv('/Users/Richard/Documents/MSDA/Databases/Boston_housing_data_wrong_areatype_w_subtype.csv') \n",
    "data_numeric = data[ ['crim','zn','chas','nox','age','dis','tax','ptratio','lstat','medv'] ] \n",
    "pcs_names = [] \n",
    "for i, col in enumerate(data_numeric.columns): \n",
    "    pcs_names.append('PC' + str(i+1)) \n",
    "data_normed = (data_numeric - data_numeric.mean()) / data_numeric.std()\n",
    "pca = PCA(n_components=data_normed.shape[1]) \n",
    "pca.fit(data_normed) \n",
    "data_pca = pd.DataFrame(pca.transform(data_normed),columns = pcs_names) \n",
    "data_reduced = data_pca.iloc[:,0:6]\n",
    "print(data_reduced)"
   ]
  }
 ],
 "metadata": {
  "kernelspec": {
   "display_name": "Python 3",
   "language": "python",
   "name": "python3"
  },
  "language_info": {
   "codemirror_mode": {
    "name": "ipython",
    "version": 3
   },
   "file_extension": ".py",
   "mimetype": "text/x-python",
   "name": "python",
   "nbconvert_exporter": "python",
   "pygments_lexer": "ipython3",
   "version": "3.8.8"
  }
 },
 "nbformat": 4,
 "nbformat_minor": 5
}
