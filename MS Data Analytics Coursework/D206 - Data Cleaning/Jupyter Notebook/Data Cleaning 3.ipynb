{
 "cells": [
  {
   "cell_type": "markdown",
   "id": "aa7e627a",
   "metadata": {},
   "source": [
    "## Import and Analyze Data"
   ]
  },
  {
   "cell_type": "code",
   "execution_count": 1,
   "id": "0c14d902",
   "metadata": {},
   "outputs": [],
   "source": [
    "import pandas"
   ]
  },
  {
   "cell_type": "markdown",
   "id": "40b44f61",
   "metadata": {},
   "source": [
    "### Import the dataset"
   ]
  },
  {
   "cell_type": "code",
   "execution_count": 2,
   "id": "ea4279cc",
   "metadata": {},
   "outputs": [],
   "source": [
    "df = pandas.read_csv('/Users/Richard/Documents/MSDA/Databases/Churn DB/churn_raw_data.csv')"
   ]
  },
  {
   "cell_type": "markdown",
   "id": "dc59f8c2",
   "metadata": {},
   "source": [
    "### Using describe() method"
   ]
  },
  {
   "cell_type": "code",
   "execution_count": 3,
   "id": "9273f4f9",
   "metadata": {},
   "outputs": [
    {
     "name": "stdout",
     "output_type": "stream",
     "text": [
      "        Unnamed: 0    CaseOrder           Zip           Lat           Lng  \\\n",
      "count  10000.00000  10000.00000  10000.000000  10000.000000  10000.000000   \n",
      "mean    5000.50000   5000.50000  49153.319600     38.757567    -90.782536   \n",
      "std     2886.89568   2886.89568  27532.196108      5.437389     15.156142   \n",
      "min        1.00000      1.00000    601.000000     17.966120   -171.688150   \n",
      "25%     2500.75000   2500.75000  26292.500000     35.341828    -97.082812   \n",
      "50%     5000.50000   5000.50000  48869.500000     39.395800    -87.918800   \n",
      "75%     7500.25000   7500.25000  71866.500000     42.106908    -80.088745   \n",
      "max    10000.00000  10000.00000  99929.000000     70.640660    -65.667850   \n",
      "\n",
      "          Population     Children          Age         Income  \\\n",
      "count   10000.000000  7505.000000  7525.000000    7510.000000   \n",
      "mean     9756.562400     2.095936    53.275748   39936.762226   \n",
      "std     14432.698671     2.154758    20.753928   28358.469482   \n",
      "min         0.000000     0.000000    18.000000     740.660000   \n",
      "25%       738.000000     0.000000    35.000000   19285.522500   \n",
      "50%      2910.500000     1.000000    53.000000   33186.785000   \n",
      "75%     13168.000000     3.000000    71.000000   53472.395000   \n",
      "max    111850.000000    10.000000    89.000000  258900.700000   \n",
      "\n",
      "       Outage_sec_perweek  ...  MonthlyCharge  Bandwidth_GB_Year  \\\n",
      "count        10000.000000  ...   10000.000000        8979.000000   \n",
      "mean            11.452955  ...     174.076305        3398.842752   \n",
      "std              7.025921  ...      43.335473        2187.396807   \n",
      "min             -1.348571  ...      77.505230         155.506715   \n",
      "25%              8.054362  ...     141.071078        1234.110529   \n",
      "50%             10.202896  ...     169.915400        3382.424000   \n",
      "75%             12.487644  ...     203.777441        5587.096500   \n",
      "max             47.049280  ...     315.878600        7158.982000   \n",
      "\n",
      "              item1         item2         item3         item4         item5  \\\n",
      "count  10000.000000  10000.000000  10000.000000  10000.000000  10000.000000   \n",
      "mean       3.490800      3.505100      3.487000      3.497500      3.492900   \n",
      "std        1.037797      1.034641      1.027977      1.025816      1.024819   \n",
      "min        1.000000      1.000000      1.000000      1.000000      1.000000   \n",
      "25%        3.000000      3.000000      3.000000      3.000000      3.000000   \n",
      "50%        3.000000      4.000000      3.000000      3.000000      3.000000   \n",
      "75%        4.000000      4.000000      4.000000      4.000000      4.000000   \n",
      "max        7.000000      7.000000      8.000000      7.000000      7.000000   \n",
      "\n",
      "              item6         item7         item8  \n",
      "count  10000.000000  10000.000000  10000.000000  \n",
      "mean       3.497300      3.509500      3.495600  \n",
      "std        1.033586      1.028502      1.028633  \n",
      "min        1.000000      1.000000      1.000000  \n",
      "25%        3.000000      3.000000      3.000000  \n",
      "50%        3.000000      4.000000      3.000000  \n",
      "75%        4.000000      4.000000      4.000000  \n",
      "max        8.000000      7.000000      8.000000  \n",
      "\n",
      "[8 rows x 24 columns]\n"
     ]
    }
   ],
   "source": [
    "df = pandas.read_csv('/Users/Richard/Documents/MSDA/Databases/Churn DB/churn_raw_data.csv')\n",
    "data = df.describe()\n",
    "print(data)"
   ]
  },
  {
   "cell_type": "markdown",
   "id": "ebd8ef77",
   "metadata": {},
   "source": [
    "### Using attribute"
   ]
  },
  {
   "cell_type": "code",
   "execution_count": 4,
   "id": "564b535e",
   "metadata": {},
   "outputs": [
    {
     "name": "stdout",
     "output_type": "stream",
     "text": [
      "Unnamed: 0                int64\n",
      "CaseOrder                 int64\n",
      "Customer_id              object\n",
      "Interaction              object\n",
      "City                     object\n",
      "State                    object\n",
      "County                   object\n",
      "Zip                       int64\n",
      "Lat                     float64\n",
      "Lng                     float64\n",
      "Population                int64\n",
      "Area                     object\n",
      "Timezone                 object\n",
      "Job                      object\n",
      "Children                float64\n",
      "Age                     float64\n",
      "Education                object\n",
      "Employment               object\n",
      "Income                  float64\n",
      "Marital                  object\n",
      "Gender                   object\n",
      "Churn                    object\n",
      "Outage_sec_perweek      float64\n",
      "Email                     int64\n",
      "Contacts                  int64\n",
      "Yearly_equip_failure      int64\n",
      "Techie                   object\n",
      "Contract                 object\n",
      "Port_modem               object\n",
      "Tablet                   object\n",
      "InternetService          object\n",
      "Phone                    object\n",
      "Multiple                 object\n",
      "OnlineSecurity           object\n",
      "OnlineBackup             object\n",
      "DeviceProtection         object\n",
      "TechSupport              object\n",
      "StreamingTV              object\n",
      "StreamingMovies          object\n",
      "PaperlessBilling         object\n",
      "PaymentMethod            object\n",
      "Tenure                  float64\n",
      "MonthlyCharge           float64\n",
      "Bandwidth_GB_Year       float64\n",
      "item1                     int64\n",
      "item2                     int64\n",
      "item3                     int64\n",
      "item4                     int64\n",
      "item5                     int64\n",
      "item6                     int64\n",
      "item7                     int64\n",
      "item8                     int64\n",
      "dtype: object\n"
     ]
    }
   ],
   "source": [
    "df = pandas.read_csv('/Users/Richard/Documents/MSDA/Databases/Churn DB/churn_raw_data.csv')\n",
    "print(df.dtypes)"
   ]
  }
 ],
 "metadata": {
  "kernelspec": {
   "display_name": "Python 3",
   "language": "python",
   "name": "python3"
  },
  "language_info": {
   "codemirror_mode": {
    "name": "ipython",
    "version": 3
   },
   "file_extension": ".py",
   "mimetype": "text/x-python",
   "name": "python",
   "nbconvert_exporter": "python",
   "pygments_lexer": "ipython3",
   "version": "3.8.8"
  }
 },
 "nbformat": 4,
 "nbformat_minor": 5
}
