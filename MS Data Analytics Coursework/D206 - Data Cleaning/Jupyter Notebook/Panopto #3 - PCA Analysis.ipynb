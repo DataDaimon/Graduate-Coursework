{
 "cells": [
  {
   "cell_type": "markdown",
   "id": "300ed135",
   "metadata": {},
   "source": [
    "# PCA Analysis"
   ]
  },
  {
   "cell_type": "markdown",
   "id": "e618befa",
   "metadata": {},
   "source": [
    "### Import Libraries for PCA"
   ]
  },
  {
   "cell_type": "code",
   "execution_count": 1,
   "id": "f105e696",
   "metadata": {},
   "outputs": [],
   "source": [
    "import pandas as pd\n",
    "import numpy as np\n",
    "from sklearn.decomposition import PCA\n",
    "import matplotlib.pyplot as plt\n",
    "import seaborn as sns"
   ]
  },
  {
   "cell_type": "markdown",
   "id": "4a8113ce",
   "metadata": {},
   "source": [
    "### Import Cleaned Dataset"
   ]
  },
  {
   "cell_type": "code",
   "execution_count": 2,
   "id": "45da776f",
   "metadata": {},
   "outputs": [],
   "source": [
    "df = pd.read_csv('/Users/Richard/OneDrive - Western Governors University/MSDA/D206/churn_clean.csv')"
   ]
  },
  {
   "cell_type": "markdown",
   "id": "550e31a0",
   "metadata": {},
   "source": [
    "### Slice and retain the relevant eleven PCA related variables"
   ]
  },
  {
   "cell_type": "code",
   "execution_count": 3,
   "id": "984991e1",
   "metadata": {},
   "outputs": [
    {
     "data": {
      "text/html": [
       "<div>\n",
       "<style scoped>\n",
       "    .dataframe tbody tr th:only-of-type {\n",
       "        vertical-align: middle;\n",
       "    }\n",
       "\n",
       "    .dataframe tbody tr th {\n",
       "        vertical-align: top;\n",
       "    }\n",
       "\n",
       "    .dataframe thead th {\n",
       "        text-align: right;\n",
       "    }\n",
       "</style>\n",
       "<table border=\"1\" class=\"dataframe\">\n",
       "  <thead>\n",
       "    <tr style=\"text-align: right;\">\n",
       "      <th></th>\n",
       "      <th>Tenure</th>\n",
       "      <th>MonthlyCharge</th>\n",
       "      <th>Bandwidth_GB_Year</th>\n",
       "      <th>item1</th>\n",
       "      <th>item2</th>\n",
       "      <th>item3</th>\n",
       "      <th>item4</th>\n",
       "      <th>item5</th>\n",
       "      <th>item6</th>\n",
       "      <th>item7</th>\n",
       "      <th>item8</th>\n",
       "    </tr>\n",
       "  </thead>\n",
       "  <tbody>\n",
       "    <tr>\n",
       "      <th>0</th>\n",
       "      <td>6.795513</td>\n",
       "      <td>171.449762</td>\n",
       "      <td>904.536110</td>\n",
       "      <td>5</td>\n",
       "      <td>5</td>\n",
       "      <td>5</td>\n",
       "      <td>3</td>\n",
       "      <td>4</td>\n",
       "      <td>4</td>\n",
       "      <td>3</td>\n",
       "      <td>4</td>\n",
       "    </tr>\n",
       "    <tr>\n",
       "      <th>1</th>\n",
       "      <td>1.156681</td>\n",
       "      <td>242.948015</td>\n",
       "      <td>800.982766</td>\n",
       "      <td>3</td>\n",
       "      <td>4</td>\n",
       "      <td>3</td>\n",
       "      <td>3</td>\n",
       "      <td>4</td>\n",
       "      <td>3</td>\n",
       "      <td>4</td>\n",
       "      <td>4</td>\n",
       "    </tr>\n",
       "    <tr>\n",
       "      <th>2</th>\n",
       "      <td>15.754144</td>\n",
       "      <td>159.440398</td>\n",
       "      <td>2054.706961</td>\n",
       "      <td>4</td>\n",
       "      <td>4</td>\n",
       "      <td>2</td>\n",
       "      <td>4</td>\n",
       "      <td>4</td>\n",
       "      <td>3</td>\n",
       "      <td>3</td>\n",
       "      <td>3</td>\n",
       "    </tr>\n",
       "    <tr>\n",
       "      <th>3</th>\n",
       "      <td>17.087227</td>\n",
       "      <td>120.249493</td>\n",
       "      <td>2164.579412</td>\n",
       "      <td>4</td>\n",
       "      <td>4</td>\n",
       "      <td>4</td>\n",
       "      <td>2</td>\n",
       "      <td>5</td>\n",
       "      <td>4</td>\n",
       "      <td>3</td>\n",
       "      <td>3</td>\n",
       "    </tr>\n",
       "    <tr>\n",
       "      <th>4</th>\n",
       "      <td>1.670972</td>\n",
       "      <td>150.761216</td>\n",
       "      <td>271.493436</td>\n",
       "      <td>4</td>\n",
       "      <td>4</td>\n",
       "      <td>4</td>\n",
       "      <td>3</td>\n",
       "      <td>4</td>\n",
       "      <td>4</td>\n",
       "      <td>4</td>\n",
       "      <td>5</td>\n",
       "    </tr>\n",
       "  </tbody>\n",
       "</table>\n",
       "</div>"
      ],
      "text/plain": [
       "      Tenure  MonthlyCharge  Bandwidth_GB_Year  item1  item2  item3  item4  \\\n",
       "0   6.795513     171.449762         904.536110      5      5      5      3   \n",
       "1   1.156681     242.948015         800.982766      3      4      3      3   \n",
       "2  15.754144     159.440398        2054.706961      4      4      2      4   \n",
       "3  17.087227     120.249493        2164.579412      4      4      4      2   \n",
       "4   1.670972     150.761216         271.493436      4      4      4      3   \n",
       "\n",
       "   item5  item6  item7  item8  \n",
       "0      4      4      3      4  \n",
       "1      4      3      4      4  \n",
       "2      4      3      3      3  \n",
       "3      5      4      3      3  \n",
       "4      4      4      4      5  "
      ]
     },
     "execution_count": 3,
     "metadata": {},
     "output_type": "execute_result"
    }
   ],
   "source": [
    "data = df.loc[:, 'Tenure':'item8']\n",
    "data.head()"
   ]
  },
  {
   "cell_type": "markdown",
   "id": "824b3ab0",
   "metadata": {},
   "source": [
    "### Normalize the data"
   ]
  },
  {
   "cell_type": "code",
   "execution_count": 4,
   "id": "e22f92b7",
   "metadata": {},
   "outputs": [],
   "source": [
    "churn_normalized = (data - data.mean()) / data.std()"
   ]
  },
  {
   "cell_type": "markdown",
   "id": "e285ac02",
   "metadata": {},
   "source": [
    "### Select components for extraction"
   ]
  },
  {
   "cell_type": "code",
   "execution_count": 5,
   "id": "057767b4",
   "metadata": {},
   "outputs": [],
   "source": [
    "pca = PCA(n_components = data.shape[1])"
   ]
  },
  {
   "cell_type": "markdown",
   "id": "b87ad731",
   "metadata": {},
   "source": [
    "### Create PCA list names"
   ]
  },
  {
   "cell_type": "code",
   "execution_count": 6,
   "id": "2608546b",
   "metadata": {},
   "outputs": [
    {
     "name": "stdout",
     "output_type": "stream",
     "text": [
      "['PC1', 'PC2', 'PC3', 'PC4', 'PC5', 'PC6', 'PC7', 'PC8', 'PC9', 'PC10', 'PC11']\n"
     ]
    }
   ],
   "source": [
    "churn_numeric = data[['Tenure', 'MonthlyCharge', 'Bandwidth_GB_Year',\n",
    "'item1', 'item2', 'item3', 'item4', 'item5',\n",
    "'item6', 'item7', 'item8']]\n",
    "pcs_names = []\n",
    "for i, col in enumerate(churn_numeric.columns):\n",
    "    pcs_names.append('PC' + str(i + 1))\n",
    "print(pcs_names)"
   ]
  },
  {
   "cell_type": "markdown",
   "id": "4d115e3b",
   "metadata": {},
   "source": [
    "### Call to PCA and convert variables into components"
   ]
  },
  {
   "cell_type": "code",
   "execution_count": 7,
   "id": "8933f25f",
   "metadata": {},
   "outputs": [],
   "source": [
    "pca.fit(churn_normalized)\n",
    "churn_pca = pd.DataFrame(pca.transform(churn_normalized),\n",
    "columns = pcs_names)"
   ]
  },
  {
   "cell_type": "markdown",
   "id": "38c87e8d",
   "metadata": {},
   "source": [
    "### Create Scree Plot"
   ]
  },
  {
   "cell_type": "code",
   "execution_count": 8,
   "id": "4af6851d",
   "metadata": {},
   "outputs": [
    {
     "data": {
      "image/png": "[encoded data removed]",
      "text/plain": [
       "<Figure size 432x288 with 1 Axes>"
      ]
     },
     "metadata": {
      "needs_background": "light"
     },
     "output_type": "display_data"
    }
   ],
   "source": [
    "plt.plot(pca.explained_variance_ratio_)\n",
    "plt.xlabel('Number of Components')\n",
    "plt.ylabel('Explained Variance')\n",
    "plt.show();"
   ]
  },
  {
   "cell_type": "markdown",
   "id": "d34a9d2a",
   "metadata": {},
   "source": [
    "### Extract Eigenvalues"
   ]
  },
  {
   "cell_type": "code",
   "execution_count": 9,
   "id": "c569ba15",
   "metadata": {},
   "outputs": [],
   "source": [
    "cov_matrix = np.dot(churn_normalized.T, churn_normalized) / data.shape[0]\n",
    "eigenvalues = [np.dot(eigenvector.T, np.dot(cov_matrix, eigenvector)) for\n",
    "eigenvector in pca.components_]"
   ]
  },
  {
   "cell_type": "markdown",
   "id": "c3f807e9",
   "metadata": {},
   "source": [
    "### Plot Eigenvalues"
   ]
  },
  {
   "cell_type": "code",
   "execution_count": 10,
   "id": "9bad25a0",
   "metadata": {},
   "outputs": [
    {
     "data": {
      "image/png": "[encoded data removed]",
      "text/plain": [
       "<Figure size 432x288 with 1 Axes>"
      ]
     },
     "metadata": {
      "needs_background": "light"
     },
     "output_type": "display_data"
    }
   ],
   "source": [
    "plt.plot(eigenvalues)\n",
    "plt.xlabel('Number of Components')\n",
    "plt.ylabel('Eigenvalue')\n",
    "plt.show();"
   ]
  },
  {
   "cell_type": "markdown",
   "id": "e87da710",
   "metadata": {},
   "source": [
    "### Select fewest components"
   ]
  },
  {
   "cell_type": "code",
   "execution_count": 11,
   "id": "a24f138e",
   "metadata": {},
   "outputs": [
    {
     "name": "stdout",
     "output_type": "stream",
     "text": [
      "PC1 0.2679266062396306\n",
      "PC2 0.44053732880229357\n",
      "PC3 0.5891444522248597\n",
      "PC4 0.6801579842425086\n",
      "PC5 0.7513217054372501\n",
      "PC6 0.814311709410132\n",
      "PC7 0.8681970531672318\n",
      "PC8 0.917138736258883\n",
      "PC9 0.9610122820002187\n",
      "PC10 0.9905736363144831\n",
      "PC11 1.0\n"
     ]
    }
   ],
   "source": [
    "for pc, var in zip(pcs_names, np.cumsum(pca.explained_variance_ratio_)):\n",
    "    print(pc, var)"
   ]
  },
  {
   "cell_type": "markdown",
   "id": "aec5402e",
   "metadata": {},
   "source": [
    "### Create a rotation to explain variance in components"
   ]
  },
  {
   "cell_type": "code",
   "execution_count": 12,
   "id": "1b5da167",
   "metadata": {},
   "outputs": [
    {
     "name": "stdout",
     "output_type": "stream",
     "text": [
      "                        PC1       PC2       PC3       PC4       PC5       PC6  \\\n",
      "Tenure            -0.010403  0.701838 -0.072209 -0.063594  0.005683 -0.011155   \n",
      "MonthlyCharge      0.000317  0.041147 -0.014151  0.996995 -0.022136  0.015231   \n",
      "Bandwidth_GB_Year -0.012166  0.703079 -0.074222  0.004399  0.009590  0.003466   \n",
      "item1              0.458932  0.031325  0.281154  0.018568 -0.070233 -0.119149   \n",
      "item2              0.434134  0.042559  0.282404  0.007508 -0.106632 -0.169752   \n",
      "item3              0.400639  0.034665  0.281118 -0.019631 -0.173742 -0.255336   \n",
      "item4              0.145799 -0.050367 -0.567815 -0.010310 -0.171334 -0.483328   \n",
      "item5             -0.175633  0.066334  0.587335 -0.000047  0.135949  0.060124   \n",
      "item6              0.405207 -0.012680 -0.183447  0.004596 -0.062342  0.064609   \n",
      "item7              0.358342 -0.003886 -0.181697 -0.027959 -0.182406  0.806166   \n",
      "item8              0.308925 -0.017396 -0.131173  0.015574  0.931612 -0.011133   \n",
      "\n",
      "                        PC7       PC8       PC9      PC10      PC11  \n",
      "Tenure             0.007419 -0.011527  0.006935  0.003286 -0.705445  \n",
      "MonthlyCharge     -0.018038 -0.004316  0.023690 -0.013785 -0.047865  \n",
      "Bandwidth_GB_Year  0.003701 -0.002364 -0.008068  0.008529  0.706925  \n",
      "item1             -0.045963  0.025431 -0.240574  0.793237 -0.004306  \n",
      "item2             -0.065414  0.074400 -0.592131 -0.573832 -0.002217  \n",
      "item3             -0.146887 -0.396333  0.673088 -0.177665  0.014933  \n",
      "item4             -0.443353  0.431528  0.087207  0.018301  0.002283  \n",
      "item5             -0.209767  0.693861  0.265474 -0.042012 -0.002514  \n",
      "item6              0.757954  0.402835  0.230319 -0.063972  0.001604  \n",
      "item7             -0.379136  0.067889  0.067293 -0.040946 -0.006875  \n",
      "item8             -0.113297 -0.045132  0.046107 -0.042251 -0.002357  \n"
     ]
    }
   ],
   "source": [
    "rotation = pd.DataFrame(pca.components_.T, columns = pcs_names, index =\n",
    "churn_numeric.columns)\n",
    "print(rotation)"
   ]
  },
  {
   "cell_type": "markdown",
   "id": "b6c91aa5",
   "metadata": {},
   "source": [
    "### Output component loadings"
   ]
  },
  {
   "cell_type": "code",
   "execution_count": 13,
   "id": "aebf84a0",
   "metadata": {},
   "outputs": [
    {
     "data": {
      "text/html": [
       "<div>\n",
       "<style scoped>\n",
       "    .dataframe tbody tr th:only-of-type {\n",
       "        vertical-align: middle;\n",
       "    }\n",
       "\n",
       "    .dataframe tbody tr th {\n",
       "        vertical-align: top;\n",
       "    }\n",
       "\n",
       "    .dataframe thead th {\n",
       "        text-align: right;\n",
       "    }\n",
       "</style>\n",
       "<table border=\"1\" class=\"dataframe\">\n",
       "  <thead>\n",
       "    <tr style=\"text-align: right;\">\n",
       "      <th></th>\n",
       "      <th>PC1</th>\n",
       "      <th>PC2</th>\n",
       "      <th>PC3</th>\n",
       "      <th>PC4</th>\n",
       "      <th>PC5</th>\n",
       "      <th>PC6</th>\n",
       "      <th>PC7</th>\n",
       "      <th>PC8</th>\n",
       "      <th>PC9</th>\n",
       "      <th>PC10</th>\n",
       "      <th>PC11</th>\n",
       "    </tr>\n",
       "  </thead>\n",
       "  <tbody>\n",
       "    <tr>\n",
       "      <th>Tenure</th>\n",
       "      <td>-0.010403</td>\n",
       "      <td>0.701838</td>\n",
       "      <td>-0.072209</td>\n",
       "      <td>-0.063594</td>\n",
       "      <td>0.005683</td>\n",
       "      <td>-0.011155</td>\n",
       "      <td>0.007419</td>\n",
       "      <td>-0.011527</td>\n",
       "      <td>0.006935</td>\n",
       "      <td>0.003286</td>\n",
       "      <td>-0.705445</td>\n",
       "    </tr>\n",
       "    <tr>\n",
       "      <th>MonthlyCharge</th>\n",
       "      <td>0.000317</td>\n",
       "      <td>0.041147</td>\n",
       "      <td>-0.014151</td>\n",
       "      <td>0.996995</td>\n",
       "      <td>-0.022136</td>\n",
       "      <td>0.015231</td>\n",
       "      <td>-0.018038</td>\n",
       "      <td>-0.004316</td>\n",
       "      <td>0.023690</td>\n",
       "      <td>-0.013785</td>\n",
       "      <td>-0.047865</td>\n",
       "    </tr>\n",
       "    <tr>\n",
       "      <th>Bandwidth_GB_Year</th>\n",
       "      <td>-0.012166</td>\n",
       "      <td>0.703079</td>\n",
       "      <td>-0.074222</td>\n",
       "      <td>0.004399</td>\n",
       "      <td>0.009590</td>\n",
       "      <td>0.003466</td>\n",
       "      <td>0.003701</td>\n",
       "      <td>-0.002364</td>\n",
       "      <td>-0.008068</td>\n",
       "      <td>0.008529</td>\n",
       "      <td>0.706925</td>\n",
       "    </tr>\n",
       "    <tr>\n",
       "      <th>item1</th>\n",
       "      <td>0.458932</td>\n",
       "      <td>0.031325</td>\n",
       "      <td>0.281154</td>\n",
       "      <td>0.018568</td>\n",
       "      <td>-0.070233</td>\n",
       "      <td>-0.119149</td>\n",
       "      <td>-0.045963</td>\n",
       "      <td>0.025431</td>\n",
       "      <td>-0.240574</td>\n",
       "      <td>0.793237</td>\n",
       "      <td>-0.004306</td>\n",
       "    </tr>\n",
       "    <tr>\n",
       "      <th>item2</th>\n",
       "      <td>0.434134</td>\n",
       "      <td>0.042559</td>\n",
       "      <td>0.282404</td>\n",
       "      <td>0.007508</td>\n",
       "      <td>-0.106632</td>\n",
       "      <td>-0.169752</td>\n",
       "      <td>-0.065414</td>\n",
       "      <td>0.074400</td>\n",
       "      <td>-0.592131</td>\n",
       "      <td>-0.573832</td>\n",
       "      <td>-0.002217</td>\n",
       "    </tr>\n",
       "    <tr>\n",
       "      <th>item3</th>\n",
       "      <td>0.400639</td>\n",
       "      <td>0.034665</td>\n",
       "      <td>0.281118</td>\n",
       "      <td>-0.019631</td>\n",
       "      <td>-0.173742</td>\n",
       "      <td>-0.255336</td>\n",
       "      <td>-0.146887</td>\n",
       "      <td>-0.396333</td>\n",
       "      <td>0.673088</td>\n",
       "      <td>-0.177665</td>\n",
       "      <td>0.014933</td>\n",
       "    </tr>\n",
       "    <tr>\n",
       "      <th>item4</th>\n",
       "      <td>0.145799</td>\n",
       "      <td>-0.050367</td>\n",
       "      <td>-0.567815</td>\n",
       "      <td>-0.010310</td>\n",
       "      <td>-0.171334</td>\n",
       "      <td>-0.483328</td>\n",
       "      <td>-0.443353</td>\n",
       "      <td>0.431528</td>\n",
       "      <td>0.087207</td>\n",
       "      <td>0.018301</td>\n",
       "      <td>0.002283</td>\n",
       "    </tr>\n",
       "    <tr>\n",
       "      <th>item5</th>\n",
       "      <td>-0.175633</td>\n",
       "      <td>0.066334</td>\n",
       "      <td>0.587335</td>\n",
       "      <td>-0.000047</td>\n",
       "      <td>0.135949</td>\n",
       "      <td>0.060124</td>\n",
       "      <td>-0.209767</td>\n",
       "      <td>0.693861</td>\n",
       "      <td>0.265474</td>\n",
       "      <td>-0.042012</td>\n",
       "      <td>-0.002514</td>\n",
       "    </tr>\n",
       "    <tr>\n",
       "      <th>item6</th>\n",
       "      <td>0.405207</td>\n",
       "      <td>-0.012680</td>\n",
       "      <td>-0.183447</td>\n",
       "      <td>0.004596</td>\n",
       "      <td>-0.062342</td>\n",
       "      <td>0.064609</td>\n",
       "      <td>0.757954</td>\n",
       "      <td>0.402835</td>\n",
       "      <td>0.230319</td>\n",
       "      <td>-0.063972</td>\n",
       "      <td>0.001604</td>\n",
       "    </tr>\n",
       "    <tr>\n",
       "      <th>item7</th>\n",
       "      <td>0.358342</td>\n",
       "      <td>-0.003886</td>\n",
       "      <td>-0.181697</td>\n",
       "      <td>-0.027959</td>\n",
       "      <td>-0.182406</td>\n",
       "      <td>0.806166</td>\n",
       "      <td>-0.379136</td>\n",
       "      <td>0.067889</td>\n",
       "      <td>0.067293</td>\n",
       "      <td>-0.040946</td>\n",
       "      <td>-0.006875</td>\n",
       "    </tr>\n",
       "    <tr>\n",
       "      <th>item8</th>\n",
       "      <td>0.308925</td>\n",
       "      <td>-0.017396</td>\n",
       "      <td>-0.131173</td>\n",
       "      <td>0.015574</td>\n",
       "      <td>0.931612</td>\n",
       "      <td>-0.011133</td>\n",
       "      <td>-0.113297</td>\n",
       "      <td>-0.045132</td>\n",
       "      <td>0.046107</td>\n",
       "      <td>-0.042251</td>\n",
       "      <td>-0.002357</td>\n",
       "    </tr>\n",
       "  </tbody>\n",
       "</table>\n",
       "</div>"
      ],
      "text/plain": [
       "                        PC1       PC2       PC3       PC4       PC5       PC6  \\\n",
       "Tenure            -0.010403  0.701838 -0.072209 -0.063594  0.005683 -0.011155   \n",
       "MonthlyCharge      0.000317  0.041147 -0.014151  0.996995 -0.022136  0.015231   \n",
       "Bandwidth_GB_Year -0.012166  0.703079 -0.074222  0.004399  0.009590  0.003466   \n",
       "item1              0.458932  0.031325  0.281154  0.018568 -0.070233 -0.119149   \n",
       "item2              0.434134  0.042559  0.282404  0.007508 -0.106632 -0.169752   \n",
       "item3              0.400639  0.034665  0.281118 -0.019631 -0.173742 -0.255336   \n",
       "item4              0.145799 -0.050367 -0.567815 -0.010310 -0.171334 -0.483328   \n",
       "item5             -0.175633  0.066334  0.587335 -0.000047  0.135949  0.060124   \n",
       "item6              0.405207 -0.012680 -0.183447  0.004596 -0.062342  0.064609   \n",
       "item7              0.358342 -0.003886 -0.181697 -0.027959 -0.182406  0.806166   \n",
       "item8              0.308925 -0.017396 -0.131173  0.015574  0.931612 -0.011133   \n",
       "\n",
       "                        PC7       PC8       PC9      PC10      PC11  \n",
       "Tenure             0.007419 -0.011527  0.006935  0.003286 -0.705445  \n",
       "MonthlyCharge     -0.018038 -0.004316  0.023690 -0.013785 -0.047865  \n",
       "Bandwidth_GB_Year  0.003701 -0.002364 -0.008068  0.008529  0.706925  \n",
       "item1             -0.045963  0.025431 -0.240574  0.793237 -0.004306  \n",
       "item2             -0.065414  0.074400 -0.592131 -0.573832 -0.002217  \n",
       "item3             -0.146887 -0.396333  0.673088 -0.177665  0.014933  \n",
       "item4             -0.443353  0.431528  0.087207  0.018301  0.002283  \n",
       "item5             -0.209767  0.693861  0.265474 -0.042012 -0.002514  \n",
       "item6              0.757954  0.402835  0.230319 -0.063972  0.001604  \n",
       "item7             -0.379136  0.067889  0.067293 -0.040946 -0.006875  \n",
       "item8             -0.113297 -0.045132  0.046107 -0.042251 -0.002357  "
      ]
     },
     "execution_count": 13,
     "metadata": {},
     "output_type": "execute_result"
    }
   ],
   "source": [
    "loadings = pd.DataFrame(pca.components_.T,\n",
    "columns = pcs_names,\n",
    "index = data.columns)\n",
    "loadings"
   ]
  },
  {
   "cell_type": "markdown",
   "id": "4ccfb28a",
   "metadata": {},
   "source": [
    "### Extract reduced dataset and list final 3 components"
   ]
  },
  {
   "cell_type": "code",
   "execution_count": 14,
   "id": "f461a9c4",
   "metadata": {},
   "outputs": [
    {
     "name": "stdout",
     "output_type": "stream",
     "text": [
      "           PC1       PC2       PC3\n",
      "0     1.923875 -1.421955  1.903125\n",
      "1    -0.199798 -1.706801  0.538766\n",
      "2    -0.667923 -0.985940  0.227390\n",
      "3     0.046465 -0.730628  2.282040\n",
      "4     1.326741 -1.924880  0.825729\n",
      "...        ...       ...       ...\n",
      "9995 -2.097964  1.961837  0.104147\n",
      "9996  1.917485  1.645946  0.611009\n",
      "9997  1.431918  0.323573  0.028288\n",
      "9998  2.011460  2.187756 -0.079864\n",
      "9999 -2.266364  1.591986 -0.819973\n",
      "\n",
      "[10000 rows x 3 columns]\n"
     ]
    }
   ],
   "source": [
    "churn_reduced = churn_pca.iloc[ : , 0:3]\n",
    "print(churn_reduced)"
   ]
  }
 ],
 "metadata": {
  "kernelspec": {
   "display_name": "Python 3",
   "language": "python",
   "name": "python3"
  },
  "language_info": {
   "codemirror_mode": {
    "name": "ipython",
    "version": 3
   },
   "file_extension": ".py",
   "mimetype": "text/x-python",
   "name": "python",
   "nbconvert_exporter": "python",
   "pygments_lexer": "ipython3",
   "version": "3.8.8"
  }
 },
 "nbformat": 4,
 "nbformat_minor": 5
}
