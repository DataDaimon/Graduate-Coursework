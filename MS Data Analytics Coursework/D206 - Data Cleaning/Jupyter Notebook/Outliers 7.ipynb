{
 "cells": [
  {
   "cell_type": "markdown",
   "id": "4a9f432b",
   "metadata": {},
   "source": [
    "## Outliers PT 7"
   ]
  },
  {
   "cell_type": "code",
   "execution_count": 1,
   "id": "cbc56f2b",
   "metadata": {},
   "outputs": [],
   "source": [
    "import pandas"
   ]
  },
  {
   "cell_type": "markdown",
   "id": "a2c168c7",
   "metadata": {},
   "source": [
    "### Import dataset"
   ]
  },
  {
   "cell_type": "code",
   "execution_count": 2,
   "id": "7a78cbc1",
   "metadata": {},
   "outputs": [],
   "source": [
    "df = pandas.read_csv('/Users/Richard/Documents/MSDA/Databases/Churn DB/churn_raw_data.csv')"
   ]
  },
  {
   "cell_type": "markdown",
   "id": "bedc5564",
   "metadata": {},
   "source": [
    "### Counting unique values"
   ]
  },
  {
   "cell_type": "code",
   "execution_count": null,
   "id": "f54b4453",
   "metadata": {},
   "outputs": [],
   "source": [
    "df = pandas.read_csv('/Users/Richard/Documents/MSDA/Databases/Churn DB/churn_raw_data.csv')\n",
    "data = df['areatype'].value_counts()\n",
    "print(data)"
   ]
  }
 ],
 "metadata": {
  "kernelspec": {
   "display_name": "Python 3",
   "language": "python",
   "name": "python3"
  },
  "language_info": {
   "codemirror_mode": {
    "name": "ipython",
    "version": 3
   },
   "file_extension": ".py",
   "mimetype": "text/x-python",
   "name": "python",
   "nbconvert_exporter": "python",
   "pygments_lexer": "ipython3",
   "version": "3.8.8"
  }
 },
 "nbformat": 4,
 "nbformat_minor": 5
}
