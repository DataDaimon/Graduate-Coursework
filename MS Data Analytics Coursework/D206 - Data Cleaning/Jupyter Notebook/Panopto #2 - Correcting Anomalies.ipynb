{
 "cells": [
  {
   "cell_type": "markdown",
   "id": "f75fdf8f",
   "metadata": {},
   "source": [
    "# Correcting Anomalies in the Churn Dataset"
   ]
  },
  {
   "cell_type": "markdown",
   "id": "32c8bfbb",
   "metadata": {},
   "source": [
    "### Import Libraries"
   ]
  },
  {
   "cell_type": "code",
   "execution_count": 1,
   "id": "bf81363c",
   "metadata": {},
   "outputs": [],
   "source": [
    "import pandas as pd\n",
    "import numpy as np\n",
    "import seaborn as sns"
   ]
  },
  {
   "cell_type": "markdown",
   "id": "b6526584",
   "metadata": {},
   "source": [
    "### Import churn_raw_data.csv dataset"
   ]
  },
  {
   "cell_type": "code",
   "execution_count": 2,
   "id": "230d1b8d",
   "metadata": {},
   "outputs": [],
   "source": [
    "df = pd.read_csv('/Users/Richard/OneDrive - Western Governors University/MSDA/Databases/Churn DB/churn_raw_data.csv')"
   ]
  },
  {
   "cell_type": "code",
   "execution_count": 3,
   "id": "964c6ffb",
   "metadata": {},
   "outputs": [
    {
     "name": "stdout",
     "output_type": "stream",
     "text": [
      "      Unnamed: 0  CaseOrder Customer_id                           Interaction  \\\n",
      "0              1          1     K409198  aa90260b-4141-4a24-8e36-b04ce1f4f77b   \n",
      "1              2          2     S120509  fb76459f-c047-4a9d-8af9-e0f7d4ac2524   \n",
      "2              3          3     K191035  344d114c-3736-4be5-98f7-c72c281e2d35   \n",
      "3              4          4      D90850  abfa2b40-2d43-4994-b15a-989b8c79e311   \n",
      "4              5          5     K662701  68a861fd-0d20-4e51-a587-8a90407ee574   \n",
      "...          ...        ...         ...                                   ...   \n",
      "9995        9996       9996     M324793  45deb5a2-ae04-4518-bf0b-c82db8dbe4a4   \n",
      "9996        9997       9997     D861732  6e96b921-0c09-4993-bbda-a1ac6411061a   \n",
      "9997        9998       9998     I243405  e8307ddf-9a01-4fff-bc59-4742e03fd24f   \n",
      "9998        9999       9999     I641617  3775ccfc-0052-4107-81ae-9657f81ecdf3   \n",
      "9999       10000      10000      T38070  9de5fb6e-bd33-4995-aec8-f01d0172a499   \n",
      "\n",
      "              City State                 County    Zip       Lat        Lng  \\\n",
      "0      Point Baker    AK  Prince of Wales-Hyder  99927  56.25100 -133.37571   \n",
      "1      West Branch    MI                 Ogemaw  48661  44.32893  -84.24080   \n",
      "2          Yamhill    OR                Yamhill  97148  45.35589 -123.24657   \n",
      "3          Del Mar    CA              San Diego  92014  32.96687 -117.24798   \n",
      "4        Needville    TX              Fort Bend  77461  29.38012  -95.80673   \n",
      "...            ...   ...                    ...    ...       ...        ...   \n",
      "9995   Mount Holly    VT                Rutland   5758  43.43391  -72.78734   \n",
      "9996   Clarksville    TN             Montgomery  37042  36.56907  -87.41694   \n",
      "9997      Mobeetie    TX                Wheeler  79061  35.52039 -100.44180   \n",
      "9998    Carrollton    GA                Carroll  30117  33.58016  -85.13241   \n",
      "9999  Clarkesville    GA              Habersham  30523  34.70783  -83.53648   \n",
      "\n",
      "      ...  MonthlyCharge Bandwidth_GB_Year item1 item2  item3  item4 item5  \\\n",
      "0     ...     171.449762        904.536110     5     5      5      3     4   \n",
      "1     ...     242.948015        800.982766     3     4      3      3     4   \n",
      "2     ...     159.440398       2054.706961     4     4      2      4     4   \n",
      "3     ...     120.249493       2164.579412     4     4      4      2     5   \n",
      "4     ...     150.761216        271.493436     4     4      4      3     4   \n",
      "...   ...            ...               ...   ...   ...    ...    ...   ...   \n",
      "9995  ...     159.828800       6511.253000     3     2      3      3     4   \n",
      "9996  ...     208.856400       5695.952000     4     5      5      4     4   \n",
      "9997  ...     168.220900       4159.306000     4     4      4      4     4   \n",
      "9998  ...     252.628600       6468.457000     4     4      6      4     3   \n",
      "9999  ...     218.371000       5857.586000     2     2      3      3     3   \n",
      "\n",
      "     item6  item7 item8  \n",
      "0        4      3     4  \n",
      "1        3      4     4  \n",
      "2        3      3     3  \n",
      "3        4      3     3  \n",
      "4        4      4     5  \n",
      "...    ...    ...   ...  \n",
      "9995     3      2     3  \n",
      "9996     5      2     5  \n",
      "9997     4      4     5  \n",
      "9998     3      5     4  \n",
      "9999     3      4     1  \n",
      "\n",
      "[10000 rows x 52 columns]\n"
     ]
    }
   ],
   "source": [
    "print(df)"
   ]
  },
  {
   "cell_type": "markdown",
   "id": "bf4c7895",
   "metadata": {},
   "source": [
    "### Drop unnecessary ‘Unnamed: 0’ column"
   ]
  },
  {
   "cell_type": "code",
   "execution_count": 4,
   "id": "2ed22e04",
   "metadata": {},
   "outputs": [],
   "source": [
    "df = df.drop('Unnamed: 0', 1)"
   ]
  },
  {
   "cell_type": "markdown",
   "id": "4d02c6f7",
   "metadata": {},
   "source": [
    "### ‘Children’ change values from NA/NaN to 0"
   ]
  },
  {
   "cell_type": "code",
   "execution_count": 5,
   "id": "91830469",
   "metadata": {},
   "outputs": [],
   "source": [
    "df[\"Children\"].fillna(\"0\", inplace = True)"
   ]
  },
  {
   "cell_type": "markdown",
   "id": "be39d1d4",
   "metadata": {},
   "source": [
    "### ‘Age’ Impute for NA/NAN values"
   ]
  },
  {
   "cell_type": "code",
   "execution_count": 6,
   "id": "ed6bae97",
   "metadata": {},
   "outputs": [],
   "source": [
    "med = df['Age'].median()\n",
    "df['Age'] = df['Age'].fillna(med)"
   ]
  },
  {
   "cell_type": "markdown",
   "id": "e02f0837",
   "metadata": {},
   "source": [
    "### ‘Income’ Impute for NA/NAN values"
   ]
  },
  {
   "cell_type": "code",
   "execution_count": 7,
   "id": "70ef7a90",
   "metadata": {},
   "outputs": [],
   "source": [
    "med = df['Income'].median()\n",
    "df['Income'] = df['Income'].fillna(med)"
   ]
  },
  {
   "cell_type": "markdown",
   "id": "531c5ce3",
   "metadata": {},
   "source": [
    "### ‘Technie’ change values from NA/NaN to No"
   ]
  },
  {
   "cell_type": "code",
   "execution_count": 8,
   "id": "280cb972",
   "metadata": {},
   "outputs": [],
   "source": [
    "df[\"Techie\"].fillna(\"No\", inplace = True)"
   ]
  },
  {
   "cell_type": "markdown",
   "id": "4c307282",
   "metadata": {},
   "source": [
    "### ‘Phone’ change values from NA/NaN to No"
   ]
  },
  {
   "cell_type": "code",
   "execution_count": 9,
   "id": "2e1a6379",
   "metadata": {},
   "outputs": [],
   "source": [
    "df[\"Phone\"].fillna(\"No\", inplace = True)"
   ]
  },
  {
   "cell_type": "markdown",
   "id": "25dd31cd",
   "metadata": {},
   "source": [
    "### ‘TechSupport’ change values from NA/NaN to No"
   ]
  },
  {
   "cell_type": "code",
   "execution_count": 10,
   "id": "4bdac16a",
   "metadata": {},
   "outputs": [],
   "source": [
    "df[\"TechSupport\"].fillna(\"No\", inplace = True)"
   ]
  },
  {
   "cell_type": "markdown",
   "id": "6cfc591c",
   "metadata": {},
   "source": [
    "### ‘Tenure’ Impute for NA/NAN values"
   ]
  },
  {
   "cell_type": "code",
   "execution_count": 11,
   "id": "8be2d6f3",
   "metadata": {},
   "outputs": [],
   "source": [
    "med = df['Tenure'].median()\n",
    "df['Tenure'] = df['Tenure'].fillna(med)"
   ]
  },
  {
   "cell_type": "markdown",
   "id": "49a91d8c",
   "metadata": {},
   "source": [
    "### ‘Bandwidth_GB_Year’ Impute for NA/NAN values"
   ]
  },
  {
   "cell_type": "code",
   "execution_count": 12,
   "id": "df4515e3",
   "metadata": {},
   "outputs": [],
   "source": [
    "med = df['Bandwidth_GB_Year'].median()\n",
    "df['Bandwidth_GB_Year'] = df['Bandwidth_GB_Year'].fillna(med)"
   ]
  },
  {
   "cell_type": "code",
   "execution_count": 13,
   "id": "e3145036",
   "metadata": {},
   "outputs": [
    {
     "name": "stdout",
     "output_type": "stream",
     "text": [
      "      CaseOrder Customer_id                           Interaction  \\\n",
      "0             1     K409198  aa90260b-4141-4a24-8e36-b04ce1f4f77b   \n",
      "1             2     S120509  fb76459f-c047-4a9d-8af9-e0f7d4ac2524   \n",
      "2             3     K191035  344d114c-3736-4be5-98f7-c72c281e2d35   \n",
      "3             4      D90850  abfa2b40-2d43-4994-b15a-989b8c79e311   \n",
      "4             5     K662701  68a861fd-0d20-4e51-a587-8a90407ee574   \n",
      "...         ...         ...                                   ...   \n",
      "9995       9996     M324793  45deb5a2-ae04-4518-bf0b-c82db8dbe4a4   \n",
      "9996       9997     D861732  6e96b921-0c09-4993-bbda-a1ac6411061a   \n",
      "9997       9998     I243405  e8307ddf-9a01-4fff-bc59-4742e03fd24f   \n",
      "9998       9999     I641617  3775ccfc-0052-4107-81ae-9657f81ecdf3   \n",
      "9999      10000      T38070  9de5fb6e-bd33-4995-aec8-f01d0172a499   \n",
      "\n",
      "              City State                 County    Zip       Lat        Lng  \\\n",
      "0      Point Baker    AK  Prince of Wales-Hyder  99927  56.25100 -133.37571   \n",
      "1      West Branch    MI                 Ogemaw  48661  44.32893  -84.24080   \n",
      "2          Yamhill    OR                Yamhill  97148  45.35589 -123.24657   \n",
      "3          Del Mar    CA              San Diego  92014  32.96687 -117.24798   \n",
      "4        Needville    TX              Fort Bend  77461  29.38012  -95.80673   \n",
      "...            ...   ...                    ...    ...       ...        ...   \n",
      "9995   Mount Holly    VT                Rutland   5758  43.43391  -72.78734   \n",
      "9996   Clarksville    TN             Montgomery  37042  36.56907  -87.41694   \n",
      "9997      Mobeetie    TX                Wheeler  79061  35.52039 -100.44180   \n",
      "9998    Carrollton    GA                Carroll  30117  33.58016  -85.13241   \n",
      "9999  Clarkesville    GA              Habersham  30523  34.70783  -83.53648   \n",
      "\n",
      "      Population  ... MonthlyCharge Bandwidth_GB_Year item1 item2  item3  \\\n",
      "0             38  ...    171.449762        904.536110     5     5      5   \n",
      "1          10446  ...    242.948015        800.982766     3     4      3   \n",
      "2           3735  ...    159.440398       2054.706961     4     4      2   \n",
      "3          13863  ...    120.249493       2164.579412     4     4      4   \n",
      "4          11352  ...    150.761216        271.493436     4     4      4   \n",
      "...          ...  ...           ...               ...   ...   ...    ...   \n",
      "9995         640  ...    159.828800       6511.253000     3     2      3   \n",
      "9996       77168  ...    208.856400       5695.952000     4     5      5   \n",
      "9997         406  ...    168.220900       4159.306000     4     4      4   \n",
      "9998       35575  ...    252.628600       6468.457000     4     4      6   \n",
      "9999       12230  ...    218.371000       5857.586000     2     2      3   \n",
      "\n",
      "     item4 item5  item6 item7 item8  \n",
      "0        3     4      4     3     4  \n",
      "1        3     4      3     4     4  \n",
      "2        4     4      3     3     3  \n",
      "3        2     5      4     3     3  \n",
      "4        3     4      4     4     5  \n",
      "...    ...   ...    ...   ...   ...  \n",
      "9995     3     4      3     2     3  \n",
      "9996     4     4      5     2     5  \n",
      "9997     4     4      4     4     5  \n",
      "9998     4     3      3     5     4  \n",
      "9999     3     3      3     4     1  \n",
      "\n",
      "[10000 rows x 51 columns]\n"
     ]
    }
   ],
   "source": [
    "print(df)"
   ]
  }
 ],
 "metadata": {
  "kernelspec": {
   "display_name": "Python 3",
   "language": "python",
   "name": "python3"
  },
  "language_info": {
   "codemirror_mode": {
    "name": "ipython",
    "version": 3
   },
   "file_extension": ".py",
   "mimetype": "text/x-python",
   "name": "python",
   "nbconvert_exporter": "python",
   "pygments_lexer": "ipython3",
   "version": "3.8.8"
  }
 },
 "nbformat": 4,
 "nbformat_minor": 5
}
