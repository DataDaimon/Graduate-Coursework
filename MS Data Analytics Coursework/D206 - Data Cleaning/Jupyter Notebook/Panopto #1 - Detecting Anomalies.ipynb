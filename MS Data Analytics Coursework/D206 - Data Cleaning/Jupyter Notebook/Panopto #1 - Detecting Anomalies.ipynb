{
 "cells": [
  {
   "cell_type": "markdown",
   "id": "4dd1baa3",
   "metadata": {},
   "source": [
    "# Detecing Anomalies in Churn Dataset"
   ]
  },
  {
   "cell_type": "markdown",
   "id": "976f1d7d",
   "metadata": {},
   "source": [
    "### Import Libraries"
   ]
  },
  {
   "cell_type": "code",
   "execution_count": 1,
   "id": "f9377797",
   "metadata": {},
   "outputs": [],
   "source": [
    "import pandas"
   ]
  },
  {
   "cell_type": "markdown",
   "id": "3a3c9553",
   "metadata": {},
   "source": [
    "### Import churn_raw_data.csv dataset"
   ]
  },
  {
   "cell_type": "code",
   "execution_count": 2,
   "id": "eb91bd10",
   "metadata": {},
   "outputs": [],
   "source": [
    "df = pandas.read_csv('/Users/Richard/OneDrive - Western Governors University/MSDA/Databases/Churn DB/churn_raw_data.csv')"
   ]
  },
  {
   "cell_type": "markdown",
   "id": "0d97537a",
   "metadata": {},
   "source": [
    "### Verifying the Variable Types"
   ]
  },
  {
   "cell_type": "code",
   "execution_count": 3,
   "id": "9754dc06",
   "metadata": {},
   "outputs": [
    {
     "name": "stdout",
     "output_type": "stream",
     "text": [
      "Unnamed: 0                int64\n",
      "CaseOrder                 int64\n",
      "Customer_id              object\n",
      "Interaction              object\n",
      "City                     object\n",
      "State                    object\n",
      "County                   object\n",
      "Zip                       int64\n",
      "Lat                     float64\n",
      "Lng                     float64\n",
      "Population                int64\n",
      "Area                     object\n",
      "Timezone                 object\n",
      "Job                      object\n",
      "Children                float64\n",
      "Age                     float64\n",
      "Education                object\n",
      "Employment               object\n",
      "Income                  float64\n",
      "Marital                  object\n",
      "Gender                   object\n",
      "Churn                    object\n",
      "Outage_sec_perweek      float64\n",
      "Email                     int64\n",
      "Contacts                  int64\n",
      "Yearly_equip_failure      int64\n",
      "Techie                   object\n",
      "Contract                 object\n",
      "Port_modem               object\n",
      "Tablet                   object\n",
      "InternetService          object\n",
      "Phone                    object\n",
      "Multiple                 object\n",
      "OnlineSecurity           object\n",
      "OnlineBackup             object\n",
      "DeviceProtection         object\n",
      "TechSupport              object\n",
      "StreamingTV              object\n",
      "StreamingMovies          object\n",
      "PaperlessBilling         object\n",
      "PaymentMethod            object\n",
      "Tenure                  float64\n",
      "MonthlyCharge           float64\n",
      "Bandwidth_GB_Year       float64\n",
      "item1                     int64\n",
      "item2                     int64\n",
      "item3                     int64\n",
      "item4                     int64\n",
      "item5                     int64\n",
      "item6                     int64\n",
      "item7                     int64\n",
      "item8                     int64\n",
      "dtype: object\n"
     ]
    }
   ],
   "source": [
    "data = df.dtypes\n",
    "print(data)"
   ]
  },
  {
   "cell_type": "markdown",
   "id": "5c33ccbc",
   "metadata": {},
   "source": [
    "### Displaying Unique Values i.e. 'Age'"
   ]
  },
  {
   "cell_type": "code",
   "execution_count": 4,
   "id": "44ab97a7",
   "metadata": {},
   "outputs": [
    {
     "name": "stdout",
     "output_type": "stream",
     "text": [
      "55.0    128\n",
      "41.0    122\n",
      "77.0    121\n",
      "80.0    120\n",
      "57.0    120\n",
      "       ... \n",
      "87.0     92\n",
      "59.0     92\n",
      "78.0     92\n",
      "18.0     90\n",
      "47.0     87\n",
      "Name: Age, Length: 72, dtype: int64\n"
     ]
    }
   ],
   "source": [
    "data = df['Age'].value_counts()\n",
    "print(data)"
   ]
  },
  {
   "cell_type": "markdown",
   "id": "f6d42395",
   "metadata": {},
   "source": [
    "### Detecting Duplicate Values"
   ]
  },
  {
   "cell_type": "code",
   "execution_count": 5,
   "id": "ee8ae655",
   "metadata": {},
   "outputs": [
    {
     "name": "stdout",
     "output_type": "stream",
     "text": [
      "Empty DataFrame\n",
      "Columns: [Unnamed: 0, CaseOrder, Customer_id, Interaction, City, State, County, Zip, Lat, Lng, Population, Area, Timezone, Job, Children, Age, Education, Employment, Income, Marital, Gender, Churn, Outage_sec_perweek, Email, Contacts, Yearly_equip_failure, Techie, Contract, Port_modem, Tablet, InternetService, Phone, Multiple, OnlineSecurity, OnlineBackup, DeviceProtection, TechSupport, StreamingTV, StreamingMovies, PaperlessBilling, PaymentMethod, Tenure, MonthlyCharge, Bandwidth_GB_Year, item1, item2, item3, item4, item5, item6, item7, item8]\n",
      "Index: []\n",
      "\n",
      "[0 rows x 52 columns]\n"
     ]
    }
   ],
   "source": [
    "data = df.loc[df.duplicated()]\n",
    "print(data)"
   ]
  },
  {
   "cell_type": "markdown",
   "id": "fc837b85",
   "metadata": {},
   "source": [
    "### Detecting Missing Data"
   ]
  },
  {
   "cell_type": "code",
   "execution_count": 6,
   "id": "48195318",
   "metadata": {},
   "outputs": [
    {
     "name": "stdout",
     "output_type": "stream",
     "text": [
      "Unnamed: 0                 0\n",
      "CaseOrder                  0\n",
      "Customer_id                0\n",
      "Interaction                0\n",
      "City                       0\n",
      "State                      0\n",
      "County                     0\n",
      "Zip                        0\n",
      "Lat                        0\n",
      "Lng                        0\n",
      "Population                 0\n",
      "Area                       0\n",
      "Timezone                   0\n",
      "Job                        0\n",
      "Children                2495\n",
      "Age                     2475\n",
      "Education                  0\n",
      "Employment                 0\n",
      "Income                  2490\n",
      "Marital                    0\n",
      "Gender                     0\n",
      "Churn                      0\n",
      "Outage_sec_perweek         0\n",
      "Email                      0\n",
      "Contacts                   0\n",
      "Yearly_equip_failure       0\n",
      "Techie                  2477\n",
      "Contract                   0\n",
      "Port_modem                 0\n",
      "Tablet                     0\n",
      "InternetService            0\n",
      "Phone                   1026\n",
      "Multiple                   0\n",
      "OnlineSecurity             0\n",
      "OnlineBackup               0\n",
      "DeviceProtection           0\n",
      "TechSupport              991\n",
      "StreamingTV                0\n",
      "StreamingMovies            0\n",
      "PaperlessBilling           0\n",
      "PaymentMethod              0\n",
      "Tenure                   931\n",
      "MonthlyCharge              0\n",
      "Bandwidth_GB_Year       1021\n",
      "item1                      0\n",
      "item2                      0\n",
      "item3                      0\n",
      "item4                      0\n",
      "item5                      0\n",
      "item6                      0\n",
      "item7                      0\n",
      "item8                      0\n",
      "dtype: int64\n"
     ]
    }
   ],
   "source": [
    "data = df.isnull().sum()\n",
    "print(data)"
   ]
  },
  {
   "cell_type": "markdown",
   "id": "8359040b",
   "metadata": {},
   "source": [
    "### Identifying Standard Deviation"
   ]
  },
  {
   "cell_type": "code",
   "execution_count": 7,
   "id": "0f7b4125",
   "metadata": {},
   "outputs": [
    {
     "name": "stdout",
     "output_type": "stream",
     "text": [
      "Unnamed: 0               2886.895680\n",
      "CaseOrder                2886.895680\n",
      "Zip                     27532.196108\n",
      "Lat                         5.437389\n",
      "Lng                        15.156142\n",
      "Population              14432.698671\n",
      "Children                    2.154758\n",
      "Age                        20.753928\n",
      "Income                  28358.469482\n",
      "Outage_sec_perweek          7.025921\n",
      "Email                       3.025898\n",
      "Contacts                    0.988466\n",
      "Yearly_equip_failure        0.635953\n",
      "Tenure                     26.438904\n",
      "MonthlyCharge              43.335473\n",
      "Bandwidth_GB_Year        2187.396807\n",
      "item1                       1.037797\n",
      "item2                       1.034641\n",
      "item3                       1.027977\n",
      "item4                       1.025816\n",
      "item5                       1.024819\n",
      "item6                       1.033586\n",
      "item7                       1.028502\n",
      "item8                       1.028633\n",
      "dtype: float64\n"
     ]
    }
   ],
   "source": [
    "data = df.std()\n",
    "print(data)"
   ]
  },
  {
   "cell_type": "markdown",
   "id": "1f5f08bf",
   "metadata": {},
   "source": [
    "### Defining Outliers i.e. 'Children'"
   ]
  },
  {
   "cell_type": "code",
   "execution_count": 8,
   "id": "66b873b4",
   "metadata": {},
   "outputs": [
    {
     "name": "stdout",
     "output_type": "stream",
     "text": [
      "      Unnamed: 0  CaseOrder Customer_id                           Interaction  \\\n",
      "30            31         31     L357432  79b827eb-46b9-4737-8484-0b670171bc4b   \n",
      "97            98         98     N417817  832e769e-3b90-47cc-8f70-12e77fbd52a2   \n",
      "144          145        145     Q541158  f67c47f8-93da-4b90-babe-4cd9b9deebf6   \n",
      "329          330        330     T369132  bad7853a-c59b-4775-ad6d-05ff1d14c4b4   \n",
      "334          335        335     O402306  c8ffb29f-7ee4-4883-8698-f6936607cd04   \n",
      "...          ...        ...         ...                                   ...   \n",
      "9599        9600       9600     J345464  b1e94ff4-ff0c-49b8-9a9d-8065ddb10cc8   \n",
      "9623        9624       9624     Q831134  5b4ad141-b338-4638-9b10-1d0e2ce826b5   \n",
      "9790        9791       9791     U741276  5c3198d1-4138-4ba8-b0b9-652748f0c127   \n",
      "9871        9872       9872     F573675  71c2c800-8cee-434b-b60a-efa9ecbacf38   \n",
      "9901        9902       9902     O774002  569131f4-71f4-4e59-9176-e4f8f7b7bbe1   \n",
      "\n",
      "                  City State       County    Zip       Lat        Lng  ...  \\\n",
      "30          Whitesboro    NY       Oneida  13492  43.11988  -75.32875  ...   \n",
      "97         Beaverville    IL     Iroquois  60912  40.97003  -87.59935  ...   \n",
      "144         Saint Paul    MN       Ramsey  55107  44.93099  -93.07957  ...   \n",
      "329          Maryville    TN       Blount  37801  35.66815  -84.08767  ...   \n",
      "334             Salmon    ID        Lemhi  83467  45.00975 -113.89910  ...   \n",
      "...                ...   ...          ...    ...       ...        ...  ...   \n",
      "9599           Lovejoy    IL    St. Clair  62059  38.65652  -90.16503  ...   \n",
      "9623     Granada Hills    CA  Los Angeles  91344  34.29392 -118.50750  ...   \n",
      "9790  Colorado Springs    CO      El Paso  80930  38.81433 -104.50240  ...   \n",
      "9871            Holton    IN       Ripley  47023  39.07935  -85.38150  ...   \n",
      "9901            Kaaawa    HI     Honolulu  96730  21.54614 -157.85110  ...   \n",
      "\n",
      "      MonthlyCharge Bandwidth_GB_Year item1 item2  item3  item4 item5 item6  \\\n",
      "30       230.964891       1795.465729     3     2      1      5     3     3   \n",
      "97       188.611913       1956.733700     3     2      2      4     3     2   \n",
      "144      136.870564        819.419527     4     4      3      3     2     3   \n",
      "329      221.913604       1973.661316     4     3      4      2     5     3   \n",
      "334      127.617949       1451.201108     3     2      2      3     4     4   \n",
      "...             ...               ...   ...   ...    ...    ...   ...   ...   \n",
      "9599     130.854100       4968.246000     4     4      4      5     2     6   \n",
      "9623     173.170700       6432.294000     4     5      5      3     5     3   \n",
      "9790     243.035600       6900.075000     3     4      4      3     4     4   \n",
      "9871     144.145200               NaN     3     3      3      3     4     3   \n",
      "9901     223.945600       6680.275000     4     4      4      4     3     4   \n",
      "\n",
      "      item7 item8  \n",
      "30        3     2  \n",
      "97        3     2  \n",
      "144       4     2  \n",
      "329       4     3  \n",
      "334       4     5  \n",
      "...     ...   ...  \n",
      "9599      4     4  \n",
      "9623      4     2  \n",
      "9790      4     2  \n",
      "9871      4     4  \n",
      "9901      3     4  \n",
      "\n",
      "[144 rows x 52 columns]\n"
     ]
    }
   ],
   "source": [
    "children_z = (df['Children'] - df['Children'].mean()) /df['Children'].std()\n",
    "data = df.loc[(children_z > 3) | (children_z < -3)]\n",
    "print(data)"
   ]
  }
 ],
 "metadata": {
  "kernelspec": {
   "display_name": "Python 3",
   "language": "python",
   "name": "python3"
  },
  "language_info": {
   "codemirror_mode": {
    "name": "ipython",
    "version": 3
   },
   "file_extension": ".py",
   "mimetype": "text/x-python",
   "name": "python",
   "nbconvert_exporter": "python",
   "pygments_lexer": "ipython3",
   "version": "3.8.8"
  }
 },
 "nbformat": 4,
 "nbformat_minor": 5
}
